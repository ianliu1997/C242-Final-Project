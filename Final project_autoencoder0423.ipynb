{
 "cells": [
  {
   "cell_type": "markdown",
   "id": "dce06e1a-89a4-4004-9594-9a9124154ae2",
   "metadata": {},
   "source": [
    "# HIV SMILES String dataset:<br> CNNLSTMAutoencoder for new molecle generation and GCN classification"
   ]
  },
  {
   "cell_type": "markdown",
   "id": "62b9920f-b0f4-45bc-a25e-eea9a068c6e4",
   "metadata": {},
   "source": [
    "# Dealing with the Dataset"
   ]
  },
  {
   "cell_type": "markdown",
   "id": "378a46f5-eef1-4a1a-b73d-3d746410df3e",
   "metadata": {},
   "source": [
    "## Load HIV dataset"
   ]
  },
  {
   "cell_type": "code",
   "execution_count": 1,
   "id": "5564fb3e-a478-46ff-80ce-035083441cee",
   "metadata": {},
   "outputs": [],
   "source": [
    "import pandas as pd\n",
    "import seaborn as sns\n",
    "import numpy as np\n",
    "import re\n",
    "import torch\n",
    "import torch.nn as nn\n",
    "import matplotlib.pyplot as plt\n",
    "from tqdm import tqdm"
   ]
  },
  {
   "cell_type": "code",
   "execution_count": 2,
   "id": "5bfb7b7d-0098-4379-a1f4-e85683f82074",
   "metadata": {},
   "outputs": [
    {
     "data": {
      "text/html": [
       "<div>\n",
       "<style scoped>\n",
       "    .dataframe tbody tr th:only-of-type {\n",
       "        vertical-align: middle;\n",
       "    }\n",
       "\n",
       "    .dataframe tbody tr th {\n",
       "        vertical-align: top;\n",
       "    }\n",
       "\n",
       "    .dataframe thead th {\n",
       "        text-align: right;\n",
       "    }\n",
       "</style>\n",
       "<table border=\"1\" class=\"dataframe\">\n",
       "  <thead>\n",
       "    <tr style=\"text-align: right;\">\n",
       "      <th></th>\n",
       "      <th>smiles</th>\n",
       "      <th>activity</th>\n",
       "      <th>HIV_active</th>\n",
       "    </tr>\n",
       "  </thead>\n",
       "  <tbody>\n",
       "    <tr>\n",
       "      <th>0</th>\n",
       "      <td>CCC1=[O+][Cu-3]2([O+]=C(CC)C1)[O+]=C(CC)CC(CC)...</td>\n",
       "      <td>CI</td>\n",
       "      <td>0</td>\n",
       "    </tr>\n",
       "    <tr>\n",
       "      <th>1</th>\n",
       "      <td>C(=Cc1ccccc1)C1=[O+][Cu-3]2([O+]=C(C=Cc3ccccc3...</td>\n",
       "      <td>CI</td>\n",
       "      <td>0</td>\n",
       "    </tr>\n",
       "    <tr>\n",
       "      <th>2</th>\n",
       "      <td>CC(=O)N1c2ccccc2Sc2c1ccc1ccccc21</td>\n",
       "      <td>CI</td>\n",
       "      <td>0</td>\n",
       "    </tr>\n",
       "    <tr>\n",
       "      <th>3</th>\n",
       "      <td>Nc1ccc(C=Cc2ccc(N)cc2S(=O)(=O)O)c(S(=O)(=O)O)c1</td>\n",
       "      <td>CI</td>\n",
       "      <td>0</td>\n",
       "    </tr>\n",
       "    <tr>\n",
       "      <th>4</th>\n",
       "      <td>O=S(=O)(O)CCS(=O)(=O)O</td>\n",
       "      <td>CI</td>\n",
       "      <td>0</td>\n",
       "    </tr>\n",
       "  </tbody>\n",
       "</table>\n",
       "</div>"
      ],
      "text/plain": [
       "                                              smiles activity  HIV_active\n",
       "0  CCC1=[O+][Cu-3]2([O+]=C(CC)C1)[O+]=C(CC)CC(CC)...       CI           0\n",
       "1  C(=Cc1ccccc1)C1=[O+][Cu-3]2([O+]=C(C=Cc3ccccc3...       CI           0\n",
       "2                   CC(=O)N1c2ccccc2Sc2c1ccc1ccccc21       CI           0\n",
       "3    Nc1ccc(C=Cc2ccc(N)cc2S(=O)(=O)O)c(S(=O)(=O)O)c1       CI           0\n",
       "4                             O=S(=O)(O)CCS(=O)(=O)O       CI           0"
      ]
     },
     "execution_count": 2,
     "metadata": {},
     "output_type": "execute_result"
    }
   ],
   "source": [
    "df = pd.read_csv(\"HIV.csv\")\n",
    "df.head()"
   ]
  },
  {
   "cell_type": "code",
   "execution_count": 3,
   "id": "c8097ecf-c295-412d-be76-a9de1b70ed9d",
   "metadata": {},
   "outputs": [
    {
     "name": "stdout",
     "output_type": "stream",
     "text": [
      "CCC1=[O+][Cu-3]2([O+]=C(CC)C1)[O+]=C(CC)CC(CC)=[O+]2\n",
      "1\n"
     ]
    }
   ],
   "source": [
    "string = df.loc[0,'smiles']\n",
    "print(df.loc[0,'smiles'])\n",
    "print(string[3])"
   ]
  },
  {
   "cell_type": "code",
   "execution_count": 4,
   "id": "31cea31c-52cf-4566-b507-0767ce0aab0e",
   "metadata": {},
   "outputs": [
    {
     "data": {
      "text/plain": [
       "activity\n",
       "CI    39684\n",
       "CM     1039\n",
       "CA      404\n",
       "Name: count, dtype: int64"
      ]
     },
     "execution_count": 4,
     "metadata": {},
     "output_type": "execute_result"
    }
   ],
   "source": [
    "df.value_counts(\"activity\")"
   ]
  },
  {
   "cell_type": "code",
   "execution_count": 5,
   "id": "e27a4afd-35c7-469e-abdb-b82c68648b80",
   "metadata": {},
   "outputs": [
    {
     "data": {
      "text/plain": [
       "HIV_active\n",
       "0    39684\n",
       "1     1443\n",
       "Name: count, dtype: int64"
      ]
     },
     "execution_count": 5,
     "metadata": {},
     "output_type": "execute_result"
    }
   ],
   "source": [
    "df.value_counts(\"HIV_active\")"
   ]
  },
  {
   "cell_type": "markdown",
   "id": "8dd4ad79-fb96-405e-81ec-f6274c3e29e8",
   "metadata": {},
   "source": [
    "## Transform into SELFIES representation"
   ]
  },
  {
   "cell_type": "code",
   "execution_count": 6,
   "id": "0f97863d-8681-4b94-b39a-4a3b8574dac0",
   "metadata": {},
   "outputs": [],
   "source": [
    "import selfies as sf"
   ]
  },
  {
   "cell_type": "code",
   "execution_count": 7,
   "id": "fc5d1b81-ad76-40c6-b51d-a6ffd32ffab9",
   "metadata": {},
   "outputs": [],
   "source": [
    "# transform\n",
    "df_sf = df.copy()\n",
    "len_sf=[]\n",
    "for ind in range(len(df_sf['smiles'])):\n",
    "    try:\n",
    "       df_sf.loc[ind, 'smiles'] = sf.encoder(df_sf.loc[ind, 'smiles'])\n",
    "    except:\n",
    "        pass #sf.encoder error!\n",
    "\n",
    "    len_sf.append(sf.len_selfies(df_sf.loc[ind, 'smiles']))"
   ]
  },
  {
   "cell_type": "code",
   "execution_count": 8,
   "id": "29d61207-3909-4587-98af-a9f05a6420b4",
   "metadata": {},
   "outputs": [
    {
     "data": {
      "text/html": [
       "<div>\n",
       "<style scoped>\n",
       "    .dataframe tbody tr th:only-of-type {\n",
       "        vertical-align: middle;\n",
       "    }\n",
       "\n",
       "    .dataframe tbody tr th {\n",
       "        vertical-align: top;\n",
       "    }\n",
       "\n",
       "    .dataframe thead th {\n",
       "        text-align: right;\n",
       "    }\n",
       "</style>\n",
       "<table border=\"1\" class=\"dataframe\">\n",
       "  <thead>\n",
       "    <tr style=\"text-align: right;\">\n",
       "      <th></th>\n",
       "      <th>selfies</th>\n",
       "      <th>activity</th>\n",
       "      <th>HIV_active</th>\n",
       "    </tr>\n",
       "  </thead>\n",
       "  <tbody>\n",
       "    <tr>\n",
       "      <th>0</th>\n",
       "      <td>[C][C][C][=O+1][Cu-3][Branch1][#Branch2][O+1][...</td>\n",
       "      <td>CI</td>\n",
       "      <td>0</td>\n",
       "    </tr>\n",
       "    <tr>\n",
       "      <th>1</th>\n",
       "      <td>[C][=Branch1][#Branch2][=C][C][=C][C][=C][C][=...</td>\n",
       "      <td>CI</td>\n",
       "      <td>0</td>\n",
       "    </tr>\n",
       "    <tr>\n",
       "      <th>2</th>\n",
       "      <td>[C][C][=Branch1][C][=O][N][C][=C][C][=C][C][=C...</td>\n",
       "      <td>CI</td>\n",
       "      <td>0</td>\n",
       "    </tr>\n",
       "    <tr>\n",
       "      <th>3</th>\n",
       "      <td>[N][C][=C][C][=C][Branch2][Ring1][=Branch1][C]...</td>\n",
       "      <td>CI</td>\n",
       "      <td>0</td>\n",
       "    </tr>\n",
       "    <tr>\n",
       "      <th>4</th>\n",
       "      <td>[O][=S][=Branch1][C][=O][Branch1][C][O][C][C][...</td>\n",
       "      <td>CI</td>\n",
       "      <td>0</td>\n",
       "    </tr>\n",
       "  </tbody>\n",
       "</table>\n",
       "</div>"
      ],
      "text/plain": [
       "                                             selfies activity  HIV_active\n",
       "0  [C][C][C][=O+1][Cu-3][Branch1][#Branch2][O+1][...       CI           0\n",
       "1  [C][=Branch1][#Branch2][=C][C][=C][C][=C][C][=...       CI           0\n",
       "2  [C][C][=Branch1][C][=O][N][C][=C][C][=C][C][=C...       CI           0\n",
       "3  [N][C][=C][C][=C][Branch2][Ring1][=Branch1][C]...       CI           0\n",
       "4  [O][=S][=Branch1][C][=O][Branch1][C][O][C][C][...       CI           0"
      ]
     },
     "execution_count": 8,
     "metadata": {},
     "output_type": "execute_result"
    }
   ],
   "source": [
    "df_sf.rename({'smiles':'selfies'}, axis='columns', inplace=True)\n",
    "df_sf.head()"
   ]
  },
  {
   "cell_type": "code",
   "execution_count": 9,
   "id": "0a226913-d8fe-4760-b667-00a603702b72",
   "metadata": {},
   "outputs": [
    {
     "name": "stdout",
     "output_type": "stream",
     "text": [
      "[C][C][C][=O+1][Cu-3][Branch1][#Branch2][O+1][=C][Branch1][Ring1][C][C][C][Ring1][Branch2][O+1][=C][Branch1][Ring1][C][C][C][C][Branch1][Ring1][C][C][=O+1][Ring1][#C]\n"
     ]
    }
   ],
   "source": [
    "string_sf = df_sf.loc[0,'selfies']\n",
    "print(df_sf.loc[0,'selfies'])\n",
    "#print(string_sf)"
   ]
  },
  {
   "cell_type": "code",
   "execution_count": 10,
   "id": "c00b98ed-f389-4b98-86c2-929cbae166ec",
   "metadata": {},
   "outputs": [
    {
     "name": "stdout",
     "output_type": "stream",
     "text": [
      "41.75984146667639\n",
      "21.70874260604909\n"
     ]
    }
   ],
   "source": [
    "# Compute mean and standard deviation\n",
    "print(np.mean(len_sf))\n",
    "print(np.std(len_sf))"
   ]
  },
  {
   "cell_type": "code",
   "execution_count": 11,
   "id": "54d41989-4853-423c-bd68-7105a7fbbadc",
   "metadata": {},
   "outputs": [
    {
     "data": {
      "image/png": "[encoded data removed]",
      "text/plain": [
       "<Figure size 1200x600 with 1 Axes>"
      ]
     },
     "metadata": {},
     "output_type": "display_data"
    }
   ],
   "source": [
    "# Create a histogram\n",
    "plt.figure(figsize=(12, 6))\n",
    "plt.hist(len_sf, bins=range(min(len_sf), max(len_sf) + 1), alpha=0.75, edgecolor='black')\n",
    "plt.title('Histogram of SELFIES String Lengths')\n",
    "plt.xlabel('Length of SELFIES String')\n",
    "plt.ylabel('Count')\n",
    "plt.grid(axis='y', alpha=0.75)\n",
    "plt.show()"
   ]
  },
  {
   "cell_type": "markdown",
   "id": "167889c2-840f-4200-8c8c-ff69e1c8d4aa",
   "metadata": {},
   "source": [
    "# Data sampling for the CNN-LSTM Autoencoder"
   ]
  },
  {
   "cell_type": "code",
   "execution_count": 12,
   "id": "441e7761-381f-4b48-aaa6-18e786e4c3c4",
   "metadata": {},
   "outputs": [],
   "source": [
    "# Separate the dataframe into three categories\n",
    "df_CI = df_sf[df_sf['activity'] == 'CI']\n",
    "df_CM = df_sf[df_sf['activity'] == 'CM']\n",
    "df_CA = df_sf[df_sf['activity'] == 'CA']\n",
    "\n",
    "# Randomly sample 300 from each category\n",
    "sample_CI = df_CI.sample(n=300, random_state=42)  # replace 1 with your chosen seed for reproducibility\n",
    "sample_CM = df_CM.sample(n=300, random_state=42)\n",
    "sample_CA = df_CA.sample(n=300, random_state=42)\n",
    "\n",
    "# Concatenate the samples back into one DataFrame\n",
    "sampled_sf = pd.concat([sample_CI, sample_CM, sample_CA])\n",
    "\n",
    "# If you want to shuffle the combined DataFrame\n",
    "sampled_sf = sampled_sf.sample(frac=1).reset_index(drop=True)"
   ]
  },
  {
   "cell_type": "code",
   "execution_count": 13,
   "id": "127d14bf-337a-4cbc-a556-6fcba1d1d74e",
   "metadata": {},
   "outputs": [
    {
     "data": {
      "text/html": [
       "<div>\n",
       "<style scoped>\n",
       "    .dataframe tbody tr th:only-of-type {\n",
       "        vertical-align: middle;\n",
       "    }\n",
       "\n",
       "    .dataframe tbody tr th {\n",
       "        vertical-align: top;\n",
       "    }\n",
       "\n",
       "    .dataframe thead th {\n",
       "        text-align: right;\n",
       "    }\n",
       "</style>\n",
       "<table border=\"1\" class=\"dataframe\">\n",
       "  <thead>\n",
       "    <tr style=\"text-align: right;\">\n",
       "      <th></th>\n",
       "      <th>selfies</th>\n",
       "      <th>activity</th>\n",
       "      <th>HIV_active</th>\n",
       "    </tr>\n",
       "  </thead>\n",
       "  <tbody>\n",
       "    <tr>\n",
       "      <th>0</th>\n",
       "      <td>[C][O][C][=C][C][=C][C][Branch2][Ring1][Ring1]...</td>\n",
       "      <td>CI</td>\n",
       "      <td>0</td>\n",
       "    </tr>\n",
       "    <tr>\n",
       "      <th>1</th>\n",
       "      <td>[C][N][C][C][C][Branch1][C][O][C][Branch2][Rin...</td>\n",
       "      <td>CM</td>\n",
       "      <td>1</td>\n",
       "    </tr>\n",
       "    <tr>\n",
       "      <th>2</th>\n",
       "      <td>[C][C][=C][C][=C][Branch2][Ring1][#C][N][N][=C...</td>\n",
       "      <td>CI</td>\n",
       "      <td>0</td>\n",
       "    </tr>\n",
       "    <tr>\n",
       "      <th>3</th>\n",
       "      <td>[C][C][C][=C][Branch1][S][C][C][=C][C][Branch1...</td>\n",
       "      <td>CA</td>\n",
       "      <td>1</td>\n",
       "    </tr>\n",
       "    <tr>\n",
       "      <th>4</th>\n",
       "      <td>[C][O][C][C][C][C][C][C][C][C][C][C][C][C][=Br...</td>\n",
       "      <td>CA</td>\n",
       "      <td>1</td>\n",
       "    </tr>\n",
       "  </tbody>\n",
       "</table>\n",
       "</div>"
      ],
      "text/plain": [
       "                                             selfies activity  HIV_active\n",
       "0  [C][O][C][=C][C][=C][C][Branch2][Ring1][Ring1]...       CI           0\n",
       "1  [C][N][C][C][C][Branch1][C][O][C][Branch2][Rin...       CM           1\n",
       "2  [C][C][=C][C][=C][Branch2][Ring1][#C][N][N][=C...       CI           0\n",
       "3  [C][C][C][=C][Branch1][S][C][C][=C][C][Branch1...       CA           1\n",
       "4  [C][O][C][C][C][C][C][C][C][C][C][C][C][C][=Br...       CA           1"
      ]
     },
     "execution_count": 13,
     "metadata": {},
     "output_type": "execute_result"
    }
   ],
   "source": [
    "sampled_sf.head()"
   ]
  },
  {
   "cell_type": "markdown",
   "id": "a4c2c643-bbab-44e4-99fc-788036e7ce38",
   "metadata": {},
   "source": [
    "## Padding, tokenization, and embedding"
   ]
  },
  {
   "cell_type": "code",
   "execution_count": 14,
   "id": "d9d37d74-29a1-4daf-9770-4053897ce059",
   "metadata": {},
   "outputs": [],
   "source": [
    "from torch.nn.utils.rnn import pad_sequence"
   ]
  },
  {
   "cell_type": "code",
   "execution_count": 15,
   "id": "e41a9abb-b595-49e4-b819-96fd5a7a0513",
   "metadata": {},
   "outputs": [],
   "source": [
    "def split_selfies(string_sf):\n",
    "    # This regex matches anything inside brackets\n",
    "    selfies_elements = re.findall(r'\\[.*?]', string_sf)\n",
    "    return selfies_elements\n",
    "\n",
    "'''\n",
    "# Example usage:\n",
    "string_sf = df_sf.loc[0, 'selfies']\n",
    "selfies_list = split_selfies(string_sf)\n",
    "print(selfies_list)\n",
    "'''\n",
    "\n",
    "def pad_start_end_token(dataset):\n",
    "    \"\"\"\n",
    "    Pad a list of SMILES with \"SOS\" and \"EOS\" token\n",
    "    \n",
    "    Parameters\n",
    "    ----------\n",
    "    smiles: list of str\n",
    "        A list containing SMILES strings to pad\n",
    "    \n",
    "    Returns\n",
    "    ------\n",
    "    padded: list of list of str\n",
    "        A list containing padded SMILES strings. Example: [['SOS', 'C', 'EOS'], ...]\n",
    "    \"\"\"\n",
    "    padded = []\n",
    "    for ind in range(len(dataset['selfies'])):\n",
    "        padded.append([\"[SOS]\"] + split_selfies(df_sf.loc[ind, 'selfies']) + [\"[EOS]\"])\n",
    "    return padded"
   ]
  },
  {
   "cell_type": "code",
   "execution_count": 16,
   "id": "eae9b28d-c6ba-4fa5-bb04-f1a4a48a4365",
   "metadata": {},
   "outputs": [
    {
     "data": {
      "text/plain": [
       "{'[#Branch1]': 0,\n",
       " '[#Branch2]': 1,\n",
       " '[#C]': 2,\n",
       " '[#N]': 3,\n",
       " '[=As]': 4,\n",
       " '[=Branch1]': 5,\n",
       " '[=Branch2]': 6,\n",
       " '[=C]': 7,\n",
       " '[=N+1]': 8,\n",
       " '[=N]': 9,\n",
       " '[=O+1]': 10,\n",
       " '[=O]': 11,\n",
       " '[=P]': 12,\n",
       " '[=Ring1]': 13,\n",
       " '[=Ring2]': 14,\n",
       " '[=S+1]': 15,\n",
       " '[=S]': 16,\n",
       " '[Al]': 17,\n",
       " '[As]': 18,\n",
       " '[B]': 19,\n",
       " '[Br]': 20,\n",
       " '[Branch1]': 21,\n",
       " '[Branch2]': 22,\n",
       " '[C]': 23,\n",
       " '[Cl+3]': 24,\n",
       " '[Cl]': 25,\n",
       " '[Co-4]': 26,\n",
       " '[Cu-3]': 27,\n",
       " '[Cu-5]': 28,\n",
       " '[EOS]': 29,\n",
       " '[F]': 30,\n",
       " '[Fe-2]': 31,\n",
       " '[Fe-3]': 32,\n",
       " '[Fe-4]': 33,\n",
       " '[Hg-1]': 34,\n",
       " '[Hg-2]': 35,\n",
       " '[Hg]': 36,\n",
       " '[I]': 37,\n",
       " '[Li]': 38,\n",
       " '[Mn]': 39,\n",
       " '[N+1]': 40,\n",
       " '[N-1]': 41,\n",
       " '[NH1]': 42,\n",
       " '[N]': 43,\n",
       " '[Ni-2]': 44,\n",
       " '[Ni-4]': 45,\n",
       " '[O+1]': 46,\n",
       " '[O-1]': 47,\n",
       " '[O]': 48,\n",
       " '[PH1]': 49,\n",
       " '[P]': 50,\n",
       " '[Pd-2]': 51,\n",
       " '[Ring1]': 52,\n",
       " '[Ring2]': 53,\n",
       " '[S+1]': 54,\n",
       " '[SOS]': 55,\n",
       " '[S]': 56,\n",
       " '[Sb]': 57,\n",
       " '[Se]': 58,\n",
       " '[SiH1]': 59,\n",
       " '[Si]': 60,\n",
       " '[Sn]': 61,\n",
       " '[V-1]': 62,\n",
       " '[Zn-2]': 63,\n",
       " '[Zr]': 64}"
      ]
     },
     "execution_count": 16,
     "metadata": {},
     "output_type": "execute_result"
    }
   ],
   "source": [
    "padded_sf = pad_start_end_token(sampled_sf)\n",
    "vocab = {element: idx for idx, element in enumerate(np.unique(np.concatenate(padded_sf)))}\n",
    "vocab\n",
    "#padded_sf[0]"
   ]
  },
  {
   "cell_type": "code",
   "execution_count": 17,
   "id": "7fce09d2-006e-48fc-b2c0-98b6af04af93",
   "metadata": {},
   "outputs": [],
   "source": [
    "def tokenize_selfies(selfies_list, vocab):\n",
    "    \"\"\"Convert a list of SELFIES elements to a list of indices based on the vocabulary (One-hot encoding).\"\"\"\n",
    "    return [vocab[element] for element in selfies_list if element in vocab]\n",
    "\n",
    "\n",
    "\n",
    "class SelfiesEmbedding(nn.Module):\n",
    "    def __init__(self, vocab_size, embedding_dim):\n",
    "        super(SelfiesEmbedding, self).__init__()\n",
    "        self.embedding = nn.Embedding(num_embeddings=vocab_size, embedding_dim=embedding_dim)\n",
    "\n",
    "    def forward(self, x):\n",
    "        return self.embedding(x)"
   ]
  },
  {
   "cell_type": "code",
   "execution_count": 18,
   "id": "cee300f9-11b9-406b-b17a-e8ac23f646e3",
   "metadata": {},
   "outputs": [],
   "source": [
    "tokenized_selfies = [tokenize_selfies(selfies, vocab) for selfies in padded_sf]\n",
    "\n",
    "# Instantiate the embedding layer\n",
    "vocab_size = len(vocab)  # Size of the vocabulary\n",
    "embedding_dim = 64  # The size of each embedding vector, which you can choose\n",
    "\n",
    "\n",
    "selfies_embedding_layer = SelfiesEmbedding(vocab_size, embedding_dim)\n",
    "\n",
    "# Convert a list of tokenized selfies to a tensor and pass it through the embedding layer\n",
    "# Pad the sequences to the same length to create a tensor\n",
    "padded_tokenized_selfies = pad_sequence([torch.tensor(ts) for ts in tokenized_selfies],\n",
    "                                        batch_first=True,\n",
    "                                        padding_value=0)  # assuming 0 is the padding index\n",
    "\n",
    "# Get embeddings for the batch of tokenized SELFIES\n",
    "embedded_selfies = selfies_embedding_layer(padded_tokenized_selfies)"
   ]
  },
  {
   "cell_type": "code",
   "execution_count": 19,
   "id": "2e769892-4f70-49ff-a772-27044fd5c7a6",
   "metadata": {},
   "outputs": [
    {
     "name": "stdout",
     "output_type": "stream",
     "text": [
      "The information of SELFIES dataset after tokenized (length of selfies, maximum length of tokenized_selfies, minimum length of tokenized_selfies):\n",
      "900 169 4\n",
      "The information of SELFIES dataset after tokenized (length of selfies, maximum length of padded_tk_selfies, minimum length of padded_tk_selfies):\n",
      "900 169 169\n",
      "torch.Size([900, 169, 64])\n"
     ]
    }
   ],
   "source": [
    "# Find the maximum and minimum length of the tokenized sequences\n",
    "max_length_tk_selfies = max(len(sequence) for sequence in tokenized_selfies)\n",
    "min_length_tk_selfies = min(len(sequence) for sequence in tokenized_selfies)\n",
    "print(f\"The information of SELFIES dataset after tokenized\",\n",
    "      f\"(length of selfies, maximum length of tokenized_selfies, minimum length of tokenized_selfies):\")\n",
    "print(len(tokenized_selfies),max_length_tk_selfies,min_length_tk_selfies)\n",
    "\n",
    "\n",
    "# Find the maximum and minimum length of the tokenized sequences\n",
    "max_length_pt_selfies = max(len(tensor) for tensor in padded_tokenized_selfies)\n",
    "min_length_pt_selfies = min(len(tensor) for tensor in padded_tokenized_selfies)\n",
    "print(f\"The information of SELFIES dataset after tokenized\",\n",
    "      f\"(length of selfies, maximum length of padded_tk_selfies, minimum length of padded_tk_selfies):\")\n",
    "print(len(padded_tokenized_selfies), max_length_pt_selfies, min_length_pt_selfies)\n",
    "\n",
    "print(embedded_selfies.shape)"
   ]
  },
  {
   "cell_type": "markdown",
   "id": "79508872-b40a-490e-921c-2c68a66cc477",
   "metadata": {},
   "source": [
    "## CNN-LSTM Autoencoder"
   ]
  },
  {
   "cell_type": "markdown",
   "id": "1b1a0259-c73b-4f86-8b14-594c0441a7fe",
   "metadata": {},
   "source": [
    "**Reference:** <br>\r\n",
    "“Convolutional, Long Short-Term Memory, Fully Connected Deep Neural Networks.” IEEE Conference Publication | IEEE Xplore, 1 Apr. 2015, ieeexplore.ieee.org/document/7178838/authors#authors."
   ]
  },
  {
   "cell_type": "code",
   "execution_count": 20,
   "id": "40db2b3e-2edb-41f0-99ae-97f86471495e",
   "metadata": {},
   "outputs": [],
   "source": [
    "from torch.utils.data import Dataset\n",
    "from torch.utils.data import DataLoader\n",
    "from sklearn.model_selection import train_test_split\n",
    "import torch.nn.functional as F"
   ]
  },
  {
   "cell_type": "code",
   "execution_count": 21,
   "id": "def1557a-7c6b-493f-b198-0cd931521e71",
   "metadata": {},
   "outputs": [],
   "source": [
    "class SelfiesDataset(Dataset):\n",
    "    def __init__(self, data):\n",
    "        # Assuming data is a 3D tensor of shape (batch_size, sequence_length, embedding_dim)\n",
    "        self.data = data\n",
    "    \n",
    "    def __len__(self):\n",
    "        return self.data.shape[0]\n",
    "    \n",
    "    def __getitem__(self, idx):\n",
    "        # Assuming that the last dimension is the features/embedding dimension\n",
    "        x = self.data[idx, :-1, :]  # All but the last feature. Use LSTM to predict the last position of series strings\n",
    "        y = self.data[idx, 1:, :]   # All but the first feature (assuming you're predicting the next feature)\n",
    "\n",
    "        '''\n",
    "        For the calcuation of dimensionality\n",
    "        #print(f\"the shape of X:\", x.shape)\n",
    "        #print(f\"the shape of y:\", y.shape)\n",
    "        '''\n",
    "        \n",
    "        return x,y\n"
   ]
  },
  {
   "cell_type": "code",
   "execution_count": 22,
   "id": "18d7c008-715e-4ba8-b581-ec78af6a9864",
   "metadata": {},
   "outputs": [],
   "source": [
    "# Initialize dataset\n",
    "\n",
    "# Split the data into training and validation sets\n",
    "# Split indices into training and validation sets\n",
    "train_indices, val_indices = train_test_split(range(len(embedded_selfies)), test_size=0.1, random_state=42)\n",
    "\n",
    "# Create two separate datasets\n",
    "train_dataset = torch.utils.data.Subset(SelfiesDataset(embedded_selfies), train_indices)\n",
    "val_dataset = torch.utils.data.Subset(SelfiesDataset(embedded_selfies), val_indices)"
   ]
  },
  {
   "cell_type": "code",
   "execution_count": 23,
   "id": "a8f7d987-541f-4ad8-af6a-f3614b9e2fee",
   "metadata": {},
   "outputs": [
    {
     "data": {
      "text/plain": [
       "169"
      ]
     },
     "execution_count": 23,
     "metadata": {},
     "output_type": "execute_result"
    }
   ],
   "source": [
    "# Calculate the dimension of CNN to ensure generating the length of strings\n",
    "def CNN_out_dim(in_dim, kernel_size, padding, stride, dilation):\n",
    "    return (in_dim + 2 * padding - dilation * (kernel_size - 1) - 1) // stride + 1\n",
    "sequence_length = 169\n",
    "Conv1d_out = CNN_out_dim(sequence_length, kernel_size=5, padding=2, stride=1, dilation=1)\n",
    "Conv1d_out"
   ]
  },
  {
   "cell_type": "code",
   "execution_count": 24,
   "id": "c33395bd-2e0c-4ac5-bd2f-31979cd2f677",
   "metadata": {},
   "outputs": [],
   "source": [
    "# Model\n",
    "\n",
    "class CNNLSTMEncoder(nn.Module):\n",
    "    def __init__(self, input_dim, cnn_channels, kernel_size, lstm_hidden_size, sequence_length,lstm_num_layers):\n",
    "        super(CNNLSTMEncoder, self).__init__()\n",
    "        self.sequence_length = sequence_length\n",
    "        self.lstm_hidden_size = lstm_hidden_size\n",
    "        self.lstm_num_layers = lstm_num_layers\n",
    "        self.cnn = nn.Conv1d(\n",
    "            in_channels=input_dim, out_channels=cnn_channels,kernel_size=kernel_size, stride=1, padding=2\n",
    "        )\n",
    "        self.relu = nn.ReLU()\n",
    "        self.lstm = nn.LSTM(\n",
    "            input_size=cnn_channels, hidden_size=lstm_hidden_size, num_layers=lstm_num_layers, batch_first=True\n",
    "        )\n",
    "\n",
    "        # Additional layers to get the mean and log variance\n",
    "        actual_length = sequence_length-1\n",
    "        self.mu = nn.Linear(lstm_hidden_size * actual_length, latent_dims)\n",
    "        self.log_var = nn.Linear(lstm_hidden_size * actual_length, latent_dims)\n",
    "\n",
    "        device = torch.device(\"cuda\" if torch.cuda.is_available() else \"cpu\")\n",
    "\n",
    "    def forward(self, x):\n",
    "        batch_size = x.size(0)\n",
    "        x = x.transpose(1, 2)  # Reshape to (batch_size, input_dim, sequence_length)\n",
    "        cnn_out = self.relu(self.cnn(x))\n",
    "        cnn_out = cnn_out.transpose(1, 2)  # Reshape to (batch_size, sequence_length, cnn_channels)\n",
    "        lstm_out, _ = self.lstm(cnn_out)\n",
    "        \n",
    "        '''\n",
    "        #For the calculation of dimensionality:\n",
    "        print(f\"sequence_length:\", sequence_length)\n",
    "        print(f\"input shape:\", x.shape)\n",
    "        print(f\"batch size:\", batch_size)\n",
    "        print(f\"input size after transpose:\", x.shape)\n",
    "        print(f\"output size after CNN and relu:\", cnn_out.shape)\n",
    "        print(f\"size before the lstm:\", cnn_out.shape)\n",
    "        print(f\"lstm_out:\", lstm_out.shape)\n",
    "        print(f\"lstm_hidden_size:\", lstm_hidden_size)\n",
    "        print(f\"sequence_length:\", sequence_length)\n",
    "        print(f\"lstm_out_flat size:\", lstm_out_flat.size())  # Debug print statement\n",
    "        print(f\"mu and log_var size:\", mu.shape)\n",
    "        '''\n",
    "        \n",
    "        # Flatten the output of LSTM to connect to fully connected layers\n",
    "        lstm_out_flat = lstm_out.contiguous().view(batch_size, -1)\n",
    "        mu = self.mu(lstm_out_flat).to(device)\n",
    "        log_var = self.log_var(lstm_out_flat).to(device)\n",
    "        return mu, log_var\n",
    "\n",
    "    def init_hidden(self, batch_size):\n",
    "        return (torch.zeros(self.num_layers, batch_size, self.lstm_hidden_size), \n",
    "                torch.zeros(self.num_layers, batch_size, self.lstm_hidden_size))\n",
    "\n",
    "class CNNLSTMDecoder(nn.Module):\n",
    "    def __init__(self, input_dim, cnn_channels, kernel_size, lstm_hidden_size, sequence_length,lstm_num_layers):\n",
    "        super(CNNLSTMDecoder, self).__init__()\n",
    "        self.sequence_length = sequence_length\n",
    "        self.lstm_num_layers = lstm_num_layers\n",
    "        self.lstm_hidden_size = lstm_hidden_size\n",
    "        self.lstm = nn.LSTM(\n",
    "            input_size=lstm_hidden_size, hidden_size=lstm_hidden_size, num_layers=lstm_num_layers, batch_first=True\n",
    "        )\n",
    "        self.relu = nn.ReLU()\n",
    "        self.cnn = nn.ConvTranspose1d(\n",
    "            in_channels=lstm_hidden_size, out_channels=input_dim, kernel_size=kernel_size, padding=kernel_size // 2\n",
    "        )\n",
    "        actual_length = sequence_length-1\n",
    "        self.translinear = nn.Linear(latent_dims, lstm_hidden_size * actual_length)\n",
    "        self.unflatten = nn.Unflatten(1, (actual_length, lstm_hidden_size))\n",
    "\n",
    "    def forward(self, x):\n",
    "        batch_size = x.size(0)\n",
    "        #print(f\"input shape:\", x.shape)\n",
    "        linear_out = self.translinear(x)\n",
    "        unflatten_out = self.unflatten(linear_out)\n",
    "        lstm_out, _ = self.lstm(unflatten_out)\n",
    "        lstm_out = lstm_out.transpose(1, 2)  # Reshape to (batch_size, lstm_hidden_size, sequence_length)\n",
    "        cnn_out = self.relu(self.cnn(lstm_out))\n",
    "        cnn_out = cnn_out.transpose(1, 2)  # Reshape to (batch_size, sequence_length, input_dim)\n",
    "        #print(cnn_out.shape)\n",
    "        return cnn_out\n",
    "\n",
    "    def init_hidden(self, batch_size):\n",
    "        return (torch.zeros(self.num_layers, batch_size, self.lstm_hidden_size), \n",
    "                torch.zeros(self.num_layers, batch_size, self.lstm_hidden_size))\n",
    "\n",
    "class CNNLSTMVAE(nn.Module):\n",
    "    def __init__(self, input_dim, cnn_channels, kernel_size, lstm_hidden_size, sequence_length, latent_dims, lstm_num_layers):\n",
    "        super(CNNLSTMVAE, self).__init__()\n",
    "        self.encoder = CNNLSTMEncoder(\n",
    "            input_dim, cnn_channels, kernel_size, lstm_hidden_size, sequence_length, lstm_num_layers\n",
    "        )\n",
    "        self.decoder = CNNLSTMDecoder(\n",
    "            input_dim, cnn_channels, kernel_size, lstm_hidden_size, sequence_length, lstm_num_layers\n",
    "        )\n",
    "\n",
    "        device = torch.device(\"cuda\" if torch.cuda.is_available() else \"cpu\")\n",
    "        self.encoder = self.encoder.to(device)\n",
    "        self.decoder = self.decoder.to(device)\n",
    "        \n",
    "        # Reparameterization trick\n",
    "        self.latent_dims = latent_dims\n",
    "        self.lstm_hidden_size = lstm_hidden_size\n",
    "        self.lstm_num_layers = lstm_num_layers\n",
    "        \n",
    "    def reparameterize(self, mu, log_var):\n",
    "        std = torch.exp(0.5 * log_var).to(device)\n",
    "        eps = torch.randn_like(std).to(device)\n",
    "        return mu + eps * std\n",
    "\n",
    "    def forward(self, x):\n",
    "        mu, log_var = self.encoder(x)\n",
    "        #print(f\"Encoder is completed\",mu.is_cuda, log_var.is_cuda)\n",
    "        z = self.reparameterize(mu, log_var)\n",
    "        #print(f\"Reparameterize is completed\",z.is_cuda,z.shape)\n",
    "        # The decoder will remain the same, but now it takes 'z' as input\n",
    "        decoded = self.decoder(z)\n",
    "        return decoded, mu, log_var\n",
    "\n",
    "    def init_hidden(self, batch_size):\n",
    "        return (torch.zeros(self.lstm_num_layers, batch_size, self.lstm_hidden_size), \n",
    "                torch.zeros(self.lstm_num_layers, batch_size, self.lstm_hidden_size))"
   ]
  },
  {
   "cell_type": "code",
   "execution_count": 25,
   "id": "734958e7-9da6-4770-9d74-5fd157c80b58",
   "metadata": {},
   "outputs": [],
   "source": [
    "# loss function\n",
    "\n",
    "def kld_loss_func(mu, sigma):\n",
    "    \"\"\"\n",
    "    KL-Divergence: KLD = 0.5 * sum(\\mu^2 + \\sigma^2 - ln(\\sigma^2) - 1)\n",
    "    \n",
    "    Parameters\n",
    "    ----------\n",
    "    mu: torch.Tensor\n",
    "        Mean vector in the VAE bottleneck region\n",
    "    sigma: torch.Tensor\n",
    "        Standard Deviation vector in the VAE bottleneck region\n",
    "    \n",
    "    Return\n",
    "    ------\n",
    "    kld: torch.Tensor\n",
    "        KL-Divegence loss (a scalar)\n",
    "    \"\"\"\n",
    "    return 0.5 * torch.sum(mu**2 + sigma**2 - torch.log(sigma**2) - 1)\n",
    "\n",
    "\n",
    "def vae_loss_func(recon_x, x, mu, sigma):\n",
    "\n",
    "    bce_loss = econ_loss = F.mse_loss(recon_x, x, reduction='mean')\n",
    "    kld_loss = kld_loss_func(mu, sigma)\n",
    "\n",
    "    return bce_loss + kld_loss"
   ]
  },
  {
   "cell_type": "code",
   "execution_count": 26,
   "id": "a492f697-384f-40cd-9612-e2601f1725a5",
   "metadata": {},
   "outputs": [],
   "source": [
    "# The hyperparameter\n",
    "\n",
    "'''\n",
    "input_dim: Match the embedding dimension\n",
    "cnn_channels: Number of CNN channels\n",
    "kernel_size: Kernel size for the CNN\n",
    "lstm_hidden_size: Hidden size for the LSTM\n",
    "sequence_length: The length of the padded sequences\n",
    "'''\n",
    "\n",
    "input_dim = embedding_dim\n",
    "cnn_channels = 16\n",
    "kernel_size = 5  \n",
    "lstm_hidden_size = 256  \n",
    "sequence_length = 169\n",
    "num_epochs = 15\n",
    "learning_rate=1e-3\n",
    "l2=1e-5\n",
    "latent_dims=256\n",
    "batch_sizes=32\n",
    "lstm_num_layers=1\n",
    "\n",
    "device = torch.device(\"cuda\" if torch.cuda.is_available() else \"cpu\")\n",
    "CLvae = CNNLSTMVAE(\n",
    "    input_dim, cnn_channels, kernel_size, lstm_hidden_size, sequence_length, latent_dims, lstm_num_layers\n",
    ").to(device)"
   ]
  },
  {
   "cell_type": "code",
   "execution_count": 27,
   "id": "c7043e79-8e01-44b2-8a44-345dcee9e183",
   "metadata": {},
   "outputs": [],
   "source": [
    "# VAE trainer\n",
    "\n",
    "class VAETrainer:\n",
    "    \n",
    "    def __init__(self, model, learning_rate, batch_size, epoch, l2):\n",
    "        self.model = model\n",
    "        # use cuda if it is available\n",
    "        if torch.cuda.is_available():\n",
    "            model = model.cuda()  #  model\n",
    "            \n",
    "        # calulate the number of parameters    \n",
    "        num_params = sum(item.numel() for item in model.parameters())\n",
    "        print(f\"{model.__class__.__name__} - Number of parameters: {num_params}\")\n",
    "        \n",
    "        self.optimizer = torch.optim.Adam(model.parameters(), lr=learning_rate, weight_decay=l2)\n",
    "        \n",
    "        self.epoch = epoch\n",
    "        self.batch_size = batch_size\n",
    "        \n",
    "\n",
    "    \n",
    "    def train(self, train_data, val_data, early_stop=True, verbose=True, draw_curve=True):\n",
    "        train_loader = DataLoader(train_data, batch_size=self.batch_size, shuffle=True)\n",
    "        \n",
    "        train_loss_list = []\n",
    "        val_loss_list = []\n",
    "        \n",
    "        weights = self.model.state_dict()\n",
    "        lowest_val_loss = np.inf\n",
    "\n",
    "        for n in tqdm(range(self.epoch), leave=False):\n",
    "            self.model.train()\n",
    "            epoch_loss = 0.0\n",
    "            for X_batch, y_batch in train_loader:\n",
    "                if torch.cuda.is_available():\n",
    "                    X_batch, y_batch = X_batch.cuda(), y_batch.cuda()\n",
    "\n",
    "                #print(X_batch.shape)\n",
    "                batch_importance = 1 / len(train_data)\n",
    "                # call the model\n",
    "                hidden = self.model.init_hidden(y_batch.shape[0])\n",
    "                self.model.hidden = self.model.init_hidden(y_batch.shape[0])\n",
    "                X_batch_recon, mu, sigma = self.model(X_batch)\n",
    "                batch_loss = vae_loss_func(X_batch_recon, X_batch, mu, sigma)\n",
    "\n",
    "                self.optimizer.zero_grad()\n",
    "                batch_loss.backward(retain_graph=True)\n",
    "                self.optimizer.step()\n",
    "                \n",
    "                epoch_loss += batch_loss.detach().cpu().item() * batch_importance\n",
    "            \n",
    "            train_loss_list.append(epoch_loss)\n",
    "            \n",
    "            val_loss = self.evaluate(val_data, print_loss=False)\n",
    "            val_loss_list.append(val_loss)\n",
    "            \n",
    "            if early_stop:\n",
    "                if val_loss < lowest_val_loss:\n",
    "                    lowest_val_loss = val_loss\n",
    "                    weights = self.model.state_dict()\n",
    "            \n",
    "        if draw_curve:\n",
    "            x_axis = np.arange(self.epoch)\n",
    "            fig, ax = plt.subplots(1, 1, figsize=(5, 4))\n",
    "            ax.plot(x_axis, train_loss_list, label=\"Train\")\n",
    "            ax.plot(x_axis, val_loss_list, label=\"Validation\")\n",
    "            ax.set_title(\"Total Loss\")\n",
    "            ax.set_xlabel(\"# Epoch\")\n",
    "        \n",
    "        if early_stop:\n",
    "            self.model.load_state_dict(weights)\n",
    "        \n",
    "        return {\n",
    "            \"train_loss_list\": train_loss_list,\n",
    "            \"val_loss_list\": val_loss_list,\n",
    "        }\n",
    "    \n",
    "    def evaluate(self, data, print_loss=True):\n",
    "        self.model.eval()\n",
    "        loader = DataLoader(data, batch_size=self.batch_size)\n",
    "        total_loss = 0.0\n",
    "        for X_batch, y_batch in loader:\n",
    "            if torch.cuda.is_available():\n",
    "                 X_batch, y_batch = X_batch.cuda(), y_batch.cuda()\n",
    "            \n",
    "            with torch.no_grad():\n",
    "                batch_importance = 1 / len(data)\n",
    "                X_batch_recon, mu, sigma = self.model(X_batch)\n",
    "                batch_loss = vae_loss_func(X_batch_recon, X_batch, mu, sigma)\n",
    "                total_loss += batch_loss.detach().cpu().item() * batch_importance\n",
    "        if print_loss:\n",
    "            print(f\"Total Loss: {total_loss}\")\n",
    "        return total_loss"
   ]
  },
  {
   "cell_type": "code",
   "execution_count": 28,
   "id": "bcb57045-9c69-40fc-b4d3-7e1715dd5b5e",
   "metadata": {},
   "outputs": [
    {
     "name": "stdout",
     "output_type": "stream",
     "text": [
      "CNNLSTMVAE - Number of parameters: 33967696\n"
     ]
    },
    {
     "name": "stderr",
     "output_type": "stream",
     "text": [
      "                                               \r"
     ]
    },
    {
     "data": {
      "image/png": "[encoded data removed]",
      "text/plain": [
       "<Figure size 500x400 with 1 Axes>"
      ]
     },
     "metadata": {},
     "output_type": "display_data"
    }
   ],
   "source": [
    "# Train the model\n",
    "\n",
    "trainer = VAETrainer(model=CLvae, learning_rate=1e-3 ,  batch_size=32,  epoch=10, l2=1e-5)\n",
    "# Train the VAE model with the trainer class\n",
    "history = trainer.train(train_dataset, val_dataset)"
   ]
  },
  {
   "cell_type": "code",
   "execution_count": null,
   "id": "6bd6a2fa-28aa-43cc-a124-f6e088eb1d85",
   "metadata": {},
   "outputs": [],
   "source": []
  }
 ],
 "metadata": {
  "kernelspec": {
   "display_name": "C242",
   "language": "python",
   "name": "c242"
  },
  "language_info": {
   "codemirror_mode": {
    "name": "ipython",
    "version": 3
   },
   "file_extension": ".py",
   "mimetype": "text/x-python",
   "name": "python",
   "nbconvert_exporter": "python",
   "pygments_lexer": "ipython3",
   "version": "3.8.18"
  }
 },
 "nbformat": 4,
 "nbformat_minor": 5
}
