{
 "cells": [
  {
   "cell_type": "markdown",
   "id": "8a7d1e80-cfdd-40da-bc46-ec2b44db0c7f",
   "metadata": {},
   "source": [
    "## Load HIV dataset"
   ]
  },
  {
   "cell_type": "code",
   "execution_count": 16,
   "id": "d5369fcc-7cef-4e51-bd2c-5f8a3e350e02",
   "metadata": {},
   "outputs": [],
   "source": [
    "import pandas as pd\n",
    "import seaborn as sns\n",
    "import numpy as np\n",
    "import re\n",
    "import torch\n",
    "import torch.nn as nn\n",
    "import matplotlib.pyplot as plt"
   ]
  },
  {
   "cell_type": "code",
   "execution_count": 17,
   "id": "2e749e01-8963-455e-8f86-154a0ad10153",
   "metadata": {},
   "outputs": [
    {
     "data": {
      "text/html": [
       "<div>\n",
       "<style scoped>\n",
       "    .dataframe tbody tr th:only-of-type {\n",
       "        vertical-align: middle;\n",
       "    }\n",
       "\n",
       "    .dataframe tbody tr th {\n",
       "        vertical-align: top;\n",
       "    }\n",
       "\n",
       "    .dataframe thead th {\n",
       "        text-align: right;\n",
       "    }\n",
       "</style>\n",
       "<table border=\"1\" class=\"dataframe\">\n",
       "  <thead>\n",
       "    <tr style=\"text-align: right;\">\n",
       "      <th></th>\n",
       "      <th>smiles</th>\n",
       "      <th>activity</th>\n",
       "      <th>HIV_active</th>\n",
       "    </tr>\n",
       "  </thead>\n",
       "  <tbody>\n",
       "    <tr>\n",
       "      <th>0</th>\n",
       "      <td>CCC1=[O+][Cu-3]2([O+]=C(CC)C1)[O+]=C(CC)CC(CC)...</td>\n",
       "      <td>CI</td>\n",
       "      <td>0</td>\n",
       "    </tr>\n",
       "    <tr>\n",
       "      <th>1</th>\n",
       "      <td>C(=Cc1ccccc1)C1=[O+][Cu-3]2([O+]=C(C=Cc3ccccc3...</td>\n",
       "      <td>CI</td>\n",
       "      <td>0</td>\n",
       "    </tr>\n",
       "    <tr>\n",
       "      <th>2</th>\n",
       "      <td>CC(=O)N1c2ccccc2Sc2c1ccc1ccccc21</td>\n",
       "      <td>CI</td>\n",
       "      <td>0</td>\n",
       "    </tr>\n",
       "    <tr>\n",
       "      <th>3</th>\n",
       "      <td>Nc1ccc(C=Cc2ccc(N)cc2S(=O)(=O)O)c(S(=O)(=O)O)c1</td>\n",
       "      <td>CI</td>\n",
       "      <td>0</td>\n",
       "    </tr>\n",
       "    <tr>\n",
       "      <th>4</th>\n",
       "      <td>O=S(=O)(O)CCS(=O)(=O)O</td>\n",
       "      <td>CI</td>\n",
       "      <td>0</td>\n",
       "    </tr>\n",
       "  </tbody>\n",
       "</table>\n",
       "</div>"
      ],
      "text/plain": [
       "                                              smiles activity  HIV_active\n",
       "0  CCC1=[O+][Cu-3]2([O+]=C(CC)C1)[O+]=C(CC)CC(CC)...       CI           0\n",
       "1  C(=Cc1ccccc1)C1=[O+][Cu-3]2([O+]=C(C=Cc3ccccc3...       CI           0\n",
       "2                   CC(=O)N1c2ccccc2Sc2c1ccc1ccccc21       CI           0\n",
       "3    Nc1ccc(C=Cc2ccc(N)cc2S(=O)(=O)O)c(S(=O)(=O)O)c1       CI           0\n",
       "4                             O=S(=O)(O)CCS(=O)(=O)O       CI           0"
      ]
     },
     "execution_count": 17,
     "metadata": {},
     "output_type": "execute_result"
    }
   ],
   "source": [
    "df = pd.read_csv(\"HIV.csv\")\n",
    "df.head()"
   ]
  },
  {
   "cell_type": "code",
   "execution_count": 18,
   "id": "9cfc6c87-00f9-4e90-8503-8552506bc5c6",
   "metadata": {},
   "outputs": [
    {
     "name": "stdout",
     "output_type": "stream",
     "text": [
      "CCC1=[O+][Cu-3]2([O+]=C(CC)C1)[O+]=C(CC)CC(CC)=[O+]2\n",
      "1\n"
     ]
    }
   ],
   "source": [
    "string = df.loc[0,'smiles']\n",
    "print(df.loc[0,'smiles'])\n",
    "print(string[3])"
   ]
  },
  {
   "cell_type": "code",
   "execution_count": 19,
   "id": "bf1518a8-a257-475d-9b4d-5759bfa5b5e5",
   "metadata": {},
   "outputs": [
    {
     "data": {
      "text/plain": [
       "activity\n",
       "CI    39684\n",
       "CM     1039\n",
       "CA      404\n",
       "Name: count, dtype: int64"
      ]
     },
     "execution_count": 19,
     "metadata": {},
     "output_type": "execute_result"
    }
   ],
   "source": [
    "df.value_counts(\"activity\")"
   ]
  },
  {
   "cell_type": "code",
   "execution_count": 20,
   "id": "476c8ecc-b806-4989-a409-017a3826e11b",
   "metadata": {},
   "outputs": [
    {
     "data": {
      "text/plain": [
       "HIV_active\n",
       "0    39684\n",
       "1     1443\n",
       "Name: count, dtype: int64"
      ]
     },
     "execution_count": 20,
     "metadata": {},
     "output_type": "execute_result"
    }
   ],
   "source": [
    "df.value_counts(\"HIV_active\")"
   ]
  },
  {
   "cell_type": "markdown",
   "id": "2fcd7007-97c9-4a1e-a9c7-ea90a4775e74",
   "metadata": {},
   "source": [
    "## Sampling "
   ]
  },
  {
   "cell_type": "code",
   "execution_count": 61,
   "id": "0871a4ec-e6e4-4ba0-a13e-8f6dc6606c18",
   "metadata": {},
   "outputs": [
    {
     "data": {
      "text/html": [
       "<div>\n",
       "<style scoped>\n",
       "    .dataframe tbody tr th:only-of-type {\n",
       "        vertical-align: middle;\n",
       "    }\n",
       "\n",
       "    .dataframe tbody tr th {\n",
       "        vertical-align: top;\n",
       "    }\n",
       "\n",
       "    .dataframe thead th {\n",
       "        text-align: right;\n",
       "    }\n",
       "</style>\n",
       "<table border=\"1\" class=\"dataframe\">\n",
       "  <thead>\n",
       "    <tr style=\"text-align: right;\">\n",
       "      <th></th>\n",
       "      <th>smiles</th>\n",
       "      <th>activity</th>\n",
       "      <th>HIV_active</th>\n",
       "    </tr>\n",
       "  </thead>\n",
       "  <tbody>\n",
       "    <tr>\n",
       "      <th>0</th>\n",
       "      <td>CC(C)(C)ON=Cc1cc(NC(=S)c2ccccc2)ccc1Cl</td>\n",
       "      <td>CA</td>\n",
       "      <td>1</td>\n",
       "    </tr>\n",
       "    <tr>\n",
       "      <th>1</th>\n",
       "      <td>O=C(C=Cc1ccccc1)NC1C=Nc2ccccc2NC1=O</td>\n",
       "      <td>CM</td>\n",
       "      <td>1</td>\n",
       "    </tr>\n",
       "    <tr>\n",
       "      <th>2</th>\n",
       "      <td>C[N+](C)(C)C.O=C(Nc1ccc(C=Cc2ccc(NC(=O)c3cc(S(...</td>\n",
       "      <td>CM</td>\n",
       "      <td>1</td>\n",
       "    </tr>\n",
       "    <tr>\n",
       "      <th>3</th>\n",
       "      <td>CCCCNC(C)(C)C(SSSC(C)=O)c1ccco1</td>\n",
       "      <td>CI</td>\n",
       "      <td>0</td>\n",
       "    </tr>\n",
       "    <tr>\n",
       "      <th>4</th>\n",
       "      <td>COCCCCCCCCCCCC(=O)OCC1OC(n2cc(C)c(=O)[nH]c2=O)...</td>\n",
       "      <td>CA</td>\n",
       "      <td>1</td>\n",
       "    </tr>\n",
       "    <tr>\n",
       "      <th>...</th>\n",
       "      <td>...</td>\n",
       "      <td>...</td>\n",
       "      <td>...</td>\n",
       "    </tr>\n",
       "    <tr>\n",
       "      <th>1995</th>\n",
       "      <td>N#CCc1nc(C#N)c(N)o1</td>\n",
       "      <td>CM</td>\n",
       "      <td>1</td>\n",
       "    </tr>\n",
       "    <tr>\n",
       "      <th>1996</th>\n",
       "      <td>CC(=O)Oc1cc(Cl)c(C)c2c1C1CCC3(C)C(OC(C)=O)CCC3...</td>\n",
       "      <td>CI</td>\n",
       "      <td>0</td>\n",
       "    </tr>\n",
       "    <tr>\n",
       "      <th>1997</th>\n",
       "      <td>CCCCOC(C)(C)C=CC(O)C(C)(O)C1C(O)CC2(C)C3CCc4c(...</td>\n",
       "      <td>CI</td>\n",
       "      <td>0</td>\n",
       "    </tr>\n",
       "    <tr>\n",
       "      <th>1998</th>\n",
       "      <td>CC1OC2(CC(OCc3ccccc3)C1OCc1ccccc1)OCCO2</td>\n",
       "      <td>CI</td>\n",
       "      <td>0</td>\n",
       "    </tr>\n",
       "    <tr>\n",
       "      <th>1999</th>\n",
       "      <td>CC12C(=CC(=O)CC1SCCS(=O)(=O)O)C(C#N)=C(N)N2c1c...</td>\n",
       "      <td>CM</td>\n",
       "      <td>1</td>\n",
       "    </tr>\n",
       "  </tbody>\n",
       "</table>\n",
       "<p>2000 rows × 3 columns</p>\n",
       "</div>"
      ],
      "text/plain": [
       "                                                 smiles activity  HIV_active\n",
       "0                CC(C)(C)ON=Cc1cc(NC(=S)c2ccccc2)ccc1Cl       CA           1\n",
       "1                   O=C(C=Cc1ccccc1)NC1C=Nc2ccccc2NC1=O       CM           1\n",
       "2     C[N+](C)(C)C.O=C(Nc1ccc(C=Cc2ccc(NC(=O)c3cc(S(...       CM           1\n",
       "3                       CCCCNC(C)(C)C(SSSC(C)=O)c1ccco1       CI           0\n",
       "4     COCCCCCCCCCCCC(=O)OCC1OC(n2cc(C)c(=O)[nH]c2=O)...       CA           1\n",
       "...                                                 ...      ...         ...\n",
       "1995                                N#CCc1nc(C#N)c(N)o1       CM           1\n",
       "1996  CC(=O)Oc1cc(Cl)c(C)c2c1C1CCC3(C)C(OC(C)=O)CCC3...       CI           0\n",
       "1997  CCCCOC(C)(C)C=CC(O)C(C)(O)C1C(O)CC2(C)C3CCc4c(...       CI           0\n",
       "1998            CC1OC2(CC(OCc3ccccc3)C1OCc1ccccc1)OCCO2       CI           0\n",
       "1999  CC12C(=CC(=O)CC1SCCS(=O)(=O)O)C(C#N)=C(N)N2c1c...       CM           1\n",
       "\n",
       "[2000 rows x 3 columns]"
      ]
     },
     "execution_count": 61,
     "metadata": {},
     "output_type": "execute_result"
    }
   ],
   "source": [
    "# Separate the dataframe into three categories\n",
    "df_CI = df[df['activity'] == 'CI']\n",
    "df_CM = df[df['activity'] == 'CM']\n",
    "df_CA = df[df['activity'] == 'CA']\n",
    "\n",
    "# Sampling from each category\n",
    "sample_CI = df_CI.sample(n=1000, random_state=42) \n",
    "sample_CM = df_CM.sample(n=700, random_state=42)\n",
    "sample_CA = df_CA.sample(n=300, random_state=42)\n",
    "\n",
    "# Concatenate the samples back into one DataFrame\n",
    "sampled_sf = pd.concat([sample_CI, sample_CM, sample_CA])\n",
    "\n",
    "# If you want to shuffle the combined DataFrame\n",
    "sampled_sf = sampled_sf.sample(frac=1).reset_index(drop=True)\n",
    "sampled_sf"
   ]
  },
  {
   "cell_type": "markdown",
   "id": "47148457-3ed7-404e-8968-f3cdc2716d74",
   "metadata": {},
   "source": [
    "## Transform SMILES into GRAPH representation"
   ]
  },
  {
   "cell_type": "code",
   "execution_count": 62,
   "id": "5ce0cbe5-a75b-49f4-a107-d5c27f9da203",
   "metadata": {},
   "outputs": [
    {
     "data": {
      "image/jpeg": "[encoded data removed]",
      "image/png": "[encoded data removed]",
      "text/plain": [
       "<PIL.PngImagePlugin.PngImageFile image mode=RGB size=300x300>"
      ]
     },
     "execution_count": 62,
     "metadata": {},
     "output_type": "execute_result"
    }
   ],
   "source": [
    "from rdkit import Chem\n",
    "from rdkit.Chem import Draw\n",
    "import networkx as nx\n",
    "\n",
    "# Visualizing the first molecule's structure as an example\n",
    "mol = Chem.MolFromSmiles(sampled_sf['smiles'].iloc[0])\n",
    "Draw.MolToImage(mol)"
   ]
  },
  {
   "cell_type": "code",
   "execution_count": 63,
   "id": "a316727f-f14f-4bf3-9a43-4a339235b516",
   "metadata": {},
   "outputs": [
    {
     "name": "stdout",
     "output_type": "stream",
     "text": [
      "tensor([[ 6.0000,  0.0000,  1.0000,  4.0000,  0.0000,  3.0000, 12.0110],\n",
      "        [ 6.0000,  0.0000,  4.0000,  4.0000,  0.0000,  0.0000, 12.0110],\n",
      "        [ 6.0000,  0.0000,  1.0000,  4.0000,  0.0000,  3.0000, 12.0110],\n",
      "        [ 6.0000,  0.0000,  1.0000,  4.0000,  0.0000,  3.0000, 12.0110],\n",
      "        [ 8.0000,  0.0000,  2.0000,  3.0000,  0.0000,  0.0000, 15.9990],\n",
      "        [ 7.0000,  0.0000,  2.0000,  3.0000,  0.0000,  0.0000, 14.0070],\n",
      "        [ 6.0000,  0.0000,  2.0000,  3.0000,  0.0000,  1.0000, 12.0110],\n",
      "        [ 6.0000,  0.0000,  3.0000,  3.0000,  1.0000,  0.0000, 12.0110],\n",
      "        [ 6.0000,  0.0000,  2.0000,  3.0000,  1.0000,  1.0000, 12.0110],\n",
      "        [ 6.0000,  0.0000,  3.0000,  3.0000,  1.0000,  0.0000, 12.0110],\n",
      "        [ 7.0000,  0.0000,  2.0000,  3.0000,  0.0000,  1.0000, 14.0070],\n",
      "        [ 6.0000,  0.0000,  3.0000,  3.0000,  0.0000,  0.0000, 12.0110],\n",
      "        [16.0000,  0.0000,  1.0000,  3.0000,  0.0000,  0.0000, 32.0670],\n",
      "        [ 6.0000,  0.0000,  3.0000,  3.0000,  1.0000,  0.0000, 12.0110],\n",
      "        [ 6.0000,  0.0000,  2.0000,  3.0000,  1.0000,  1.0000, 12.0110],\n",
      "        [ 6.0000,  0.0000,  2.0000,  3.0000,  1.0000,  1.0000, 12.0110],\n",
      "        [ 6.0000,  0.0000,  2.0000,  3.0000,  1.0000,  1.0000, 12.0110],\n",
      "        [ 6.0000,  0.0000,  2.0000,  3.0000,  1.0000,  1.0000, 12.0110],\n",
      "        [ 6.0000,  0.0000,  2.0000,  3.0000,  1.0000,  1.0000, 12.0110],\n",
      "        [ 6.0000,  0.0000,  2.0000,  3.0000,  1.0000,  1.0000, 12.0110],\n",
      "        [ 6.0000,  0.0000,  2.0000,  3.0000,  1.0000,  1.0000, 12.0110],\n",
      "        [ 6.0000,  0.0000,  3.0000,  3.0000,  1.0000,  0.0000, 12.0110],\n",
      "        [17.0000,  0.0000,  1.0000,  4.0000,  0.0000,  0.0000, 35.4530]])\n"
     ]
    },
    {
     "data": {
      "text/html": [
       "<div>\n",
       "<style scoped>\n",
       "    .dataframe tbody tr th:only-of-type {\n",
       "        vertical-align: middle;\n",
       "    }\n",
       "\n",
       "    .dataframe tbody tr th {\n",
       "        vertical-align: top;\n",
       "    }\n",
       "\n",
       "    .dataframe thead th {\n",
       "        text-align: right;\n",
       "    }\n",
       "</style>\n",
       "<table border=\"1\" class=\"dataframe\">\n",
       "  <thead>\n",
       "    <tr style=\"text-align: right;\">\n",
       "      <th></th>\n",
       "      <th>smiles</th>\n",
       "      <th>activity</th>\n",
       "      <th>HIV_active</th>\n",
       "      <th>graph</th>\n",
       "    </tr>\n",
       "  </thead>\n",
       "  <tbody>\n",
       "    <tr>\n",
       "      <th>0</th>\n",
       "      <td>CC(C)(C)ON=Cc1cc(NC(=S)c2ccccc2)ccc1Cl</td>\n",
       "      <td>CA</td>\n",
       "      <td>1</td>\n",
       "      <td>[(x, [tensor([ 6.0000,  0.0000,  1.0000,  4.00...</td>\n",
       "    </tr>\n",
       "    <tr>\n",
       "      <th>1</th>\n",
       "      <td>O=C(C=Cc1ccccc1)NC1C=Nc2ccccc2NC1=O</td>\n",
       "      <td>CM</td>\n",
       "      <td>1</td>\n",
       "      <td>[(x, [tensor([ 8.0000,  0.0000,  1.0000,  3.00...</td>\n",
       "    </tr>\n",
       "    <tr>\n",
       "      <th>2</th>\n",
       "      <td>C[N+](C)(C)C.O=C(Nc1ccc(C=Cc2ccc(NC(=O)c3cc(S(...</td>\n",
       "      <td>CM</td>\n",
       "      <td>1</td>\n",
       "      <td>[(x, [tensor([ 6.0000,  0.0000,  1.0000,  4.00...</td>\n",
       "    </tr>\n",
       "    <tr>\n",
       "      <th>3</th>\n",
       "      <td>CCCCNC(C)(C)C(SSSC(C)=O)c1ccco1</td>\n",
       "      <td>CI</td>\n",
       "      <td>0</td>\n",
       "      <td>[(x, [tensor([ 6.0000,  0.0000,  1.0000,  4.00...</td>\n",
       "    </tr>\n",
       "    <tr>\n",
       "      <th>4</th>\n",
       "      <td>COCCCCCCCCCCCC(=O)OCC1OC(n2cc(C)c(=O)[nH]c2=O)...</td>\n",
       "      <td>CA</td>\n",
       "      <td>1</td>\n",
       "      <td>[(x, [tensor([ 6.0000,  0.0000,  1.0000,  4.00...</td>\n",
       "    </tr>\n",
       "    <tr>\n",
       "      <th>...</th>\n",
       "      <td>...</td>\n",
       "      <td>...</td>\n",
       "      <td>...</td>\n",
       "      <td>...</td>\n",
       "    </tr>\n",
       "    <tr>\n",
       "      <th>1995</th>\n",
       "      <td>N#CCc1nc(C#N)c(N)o1</td>\n",
       "      <td>CM</td>\n",
       "      <td>1</td>\n",
       "      <td>[(x, [tensor([ 7.0000,  0.0000,  1.0000,  2.00...</td>\n",
       "    </tr>\n",
       "    <tr>\n",
       "      <th>1996</th>\n",
       "      <td>CC(=O)Oc1cc(Cl)c(C)c2c1C1CCC3(C)C(OC(C)=O)CCC3...</td>\n",
       "      <td>CI</td>\n",
       "      <td>0</td>\n",
       "      <td>[(x, [tensor([ 6.0000,  0.0000,  1.0000,  4.00...</td>\n",
       "    </tr>\n",
       "    <tr>\n",
       "      <th>1997</th>\n",
       "      <td>CCCCOC(C)(C)C=CC(O)C(C)(O)C1C(O)CC2(C)C3CCc4c(...</td>\n",
       "      <td>CI</td>\n",
       "      <td>0</td>\n",
       "      <td>[(x, [tensor([ 6.0000,  0.0000,  1.0000,  4.00...</td>\n",
       "    </tr>\n",
       "    <tr>\n",
       "      <th>1998</th>\n",
       "      <td>CC1OC2(CC(OCc3ccccc3)C1OCc1ccccc1)OCCO2</td>\n",
       "      <td>CI</td>\n",
       "      <td>0</td>\n",
       "      <td>[(x, [tensor([ 6.0000,  0.0000,  1.0000,  4.00...</td>\n",
       "    </tr>\n",
       "    <tr>\n",
       "      <th>1999</th>\n",
       "      <td>CC12C(=CC(=O)CC1SCCS(=O)(=O)O)C(C#N)=C(N)N2c1c...</td>\n",
       "      <td>CM</td>\n",
       "      <td>1</td>\n",
       "      <td>[(x, [tensor([ 6.0000,  0.0000,  1.0000,  4.00...</td>\n",
       "    </tr>\n",
       "  </tbody>\n",
       "</table>\n",
       "<p>2000 rows × 4 columns</p>\n",
       "</div>"
      ],
      "text/plain": [
       "                                                 smiles activity  HIV_active  \\\n",
       "0                CC(C)(C)ON=Cc1cc(NC(=S)c2ccccc2)ccc1Cl       CA           1   \n",
       "1                   O=C(C=Cc1ccccc1)NC1C=Nc2ccccc2NC1=O       CM           1   \n",
       "2     C[N+](C)(C)C.O=C(Nc1ccc(C=Cc2ccc(NC(=O)c3cc(S(...       CM           1   \n",
       "3                       CCCCNC(C)(C)C(SSSC(C)=O)c1ccco1       CI           0   \n",
       "4     COCCCCCCCCCCCC(=O)OCC1OC(n2cc(C)c(=O)[nH]c2=O)...       CA           1   \n",
       "...                                                 ...      ...         ...   \n",
       "1995                                N#CCc1nc(C#N)c(N)o1       CM           1   \n",
       "1996  CC(=O)Oc1cc(Cl)c(C)c2c1C1CCC3(C)C(OC(C)=O)CCC3...       CI           0   \n",
       "1997  CCCCOC(C)(C)C=CC(O)C(C)(O)C1C(O)CC2(C)C3CCc4c(...       CI           0   \n",
       "1998            CC1OC2(CC(OCc3ccccc3)C1OCc1ccccc1)OCCO2       CI           0   \n",
       "1999  CC12C(=CC(=O)CC1SCCS(=O)(=O)O)C(C#N)=C(N)N2c1c...       CM           1   \n",
       "\n",
       "                                                  graph  \n",
       "0     [(x, [tensor([ 6.0000,  0.0000,  1.0000,  4.00...  \n",
       "1     [(x, [tensor([ 8.0000,  0.0000,  1.0000,  3.00...  \n",
       "2     [(x, [tensor([ 6.0000,  0.0000,  1.0000,  4.00...  \n",
       "3     [(x, [tensor([ 6.0000,  0.0000,  1.0000,  4.00...  \n",
       "4     [(x, [tensor([ 6.0000,  0.0000,  1.0000,  4.00...  \n",
       "...                                                 ...  \n",
       "1995  [(x, [tensor([ 7.0000,  0.0000,  1.0000,  2.00...  \n",
       "1996  [(x, [tensor([ 6.0000,  0.0000,  1.0000,  4.00...  \n",
       "1997  [(x, [tensor([ 6.0000,  0.0000,  1.0000,  4.00...  \n",
       "1998  [(x, [tensor([ 6.0000,  0.0000,  1.0000,  4.00...  \n",
       "1999  [(x, [tensor([ 6.0000,  0.0000,  1.0000,  4.00...  \n",
       "\n",
       "[2000 rows x 4 columns]"
      ]
     },
     "execution_count": 63,
     "metadata": {},
     "output_type": "execute_result"
    }
   ],
   "source": [
    "import torch\n",
    "from rdkit import Chem\n",
    "from torch_geometric.data import Data\n",
    "\n",
    "# Atom and bond preprocessing functions\n",
    "def atom_features(atom):\n",
    "    return [\n",
    "        atom.GetAtomicNum(),             # Atomic number\n",
    "        atom.GetFormalCharge(),          # Formal charge\n",
    "        atom.GetDegree(),                # Degree of the atom\n",
    "        atom.GetHybridization().real,    # Hybridization\n",
    "        atom.GetIsAromatic(),            # Aromaticity\n",
    "        atom.GetImplicitValence(),       # Implicit valence\n",
    "        atom.GetMass(),                  # Atomic mass\n",
    "    ]\n",
    "\n",
    "def bond_features(bond):\n",
    "    bt = bond.GetBondType()\n",
    "    return [\n",
    "        bt == Chem.rdchem.BondType.SINGLE,\n",
    "        bt == Chem.rdchem.BondType.DOUBLE,\n",
    "        bt == Chem.rdchem.BondType.TRIPLE,\n",
    "        bt == Chem.rdchem.BondType.AROMATIC,\n",
    "        bond.GetIsConjugated(),  # Conjugation\n",
    "        bond.IsInRing(),         # Whether the bond is in a ring\n",
    "    ]\n",
    "\n",
    "# Conversion from SMILES to graph suitable for GNN\n",
    "def smiles_to_graph(smiles):\n",
    "    mol = Chem.MolFromSmiles(smiles)\n",
    "    if mol is None:\n",
    "        return None\n",
    "\n",
    "    # Create nodes\n",
    "    node_feats = [atom_features(atom) for atom in mol.GetAtoms()]\n",
    "    node_feats = torch.tensor(node_feats, dtype=torch.float)\n",
    "    \n",
    "    # Create edges\n",
    "    edge_index = []\n",
    "    edge_attr = []\n",
    "    for bond in mol.GetBonds():\n",
    "        i = bond.GetBeginAtomIdx()\n",
    "        j = bond.GetEndAtomIdx()\n",
    "        edge_index += [[i, j], [j, i]]\n",
    "        edge_attr += [bond_features(bond), bond_features(bond)]\n",
    "    edge_index = torch.tensor(edge_index, dtype=torch.long).t().contiguous()\n",
    "    edge_attr = torch.tensor(edge_attr, dtype=torch.float)\n",
    "    \n",
    "    return Data(x=node_feats, edge_index=edge_index, edge_attr=edge_attr)\n",
    "\n",
    "# Apply the function to your dataframe\n",
    "sampled_sf['graph'] = sampled_sf['smiles'].apply(smiles_to_graph)\n",
    "print(sampled_sf['graph'].iloc[0].x)\n",
    "sampled_sf"
   ]
  },
  {
   "cell_type": "markdown",
   "id": "988438be-9da0-4059-bc44-0b3430940ac2",
   "metadata": {},
   "source": [
    "## GNN"
   ]
  },
  {
   "cell_type": "code",
   "execution_count": 64,
   "id": "3859f25f-1511-4f25-a55b-25bde25a6bb9",
   "metadata": {},
   "outputs": [
    {
     "name": "stdout",
     "output_type": "stream",
     "text": [
      "Data(x=[23, 7], edge_index=[2, 48], edge_attr=[48, 6], y=[1])\n"
     ]
    }
   ],
   "source": [
    "for i, data in enumerate(sampled_sf['graph']):\n",
    "    data.y = torch.tensor([sampled_sf['HIV_active'][i]], dtype=torch.long)\n",
    "print(sampled_sf['graph'][0])"
   ]
  },
  {
   "cell_type": "code",
   "execution_count": 65,
   "id": "38eef2a3-55f6-4e37-b9e2-97f382a64fbe",
   "metadata": {},
   "outputs": [],
   "source": [
    "from torch_geometric.data import Data\n",
    "from sklearn.model_selection import train_test_split\n",
    "from torch_geometric.loader import DataLoader \n",
    "\n",
    "sampled_sf = sampled_sf.reset_index(drop=True)\n",
    "# Split data into training and testing sets\n",
    "train_dataset, val_dataset = train_test_split(sampled_sf['graph'].tolist(), test_size=0.2, random_state=42)\n",
    "\n",
    "# Create DataLoader for batch processing\n",
    "train_loader = DataLoader(train_dataset, batch_size=32, shuffle=True)\n",
    "val_loader = DataLoader(val_dataset, batch_size=32, shuffle=True)"
   ]
  },
  {
   "cell_type": "code",
   "execution_count": 66,
   "id": "212b93ae-700d-4f2f-aef6-6a5912a288fc",
   "metadata": {},
   "outputs": [],
   "source": [
    "import torch.optim as optim\n",
    "from tqdm import tqdm\n",
    "from torch.nn import Linear, ReLU, Sequential\n",
    "from torch_geometric.utils import scatter\n",
    "from torch_geometric.loader import DataLoader as GraphDataLoader\n",
    "\n",
    "class Layer(nn.Module):\n",
    "    def __init__(self, in_dim, out_dim):\n",
    "        super().__init__()\n",
    "        self.layers = Sequential(\n",
    "            Linear(in_dim, out_dim),\n",
    "            ReLU()\n",
    "        )\n",
    "    \n",
    "    def forward(self, x):\n",
    "        return self.layers(x)\n",
    "\n",
    "class MessagePassingLayer(nn.Module):\n",
    "    def __init__(self, node_hidden_dim, edge_hidden_dim):\n",
    "        super().__init__()\n",
    "        self.edge_net = Layer(2 * node_hidden_dim + edge_hidden_dim, edge_hidden_dim)\n",
    "        self.node_net = Layer(node_hidden_dim + edge_hidden_dim, node_hidden_dim)\n",
    "    \n",
    "    def forward(self, node_features, edge_features, edge_index):\n",
    "        src, dest = edge_index[0], edge_index[1]\n",
    "        edge_features_combined = torch.cat([\n",
    "            node_features[src],\n",
    "            node_features[dest],\n",
    "            edge_features\n",
    "        ], dim=1)\n",
    "        updated_edge_features = self.edge_net(edge_features_combined)\n",
    "        aggr_edge_features = scatter(updated_edge_features, src, dim_size=node_features.size(0))\n",
    "        node_features_combined = torch.cat([node_features, aggr_edge_features], dim=1)\n",
    "        updated_node_features = self.node_net(node_features_combined)\n",
    "        return updated_node_features, updated_edge_features\n",
    "\n",
    "class GraphNet(nn.Module):\n",
    "    def __init__(self, node_input_dim, edge_input_dim, node_hidden_dim, edge_hidden_dim, num_classes):\n",
    "        super().__init__()\n",
    "        self.node_embed = Layer(node_input_dim, node_hidden_dim)\n",
    "        self.edge_embed = Layer(edge_input_dim, edge_hidden_dim)\n",
    "        self.message_passing = MessagePassingLayer(node_hidden_dim, edge_hidden_dim)\n",
    "        self.readout = Linear(node_hidden_dim, num_classes)\n",
    "    \n",
    "    def forward(self, data):\n",
    "        node_hidden = self.node_embed(data.x)\n",
    "        edge_hidden = self.edge_embed(data.edge_attr)\n",
    "        node_hidden, edge_hidden = self.message_passing(node_hidden, edge_hidden, data.edge_index)\n",
    "        graph_embeddings = scatter(node_hidden, data.batch, dim=0)\n",
    "        out = self.readout(graph_embeddings)\n",
    "        return out"
   ]
  },
  {
   "cell_type": "code",
   "execution_count": 67,
   "id": "27764348-1934-41ba-ae22-eb6c6c59f4e1",
   "metadata": {},
   "outputs": [],
   "source": [
    "import seaborn as sns\n",
    "from sklearn.metrics import confusion_matrix\n",
    "\n",
    "class GNNTrainer:\n",
    "    def __init__(self, model, batch_size=32, learning_rate=1e-3, epoch=50, l2=1e-5):\n",
    "        self.model = model\n",
    "        \n",
    "        num_params = sum(item.numel() for item in model.parameters())\n",
    "        print(f\"{model.__class__.__name__} - Number of parameters: {num_params}\")\n",
    "        \n",
    "        self.batch_size = batch_size\n",
    "        self.optimizer = optim.Adam(model.parameters(), lr=learning_rate, weight_decay=l2)\n",
    "        self.epoch = epoch\n",
    "        \n",
    "    def train(self, train_loader, draw_curve=True):  \n",
    "        self.model.train()\n",
    "        loss_func = nn.CrossEntropyLoss()\n",
    "        batch_loss_list = []\n",
    "        for i in range(self.epoch):\n",
    "            print(f\"Epoch: {i}\")\n",
    "            for batch_data in tqdm(train_loader, leave=False):\n",
    "                self.optimizer.zero_grad()\n",
    "                batch_pred = self.model(batch_data)  # Assume model handles the batch_data correctly\n",
    "                batch_loss = loss_func(batch_pred, batch_data.y)\n",
    "                batch_loss.backward()\n",
    "                self.optimizer.step()\n",
    "\n",
    "                batch_loss_list.append(batch_loss.item())\n",
    "        \n",
    "        if draw_curve:\n",
    "            fig, ax = plt.subplots(1, 1, figsize=(5, 4), constrained_layout=True)\n",
    "            ax.set_yscale(\"log\")\n",
    "            ax.plot(np.arange(len(batch_loss_list)), batch_loss_list)\n",
    "            ax.set_xlabel(\"# Batch\")\n",
    "            ax.set_ylabel(\"Loss\")\n",
    "            plt.show()\n",
    "        \n",
    "        return batch_loss_list\n",
    "    \n",
    "    def evaluate(self, val_loader, draw_curve=True):\n",
    "        self.model.eval()\n",
    "        y_true, y_pred = [], []\n",
    "        with torch.no_grad():\n",
    "            for batch_data in tqdm(val_loader, leave=False):\n",
    "                batch_pred = self.model(batch_data)\n",
    "                y_pred.extend(batch_pred.argmax(dim=1).cpu().numpy())\n",
    "                y_true.extend(batch_data.y.cpu().numpy())\n",
    "        \n",
    "        y_true = np.array(y_true)\n",
    "        y_pred = np.array(y_pred)\n",
    "        accuracy = np.mean(y_true == y_pred)\n",
    "        \n",
    "        if draw_curve:\n",
    "            cm = confusion_matrix(y_true, y_pred)\n",
    "            plt.figure(figsize=(10, 8))\n",
    "            sns.heatmap(cm, annot=True, fmt=\"d\", cmap=\"Blues\")\n",
    "            plt.title(\"Confusion Matrix\")\n",
    "            plt.ylabel('True Label')\n",
    "            plt.xlabel('Predicted Label')\n",
    "            plt.show()\n",
    "            \n",
    "        return accuracy"
   ]
  },
  {
   "cell_type": "code",
   "execution_count": 68,
   "id": "56288d94-37a2-4dfc-baef-4c7b4601a09c",
   "metadata": {},
   "outputs": [],
   "source": [
    "num_classes = 2  # HIV_active: 0 1\n",
    "node_input_dim = sampled_sf['graph'][0].x.shape[1] \n",
    "edge_input_dim = sampled_sf['graph'][0].edge_attr.shape[1]  \n",
    "node_hidden_dim = 64\n",
    "edge_hidden_dim = 64\n",
    "model = GraphNet(node_input_dim, edge_input_dim, node_hidden_dim, edge_hidden_dim, num_classes)"
   ]
  },
  {
   "cell_type": "code",
   "execution_count": 69,
   "id": "7eeb8518-9bc9-4369-b0f0-b25af76162c9",
   "metadata": {},
   "outputs": [
    {
     "name": "stdout",
     "output_type": "stream",
     "text": [
      "GraphNet - Number of parameters: 21698\n",
      "Epoch: 0\n"
     ]
    },
    {
     "name": "stderr",
     "output_type": "stream",
     "text": [
      "                                                                                \r"
     ]
    },
    {
     "name": "stdout",
     "output_type": "stream",
     "text": [
      "Epoch: 1\n"
     ]
    },
    {
     "name": "stderr",
     "output_type": "stream",
     "text": [
      "                                                                                \r"
     ]
    },
    {
     "name": "stdout",
     "output_type": "stream",
     "text": [
      "Epoch: 2\n"
     ]
    },
    {
     "name": "stderr",
     "output_type": "stream",
     "text": [
      "                                                                                \r"
     ]
    },
    {
     "name": "stdout",
     "output_type": "stream",
     "text": [
      "Epoch: 3\n"
     ]
    },
    {
     "name": "stderr",
     "output_type": "stream",
     "text": [
      "                                                                                \r"
     ]
    },
    {
     "name": "stdout",
     "output_type": "stream",
     "text": [
      "Epoch: 4\n"
     ]
    },
    {
     "name": "stderr",
     "output_type": "stream",
     "text": [
      "                                                                                \r"
     ]
    },
    {
     "name": "stdout",
     "output_type": "stream",
     "text": [
      "Epoch: 5\n"
     ]
    },
    {
     "name": "stderr",
     "output_type": "stream",
     "text": [
      "                                                                                \r"
     ]
    },
    {
     "name": "stdout",
     "output_type": "stream",
     "text": [
      "Epoch: 6\n"
     ]
    },
    {
     "name": "stderr",
     "output_type": "stream",
     "text": [
      "                                                                                \r"
     ]
    },
    {
     "name": "stdout",
     "output_type": "stream",
     "text": [
      "Epoch: 7\n"
     ]
    },
    {
     "name": "stderr",
     "output_type": "stream",
     "text": [
      "                                                                                \r"
     ]
    },
    {
     "name": "stdout",
     "output_type": "stream",
     "text": [
      "Epoch: 8\n"
     ]
    },
    {
     "name": "stderr",
     "output_type": "stream",
     "text": [
      "                                                                                \r"
     ]
    },
    {
     "name": "stdout",
     "output_type": "stream",
     "text": [
      "Epoch: 9\n"
     ]
    },
    {
     "name": "stderr",
     "output_type": "stream",
     "text": [
      "                                                                                \r"
     ]
    },
    {
     "name": "stdout",
     "output_type": "stream",
     "text": [
      "Epoch: 10\n"
     ]
    },
    {
     "name": "stderr",
     "output_type": "stream",
     "text": [
      "                                                                                \r"
     ]
    },
    {
     "name": "stdout",
     "output_type": "stream",
     "text": [
      "Epoch: 11\n"
     ]
    },
    {
     "name": "stderr",
     "output_type": "stream",
     "text": [
      "                                                                                \r"
     ]
    },
    {
     "name": "stdout",
     "output_type": "stream",
     "text": [
      "Epoch: 12\n"
     ]
    },
    {
     "name": "stderr",
     "output_type": "stream",
     "text": [
      "                                                                                \r"
     ]
    },
    {
     "name": "stdout",
     "output_type": "stream",
     "text": [
      "Epoch: 13\n"
     ]
    },
    {
     "name": "stderr",
     "output_type": "stream",
     "text": [
      "                                                                                \r"
     ]
    },
    {
     "name": "stdout",
     "output_type": "stream",
     "text": [
      "Epoch: 14\n"
     ]
    },
    {
     "name": "stderr",
     "output_type": "stream",
     "text": [
      "                                                                                \r"
     ]
    },
    {
     "name": "stdout",
     "output_type": "stream",
     "text": [
      "Epoch: 15\n"
     ]
    },
    {
     "name": "stderr",
     "output_type": "stream",
     "text": [
      "                                                                                \r"
     ]
    },
    {
     "name": "stdout",
     "output_type": "stream",
     "text": [
      "Epoch: 16\n"
     ]
    },
    {
     "name": "stderr",
     "output_type": "stream",
     "text": [
      "                                                                                \r"
     ]
    },
    {
     "name": "stdout",
     "output_type": "stream",
     "text": [
      "Epoch: 17\n"
     ]
    },
    {
     "name": "stderr",
     "output_type": "stream",
     "text": [
      "                                                                                \r"
     ]
    },
    {
     "name": "stdout",
     "output_type": "stream",
     "text": [
      "Epoch: 18\n"
     ]
    },
    {
     "name": "stderr",
     "output_type": "stream",
     "text": [
      "                                                                                \r"
     ]
    },
    {
     "name": "stdout",
     "output_type": "stream",
     "text": [
      "Epoch: 19\n"
     ]
    },
    {
     "name": "stderr",
     "output_type": "stream",
     "text": [
      "                                                                                \r"
     ]
    },
    {
     "name": "stdout",
     "output_type": "stream",
     "text": [
      "Epoch: 20\n"
     ]
    },
    {
     "name": "stderr",
     "output_type": "stream",
     "text": [
      "                                                                                \r"
     ]
    },
    {
     "name": "stdout",
     "output_type": "stream",
     "text": [
      "Epoch: 21\n"
     ]
    },
    {
     "name": "stderr",
     "output_type": "stream",
     "text": [
      "                                                                                \r"
     ]
    },
    {
     "name": "stdout",
     "output_type": "stream",
     "text": [
      "Epoch: 22\n"
     ]
    },
    {
     "name": "stderr",
     "output_type": "stream",
     "text": [
      "                                                                                \r"
     ]
    },
    {
     "name": "stdout",
     "output_type": "stream",
     "text": [
      "Epoch: 23\n"
     ]
    },
    {
     "name": "stderr",
     "output_type": "stream",
     "text": [
      "                                                                                \r"
     ]
    },
    {
     "name": "stdout",
     "output_type": "stream",
     "text": [
      "Epoch: 24\n"
     ]
    },
    {
     "name": "stderr",
     "output_type": "stream",
     "text": [
      "                                                                                \r"
     ]
    },
    {
     "name": "stdout",
     "output_type": "stream",
     "text": [
      "Epoch: 25\n"
     ]
    },
    {
     "name": "stderr",
     "output_type": "stream",
     "text": [
      "                                                                                \r"
     ]
    },
    {
     "name": "stdout",
     "output_type": "stream",
     "text": [
      "Epoch: 26\n"
     ]
    },
    {
     "name": "stderr",
     "output_type": "stream",
     "text": [
      "                                                                                \r"
     ]
    },
    {
     "name": "stdout",
     "output_type": "stream",
     "text": [
      "Epoch: 27\n"
     ]
    },
    {
     "name": "stderr",
     "output_type": "stream",
     "text": [
      "                                                                                \r"
     ]
    },
    {
     "name": "stdout",
     "output_type": "stream",
     "text": [
      "Epoch: 28\n"
     ]
    },
    {
     "name": "stderr",
     "output_type": "stream",
     "text": [
      "                                                                                \r"
     ]
    },
    {
     "name": "stdout",
     "output_type": "stream",
     "text": [
      "Epoch: 29\n"
     ]
    },
    {
     "name": "stderr",
     "output_type": "stream",
     "text": [
      "                                                                                \r"
     ]
    },
    {
     "name": "stdout",
     "output_type": "stream",
     "text": [
      "Epoch: 30\n"
     ]
    },
    {
     "name": "stderr",
     "output_type": "stream",
     "text": [
      "                                                                                \r"
     ]
    },
    {
     "name": "stdout",
     "output_type": "stream",
     "text": [
      "Epoch: 31\n"
     ]
    },
    {
     "name": "stderr",
     "output_type": "stream",
     "text": [
      "                                                                                \r"
     ]
    },
    {
     "name": "stdout",
     "output_type": "stream",
     "text": [
      "Epoch: 32\n"
     ]
    },
    {
     "name": "stderr",
     "output_type": "stream",
     "text": [
      "                                                                                \r"
     ]
    },
    {
     "name": "stdout",
     "output_type": "stream",
     "text": [
      "Epoch: 33\n"
     ]
    },
    {
     "name": "stderr",
     "output_type": "stream",
     "text": [
      "                                                                                \r"
     ]
    },
    {
     "name": "stdout",
     "output_type": "stream",
     "text": [
      "Epoch: 34\n"
     ]
    },
    {
     "name": "stderr",
     "output_type": "stream",
     "text": [
      "                                                                                \r"
     ]
    },
    {
     "name": "stdout",
     "output_type": "stream",
     "text": [
      "Epoch: 35\n"
     ]
    },
    {
     "name": "stderr",
     "output_type": "stream",
     "text": [
      "                                                                                \r"
     ]
    },
    {
     "name": "stdout",
     "output_type": "stream",
     "text": [
      "Epoch: 36\n"
     ]
    },
    {
     "name": "stderr",
     "output_type": "stream",
     "text": [
      "                                                                                \r"
     ]
    },
    {
     "name": "stdout",
     "output_type": "stream",
     "text": [
      "Epoch: 37\n"
     ]
    },
    {
     "name": "stderr",
     "output_type": "stream",
     "text": [
      "                                                                                \r"
     ]
    },
    {
     "name": "stdout",
     "output_type": "stream",
     "text": [
      "Epoch: 38\n"
     ]
    },
    {
     "name": "stderr",
     "output_type": "stream",
     "text": [
      "                                                                                \r"
     ]
    },
    {
     "name": "stdout",
     "output_type": "stream",
     "text": [
      "Epoch: 39\n"
     ]
    },
    {
     "name": "stderr",
     "output_type": "stream",
     "text": [
      "                                                                                \r"
     ]
    },
    {
     "name": "stdout",
     "output_type": "stream",
     "text": [
      "Epoch: 40\n"
     ]
    },
    {
     "name": "stderr",
     "output_type": "stream",
     "text": [
      "                                                                                \r"
     ]
    },
    {
     "name": "stdout",
     "output_type": "stream",
     "text": [
      "Epoch: 41\n"
     ]
    },
    {
     "name": "stderr",
     "output_type": "stream",
     "text": [
      "                                                                                \r"
     ]
    },
    {
     "name": "stdout",
     "output_type": "stream",
     "text": [
      "Epoch: 42\n"
     ]
    },
    {
     "name": "stderr",
     "output_type": "stream",
     "text": [
      "                                                                                \r"
     ]
    },
    {
     "name": "stdout",
     "output_type": "stream",
     "text": [
      "Epoch: 43\n"
     ]
    },
    {
     "name": "stderr",
     "output_type": "stream",
     "text": [
      "                                                                                \r"
     ]
    },
    {
     "name": "stdout",
     "output_type": "stream",
     "text": [
      "Epoch: 44\n"
     ]
    },
    {
     "name": "stderr",
     "output_type": "stream",
     "text": [
      "                                                                                \r"
     ]
    },
    {
     "name": "stdout",
     "output_type": "stream",
     "text": [
      "Epoch: 45\n"
     ]
    },
    {
     "name": "stderr",
     "output_type": "stream",
     "text": [
      "                                                                                \r"
     ]
    },
    {
     "name": "stdout",
     "output_type": "stream",
     "text": [
      "Epoch: 46\n"
     ]
    },
    {
     "name": "stderr",
     "output_type": "stream",
     "text": [
      "                                                                                \r"
     ]
    },
    {
     "name": "stdout",
     "output_type": "stream",
     "text": [
      "Epoch: 47\n"
     ]
    },
    {
     "name": "stderr",
     "output_type": "stream",
     "text": [
      "                                                                                \r"
     ]
    },
    {
     "name": "stdout",
     "output_type": "stream",
     "text": [
      "Epoch: 48\n"
     ]
    },
    {
     "name": "stderr",
     "output_type": "stream",
     "text": [
      "                                                                                \r"
     ]
    },
    {
     "name": "stdout",
     "output_type": "stream",
     "text": [
      "Epoch: 49\n"
     ]
    },
    {
     "name": "stderr",
     "output_type": "stream",
     "text": [
      "                                                                                \r"
     ]
    },
    {
     "data": {
      "image/png": "[encoded data removed]",
      "text/plain": [
       "<Figure size 500x400 with 1 Axes>"
      ]
     },
     "metadata": {},
     "output_type": "display_data"
    },
    {
     "data": {
      "text/plain": [
       "[2.8632473945617676,\n",
       " 5.561864852905273,\n",
       " 4.115395545959473,\n",
       " 1.057981252670288,\n",
       " 3.93794584274292,\n",
       " 7.058263778686523,\n",
       " 3.53395938873291,\n",
       " 4.357789993286133,\n",
       " 0.9586697816848755,\n",
       " 2.404970645904541,\n",
       " 4.817242622375488,\n",
       " 1.0656639337539673,\n",
       " 1.6207427978515625,\n",
       " 2.6628365516662598,\n",
       " 2.725987434387207,\n",
       " 1.0033735036849976,\n",
       " 0.9135715961456299,\n",
       " 1.7907931804656982,\n",
       " 1.4031306505203247,\n",
       " 0.8413091897964478,\n",
       " 0.8888327479362488,\n",
       " 0.882965624332428,\n",
       " 1.0782177448272705,\n",
       " 0.8771475553512573,\n",
       " 0.7156165242195129,\n",
       " 1.1612355709075928,\n",
       " 1.455129623413086,\n",
       " 0.6357514262199402,\n",
       " 1.3274054527282715,\n",
       " 1.2790629863739014,\n",
       " 1.4289344549179077,\n",
       " 0.8042957782745361,\n",
       " 1.3856027126312256,\n",
       " 2.017333745956421,\n",
       " 0.902595043182373,\n",
       " 0.6150923371315002,\n",
       " 1.2297217845916748,\n",
       " 1.4213656187057495,\n",
       " 1.4287153482437134,\n",
       " 0.7629974484443665,\n",
       " 0.8670806884765625,\n",
       " 1.259195327758789,\n",
       " 0.6471430063247681,\n",
       " 0.6778707504272461,\n",
       " 0.9124500751495361,\n",
       " 0.8117985725402832,\n",
       " 0.7339186668395996,\n",
       " 0.6930203437805176,\n",
       " 0.7656793594360352,\n",
       " 0.9328393340110779,\n",
       " 0.840101420879364,\n",
       " 0.6157079935073853,\n",
       " 1.2273952960968018,\n",
       " 1.4314730167388916,\n",
       " 1.099419116973877,\n",
       " 1.0565814971923828,\n",
       " 0.9971252679824829,\n",
       " 0.8470165133476257,\n",
       " 0.6183041334152222,\n",
       " 0.7361537218093872,\n",
       " 0.8211879730224609,\n",
       " 0.7363873720169067,\n",
       " 0.7617114186286926,\n",
       " 0.7259021997451782,\n",
       " 0.7969217300415039,\n",
       " 0.6600072979927063,\n",
       " 0.8771408200263977,\n",
       " 0.810161828994751,\n",
       " 0.6544899940490723,\n",
       " 0.6663618087768555,\n",
       " 0.6444282531738281,\n",
       " 0.731248140335083,\n",
       " 0.6245205402374268,\n",
       " 0.7084841728210449,\n",
       " 0.6552221179008484,\n",
       " 0.669044017791748,\n",
       " 0.7436622381210327,\n",
       " 0.6741929650306702,\n",
       " 0.6943877339363098,\n",
       " 0.6357929706573486,\n",
       " 0.647502064704895,\n",
       " 0.6852728724479675,\n",
       " 0.6676881909370422,\n",
       " 0.6229544281959534,\n",
       " 0.8679814338684082,\n",
       " 0.6376922726631165,\n",
       " 0.691611111164093,\n",
       " 0.7029368877410889,\n",
       " 0.7808358669281006,\n",
       " 0.7139979600906372,\n",
       " 0.7263590693473816,\n",
       " 0.8227517008781433,\n",
       " 0.6069134473800659,\n",
       " 0.634804904460907,\n",
       " 0.6448209285736084,\n",
       " 0.6440028548240662,\n",
       " 0.7946670651435852,\n",
       " 0.6656984686851501,\n",
       " 0.7703000903129578,\n",
       " 0.8788731694221497,\n",
       " 0.6487275958061218,\n",
       " 0.7565879821777344,\n",
       " 0.6761379241943359,\n",
       " 0.7305293083190918,\n",
       " 0.6661244034767151,\n",
       " 0.6782235503196716,\n",
       " 0.8287613391876221,\n",
       " 0.9293316602706909,\n",
       " 0.687346875667572,\n",
       " 0.6828874349594116,\n",
       " 0.7856179475784302,\n",
       " 0.6670411229133606,\n",
       " 0.7671953439712524,\n",
       " 0.7235586643218994,\n",
       " 0.6231195330619812,\n",
       " 0.758465588092804,\n",
       " 0.6984105706214905,\n",
       " 0.7201874852180481,\n",
       " 0.697817325592041,\n",
       " 0.6650962829589844,\n",
       " 0.6198623180389404,\n",
       " 0.6999937891960144,\n",
       " 0.6563112735748291,\n",
       " 0.6998668909072876,\n",
       " 0.6368551254272461,\n",
       " 0.7684895992279053,\n",
       " 0.9151666164398193,\n",
       " 0.8540099859237671,\n",
       " 0.7081031203269958,\n",
       " 1.2009925842285156,\n",
       " 0.6941149830818176,\n",
       " 1.0150346755981445,\n",
       " 0.8434622883796692,\n",
       " 0.7113394737243652,\n",
       " 0.8038661479949951,\n",
       " 0.6881431341171265,\n",
       " 0.7307972311973572,\n",
       " 0.6639252305030823,\n",
       " 0.75503009557724,\n",
       " 0.6484032869338989,\n",
       " 0.6177619099617004,\n",
       " 0.647183895111084,\n",
       " 0.755254328250885,\n",
       " 0.683836817741394,\n",
       " 0.6374064087867737,\n",
       " 0.7029900550842285,\n",
       " 0.6046669483184814,\n",
       " 0.6842700242996216,\n",
       " 0.7262629866600037,\n",
       " 0.6932961344718933,\n",
       " 0.8675902485847473,\n",
       " 0.6280918121337891,\n",
       " 0.8508864641189575,\n",
       " 0.6282386779785156,\n",
       " 0.7801249623298645,\n",
       " 1.0052154064178467,\n",
       " 0.8376187682151794,\n",
       " 0.7431893944740295,\n",
       " 0.7842733860015869,\n",
       " 0.7678844928741455,\n",
       " 0.6538119912147522,\n",
       " 0.6988611817359924,\n",
       " 0.6426092386245728,\n",
       " 0.7559172511100769,\n",
       " 0.7253226637840271,\n",
       " 0.7212359309196472,\n",
       " 0.6537606120109558,\n",
       " 0.6993374228477478,\n",
       " 0.5835292339324951,\n",
       " 0.7809951305389404,\n",
       " 0.598383367061615,\n",
       " 0.6672131419181824,\n",
       " 0.6296371817588806,\n",
       " 0.690247118473053,\n",
       " 0.6311697959899902,\n",
       " 0.6645451188087463,\n",
       " 0.8088905215263367,\n",
       " 0.7271746397018433,\n",
       " 0.6127539873123169,\n",
       " 0.6527968049049377,\n",
       " 0.692653238773346,\n",
       " 0.7211299538612366,\n",
       " 0.8521159291267395,\n",
       " 0.6624017357826233,\n",
       " 1.1746907234191895,\n",
       " 0.7871963381767273,\n",
       " 0.6711568832397461,\n",
       " 1.164562702178955,\n",
       " 0.9147434234619141,\n",
       " 0.987108051776886,\n",
       " 0.7274390459060669,\n",
       " 0.7875139117240906,\n",
       " 0.7740515470504761,\n",
       " 0.6835644245147705,\n",
       " 0.6798208355903625,\n",
       " 0.6539391875267029,\n",
       " 0.6750099658966064,\n",
       " 0.592237114906311,\n",
       " 0.710334300994873,\n",
       " 0.7370835542678833,\n",
       " 0.6571565866470337,\n",
       " 0.7374064922332764,\n",
       " 0.6602233052253723,\n",
       " 0.5856947898864746,\n",
       " 0.672870934009552,\n",
       " 0.6592457890510559,\n",
       " 0.6273294687271118,\n",
       " 0.6849730014801025,\n",
       " 0.6771141290664673,\n",
       " 0.5343456268310547,\n",
       " 0.846068263053894,\n",
       " 0.6379641890525818,\n",
       " 0.5571130514144897,\n",
       " 0.673416256904602,\n",
       " 0.6987860798835754,\n",
       " 0.69219571352005,\n",
       " 0.665015459060669,\n",
       " 0.6778342127799988,\n",
       " 0.6296252012252808,\n",
       " 0.639901340007782,\n",
       " 0.829119086265564,\n",
       " 0.7644829750061035,\n",
       " 0.8355739116668701,\n",
       " 0.807907223701477,\n",
       " 0.8965001106262207,\n",
       " 0.9463109374046326,\n",
       " 0.7528656721115112,\n",
       " 0.9390435814857483,\n",
       " 0.6430937647819519,\n",
       " 0.6757104992866516,\n",
       " 0.8027309775352478,\n",
       " 0.7546777129173279,\n",
       " 0.6457871198654175,\n",
       " 0.8417917490005493,\n",
       " 0.7754580974578857,\n",
       " 0.7225210666656494,\n",
       " 0.7437463998794556,\n",
       " 0.6985981464385986,\n",
       " 0.7690329551696777,\n",
       " 0.6662581562995911,\n",
       " 0.6731033325195312,\n",
       " 0.5629315376281738,\n",
       " 0.8060942888259888,\n",
       " 0.6598865389823914,\n",
       " 0.8973540663719177,\n",
       " 0.740621030330658,\n",
       " 0.6096668243408203,\n",
       " 0.8146317601203918,\n",
       " 0.6128172874450684,\n",
       " 0.6867235898971558,\n",
       " 0.6433035731315613,\n",
       " 0.6535664200782776,\n",
       " 0.6365702152252197,\n",
       " 0.680020272731781,\n",
       " 0.6869990825653076,\n",
       " 0.665259838104248,\n",
       " 0.7914839386940002,\n",
       " 0.6125226020812988,\n",
       " 0.7423097491264343,\n",
       " 0.7863118648529053,\n",
       " 0.6866961121559143,\n",
       " 0.6011608839035034,\n",
       " 0.5969753861427307,\n",
       " 0.640039324760437,\n",
       " 0.6641843318939209,\n",
       " 0.6387193202972412,\n",
       " 0.6956053376197815,\n",
       " 0.6820642352104187,\n",
       " 0.6923784017562866,\n",
       " 0.6487497687339783,\n",
       " 0.6742562055587769,\n",
       " 0.77614825963974,\n",
       " 0.7527332305908203,\n",
       " 0.7641711235046387,\n",
       " 0.6544835567474365,\n",
       " 0.8806487321853638,\n",
       " 0.606842041015625,\n",
       " 0.9627698063850403,\n",
       " 0.7703887820243835,\n",
       " 0.5905799269676208,\n",
       " 0.9808620810508728,\n",
       " 0.6666841506958008,\n",
       " 0.7272829413414001,\n",
       " 0.6615315079689026,\n",
       " 0.7748808264732361,\n",
       " 0.8281019330024719,\n",
       " 0.7041559815406799,\n",
       " 0.7746498584747314,\n",
       " 0.6186323165893555,\n",
       " 0.6936591267585754,\n",
       " 0.6291302442550659,\n",
       " 0.7209375500679016,\n",
       " 0.6478820443153381,\n",
       " 0.709132194519043,\n",
       " 0.6472686529159546,\n",
       " 0.6496332883834839,\n",
       " 1.0378034114837646,\n",
       " 0.8254426121711731,\n",
       " 0.6740179061889648,\n",
       " 0.680346667766571,\n",
       " 0.6330382823944092,\n",
       " 0.6286963820457458,\n",
       " 0.7140368223190308,\n",
       " 0.6602758765220642,\n",
       " 0.6488895416259766,\n",
       " 0.7289358377456665,\n",
       " 0.692317545413971,\n",
       " 0.7405495643615723,\n",
       " 0.6145137548446655,\n",
       " 0.6414543986320496,\n",
       " 0.6828176975250244,\n",
       " 0.7890151143074036,\n",
       " 0.9191986322402954,\n",
       " 0.6912028193473816,\n",
       " 0.7650778889656067,\n",
       " 0.9319798946380615,\n",
       " 0.6587011814117432,\n",
       " 0.6542397737503052,\n",
       " 0.8861960172653198,\n",
       " 0.737643837928772,\n",
       " 0.7356461882591248,\n",
       " 0.7384589910507202,\n",
       " 0.5839934945106506,\n",
       " 0.7062070965766907,\n",
       " 0.9322673082351685,\n",
       " 0.7300771474838257,\n",
       " 0.7977186441421509,\n",
       " 0.9530513286590576,\n",
       " 0.6365674734115601,\n",
       " 0.7103625535964966,\n",
       " 1.0888780355453491,\n",
       " 0.6452215909957886,\n",
       " 0.995217502117157,\n",
       " 1.6224576234817505,\n",
       " 0.8181799650192261,\n",
       " 0.8303003907203674,\n",
       " 2.094337224960327,\n",
       " 1.1272615194320679,\n",
       " 0.576892614364624,\n",
       " 1.1994014978408813,\n",
       " 1.8798142671585083,\n",
       " 1.8019797801971436,\n",
       " 1.158524513244629,\n",
       " 0.8688765168190002,\n",
       " 1.4856353998184204,\n",
       " 2.3513338565826416,\n",
       " 0.5670493245124817,\n",
       " 1.262229084968567,\n",
       " 1.9600446224212646,\n",
       " 1.6265366077423096,\n",
       " 1.583655595779419,\n",
       " 0.7508835196495056,\n",
       " 0.8476941585540771,\n",
       " 1.1443408727645874,\n",
       " 1.892791986465454,\n",
       " 0.855791449546814,\n",
       " 0.6804709434509277,\n",
       " 0.9178246855735779,\n",
       " 1.0406605005264282,\n",
       " 1.0051026344299316,\n",
       " 0.8489945530891418,\n",
       " 0.6521667838096619,\n",
       " 0.7156624794006348,\n",
       " 1.3756308555603027,\n",
       " 0.7689907550811768,\n",
       " 0.6479021310806274,\n",
       " 1.109560489654541,\n",
       " 0.8635293245315552,\n",
       " 1.1416767835617065,\n",
       " 0.6988632678985596,\n",
       " 0.7597526907920837,\n",
       " 1.0702524185180664,\n",
       " 0.7914520502090454,\n",
       " 0.6508986353874207,\n",
       " 0.6826918721199036,\n",
       " 0.8589501976966858,\n",
       " 0.8768031001091003,\n",
       " 0.6690040826797485,\n",
       " 0.6400923728942871,\n",
       " 0.984950602054596,\n",
       " 0.7470588684082031,\n",
       " 0.7086187601089478,\n",
       " 0.6965417861938477,\n",
       " 0.8301140666007996,\n",
       " 0.6135630011558533,\n",
       " 0.681143581867218,\n",
       " 0.6054193377494812,\n",
       " 0.6996520757675171,\n",
       " 0.7938215136528015,\n",
       " 0.6661993861198425,\n",
       " 0.7888941764831543,\n",
       " 0.8666511178016663,\n",
       " 0.5696953535079956,\n",
       " 0.6646902561187744,\n",
       " 0.8008931875228882,\n",
       " 0.5909094214439392,\n",
       " 0.7202334403991699,\n",
       " 0.6153860092163086,\n",
       " 0.7070940732955933,\n",
       " 0.7559853196144104,\n",
       " 0.6839452981948853,\n",
       " 0.5773887634277344,\n",
       " 0.6523271799087524,\n",
       " 0.6087175011634827,\n",
       " 0.660019040107727,\n",
       " 0.6389575004577637,\n",
       " 0.6098844408988953,\n",
       " 0.6577817797660828,\n",
       " 0.6008554100990295,\n",
       " 0.6519163846969604,\n",
       " 0.7873017191886902,\n",
       " 0.6928447484970093,\n",
       " 0.6979033350944519,\n",
       " 0.7049799561500549,\n",
       " 0.7229567170143127,\n",
       " 0.6657468676567078,\n",
       " 0.7390875220298767,\n",
       " 0.5542554259300232,\n",
       " 0.6806733012199402,\n",
       " 0.7874897122383118,\n",
       " 0.6537294387817383,\n",
       " 0.7080546021461487,\n",
       " 0.9389604330062866,\n",
       " 0.7719539403915405,\n",
       " 0.6258876919746399,\n",
       " 0.6844786405563354,\n",
       " 0.9308425188064575,\n",
       " 0.7689857482910156,\n",
       " 0.6092209219932556,\n",
       " 1.0923435688018799,\n",
       " 0.5900963544845581,\n",
       " 0.7001404166221619,\n",
       " 0.6740798950195312,\n",
       " 0.45045700669288635,\n",
       " 0.7772473096847534,\n",
       " 0.6927109360694885,\n",
       " 0.6577985882759094,\n",
       " 0.7755852341651917,\n",
       " 0.9248526692390442,\n",
       " 0.6927347779273987,\n",
       " 0.7350377440452576,\n",
       " 0.726617157459259,\n",
       " 0.7757643461227417,\n",
       " 0.7499111890792847,\n",
       " 0.7915757894515991,\n",
       " 0.8031249046325684,\n",
       " 0.6827822327613831,\n",
       " 0.9615827202796936,\n",
       " 1.0848556756973267,\n",
       " 0.6833648681640625,\n",
       " 0.6573572754859924,\n",
       " 0.729517936706543,\n",
       " 0.800891637802124,\n",
       " 0.702153742313385,\n",
       " 0.7976700663566589,\n",
       " 0.8150364756584167,\n",
       " 0.7404734492301941,\n",
       " 0.5836044549942017,\n",
       " 0.6180304288864136,\n",
       " 0.7063071131706238,\n",
       " 0.6610048413276672,\n",
       " 0.6994750499725342,\n",
       " 0.6176539063453674,\n",
       " 0.7399202585220337,\n",
       " 0.6696888208389282,\n",
       " 0.629832923412323,\n",
       " 0.6677282452583313,\n",
       " 0.7629733681678772,\n",
       " 0.6274504661560059,\n",
       " 0.9632566571235657,\n",
       " 0.724023699760437,\n",
       " 0.6935797929763794,\n",
       " 0.642005980014801,\n",
       " 0.5689970254898071,\n",
       " 0.7529284954071045,\n",
       " 0.7302480340003967,\n",
       " 0.637037992477417,\n",
       " 0.6785981059074402,\n",
       " 0.6812455058097839,\n",
       " 0.793791651725769,\n",
       " 0.6576083302497864,\n",
       " 0.6992364525794983,\n",
       " 0.7349344491958618,\n",
       " 0.6418407559394836,\n",
       " 1.0961148738861084,\n",
       " 0.6093767285346985,\n",
       " 0.6040731072425842,\n",
       " 0.7906157970428467,\n",
       " 0.7193747758865356,\n",
       " 0.6451115608215332,\n",
       " 0.66759192943573,\n",
       " 0.6557838320732117,\n",
       " 0.6127305030822754,\n",
       " 0.6366130113601685,\n",
       " 0.6352248191833496,\n",
       " 0.7684417366981506,\n",
       " 0.8177974224090576,\n",
       " 0.7545382380485535,\n",
       " 0.9136233329772949,\n",
       " 1.0169974565505981,\n",
       " 0.6432987451553345,\n",
       " 0.8624883890151978,\n",
       " 1.0701230764389038,\n",
       " 0.6258499026298523,\n",
       " 0.8753339052200317,\n",
       " 0.9214971661567688,\n",
       " 0.8289207220077515,\n",
       " 0.5924177765846252,\n",
       " 0.7204657196998596,\n",
       " 0.7218146324157715,\n",
       " 0.6167075634002686,\n",
       " 0.6324650049209595,\n",
       " 0.7637327909469604,\n",
       " 0.5883517861366272,\n",
       " 0.6225162744522095,\n",
       " 0.7422491908073425,\n",
       " 0.6535714864730835,\n",
       " 0.6802183389663696,\n",
       " 0.6611224412918091,\n",
       " 0.6307947039604187,\n",
       " 0.9786695241928101,\n",
       " 0.7393839359283447,\n",
       " 0.5846521258354187,\n",
       " 0.812617301940918,\n",
       " 0.6395617127418518,\n",
       " 0.6411412954330444,\n",
       " 0.6568375825881958,\n",
       " 0.7927567958831787,\n",
       " 0.6417103409767151,\n",
       " 0.5398099422454834,\n",
       " 0.6881570816040039,\n",
       " 0.6896076202392578,\n",
       " 0.6606605648994446,\n",
       " 0.6745970249176025,\n",
       " 0.6785615086555481,\n",
       " 0.6173809766769409,\n",
       " 0.6359981894493103,\n",
       " 0.6058513522148132,\n",
       " 0.6704615354537964,\n",
       " 0.5966740846633911,\n",
       " 0.6625877022743225,\n",
       " 0.7269601821899414,\n",
       " 0.6417813301086426,\n",
       " 0.6502513289451599,\n",
       " 0.6228708624839783,\n",
       " 0.6046414971351624,\n",
       " 0.6433996558189392,\n",
       " 0.6424445509910583,\n",
       " 0.7533539533615112,\n",
       " 0.6869969367980957,\n",
       " 0.6398197412490845,\n",
       " 0.6602692008018494,\n",
       " 0.6269798278808594,\n",
       " 0.6873871088027954,\n",
       " 0.5994628071784973,\n",
       " 0.6414690613746643,\n",
       " 0.7498833537101746,\n",
       " 0.6826300621032715,\n",
       " 0.6725487112998962,\n",
       " 0.6618198752403259,\n",
       " 0.6974360346794128,\n",
       " 0.5976274013519287,\n",
       " 0.6129624843597412,\n",
       " 0.5591625571250916,\n",
       " 0.8285158276557922,\n",
       " 0.7096779346466064,\n",
       " 0.6180331707000732,\n",
       " 0.6220098733901978,\n",
       " 0.6747673153877258,\n",
       " 0.6485909223556519,\n",
       " 0.632112443447113,\n",
       " 0.6365429162979126,\n",
       " 0.5924896001815796,\n",
       " 0.6527230739593506,\n",
       " 0.5815513134002686,\n",
       " 0.5190694332122803,\n",
       " 0.9276596903800964,\n",
       " 0.806374192237854,\n",
       " 0.6509082317352295,\n",
       " 0.6851056218147278,\n",
       " 1.336875081062317,\n",
       " 0.7705443501472473,\n",
       " 0.5959159135818481,\n",
       " 1.038495421409607,\n",
       " 1.0098987817764282,\n",
       " 0.5632802248001099,\n",
       " 0.5809636116027832,\n",
       " 0.6149676442146301,\n",
       " 0.5903472304344177,\n",
       " 0.8546332120895386,\n",
       " 0.6391048431396484,\n",
       " 0.640455961227417,\n",
       " 0.6510335206985474,\n",
       " 0.5895859003067017,\n",
       " 0.7637508511543274,\n",
       " 0.7297666072845459,\n",
       " 0.6307328343391418,\n",
       " 0.6715610027313232,\n",
       " 0.6388020515441895,\n",
       " 0.6454358100891113,\n",
       " 0.7138936519622803,\n",
       " 0.6425322890281677,\n",
       " 0.732392430305481,\n",
       " 0.7695045471191406,\n",
       " 0.6861264109611511,\n",
       " 0.6353854537010193,\n",
       " 0.6542559862136841,\n",
       " 0.7217076420783997,\n",
       " 0.692253828048706,\n",
       " 0.6005541682243347,\n",
       " 0.6384695768356323,\n",
       " 0.7217263579368591,\n",
       " 0.620698094367981,\n",
       " 0.5985652804374695,\n",
       " 0.5982792973518372,\n",
       " 0.6476266980171204,\n",
       " 0.7592126131057739,\n",
       " 0.6540292501449585,\n",
       " 0.6700114011764526,\n",
       " 0.7431478500366211,\n",
       " 0.7393291592597961,\n",
       " 0.7213706374168396,\n",
       " 0.5539706945419312,\n",
       " 0.7248507738113403,\n",
       " 0.799373209476471,\n",
       " 0.5757109522819519,\n",
       " 0.6549451351165771,\n",
       " 0.6111190915107727,\n",
       " 0.6098318696022034,\n",
       " 0.6365929841995239,\n",
       " 0.6135039925575256,\n",
       " 0.6193041801452637,\n",
       " 0.8035751581192017,\n",
       " 0.5587683320045471,\n",
       " 0.6069397926330566,\n",
       " 0.7851287126541138,\n",
       " 0.7020331621170044,\n",
       " 0.6307173371315002,\n",
       " 0.625408947467804,\n",
       " 0.6197086572647095,\n",
       " 0.594353437423706,\n",
       " 0.5654377341270447,\n",
       " 0.6436958312988281,\n",
       " 0.6363776922225952,\n",
       " 0.5843940377235413,\n",
       " 0.7211994528770447,\n",
       " 0.7022048830986023,\n",
       " 0.665607213973999,\n",
       " 0.8210108876228333,\n",
       " 0.7068756222724915,\n",
       " 0.5973865389823914,\n",
       " 1.0284204483032227,\n",
       " 0.6463650465011597,\n",
       " 0.6302621364593506,\n",
       " 0.5779393911361694,\n",
       " 0.6394634246826172,\n",
       " 0.6062077879905701,\n",
       " 0.7292712330818176,\n",
       " 0.8785260915756226,\n",
       " 0.6979734897613525,\n",
       " 0.6693094372749329,\n",
       " 0.612669050693512,\n",
       " 0.5576667189598083,\n",
       " 0.6599695086479187,\n",
       " 0.6550713777542114,\n",
       " 0.6503787040710449,\n",
       " 0.6677907705307007,\n",
       " 0.7021811604499817,\n",
       " 0.677726149559021,\n",
       " 0.6417227387428284,\n",
       " 0.7008913159370422,\n",
       " 0.6251522898674011,\n",
       " 0.5993375778198242,\n",
       " 0.7063921689987183,\n",
       " 0.6406952142715454,\n",
       " 0.7512863278388977,\n",
       " 0.8152055740356445,\n",
       " 0.5974264740943909,\n",
       " 0.6112193465232849,\n",
       " 0.7078500390052795,\n",
       " 0.9534667134284973,\n",
       " 0.6175389885902405,\n",
       " 0.6452108025550842,\n",
       " 0.623264729976654,\n",
       " 0.6561337113380432,\n",
       " 0.628217339515686,\n",
       " 0.6346216797828674,\n",
       " 0.5873937010765076,\n",
       " 0.6784809231758118,\n",
       " 0.6550083160400391,\n",
       " 0.5918287038803101,\n",
       " 0.5346474647521973,\n",
       " 0.6073876023292542,\n",
       " 0.6777381300926208,\n",
       " 0.8000054955482483,\n",
       " 0.6589758396148682,\n",
       " 0.7065703868865967,\n",
       " 0.6205701231956482,\n",
       " 0.5799425840377808,\n",
       " 0.6603602766990662,\n",
       " 0.7150450348854065,\n",
       " 0.585414469242096,\n",
       " 0.5985177755355835,\n",
       " 0.6076207756996155,\n",
       " 0.6666369438171387,\n",
       " 0.6896651387214661,\n",
       " 0.7128748297691345,\n",
       " 0.6733922958374023,\n",
       " 0.5425847172737122,\n",
       " 0.8154553174972534,\n",
       " 0.6064095497131348,\n",
       " 0.5941136479377747,\n",
       " 0.6088899374008179,\n",
       " 0.6470373868942261,\n",
       " 0.6397941708564758,\n",
       " 0.74559086561203,\n",
       " 0.6863014101982117,\n",
       " 0.5973000526428223,\n",
       " 0.76993328332901,\n",
       " 0.6727170348167419,\n",
       " 0.6630470752716064,\n",
       " 0.646229088306427,\n",
       " 0.5739077925682068,\n",
       " 0.7025703191757202,\n",
       " 0.688360333442688,\n",
       " 0.6590951085090637,\n",
       " 0.6390183568000793,\n",
       " 0.7170212268829346,\n",
       " 0.6682490110397339,\n",
       " 0.6422584056854248,\n",
       " 0.629181981086731,\n",
       " 0.6083145141601562,\n",
       " 0.6007351875305176,\n",
       " 0.6495653986930847,\n",
       " 0.6870512366294861,\n",
       " 0.6475216746330261,\n",
       " 0.6361417770385742,\n",
       " 0.6777657866477966,\n",
       " 0.654538094997406,\n",
       " 0.5469798445701599,\n",
       " 0.5991814732551575,\n",
       " 0.6844977140426636,\n",
       " 0.6574157476425171,\n",
       " 0.5662968158721924,\n",
       " 0.6114926934242249,\n",
       " 0.629438579082489,\n",
       " 0.6774592399597168,\n",
       " 0.5700124502182007,\n",
       " 0.6903573274612427,\n",
       " 0.5974717140197754,\n",
       " 0.546157956123352,\n",
       " 0.5597646236419678,\n",
       " 0.8647422790527344,\n",
       " 0.6872706413269043,\n",
       " 0.6498700976371765,\n",
       " 0.7980653047561646,\n",
       " 0.6232980489730835,\n",
       " 0.6789442896842957,\n",
       " 0.6255092620849609,\n",
       " 0.5651215314865112,\n",
       " 0.5777735710144043,\n",
       " 0.6951842904090881,\n",
       " 0.555332362651825,\n",
       " 0.6677594780921936,\n",
       " 0.6690789461135864,\n",
       " 0.6002532243728638,\n",
       " 0.63997483253479,\n",
       " 0.7136948704719543,\n",
       " 0.6816042065620422,\n",
       " 0.872613787651062,\n",
       " 0.5687474608421326,\n",
       " 0.6765620112419128,\n",
       " 0.6218622326850891,\n",
       " 0.7284507155418396,\n",
       " 0.6803302764892578,\n",
       " 0.6151607632637024,\n",
       " 0.7152684330940247,\n",
       " 0.6212120652198792,\n",
       " 0.7188631892204285,\n",
       " 0.7343361973762512,\n",
       " 0.609398603439331,\n",
       " 0.5997503399848938,\n",
       " 0.6702498197555542,\n",
       " 0.7374262809753418,\n",
       " 0.7530072927474976,\n",
       " 0.5796425938606262,\n",
       " 0.692494809627533,\n",
       " 0.6177180409431458,\n",
       " 0.6067589521408081,\n",
       " 0.5932462811470032,\n",
       " 0.6589234471321106,\n",
       " 0.6233149766921997,\n",
       " 0.7771136164665222,\n",
       " 0.575512707233429,\n",
       " 0.6002013087272644,\n",
       " 0.6567764282226562,\n",
       " 0.6988826394081116,\n",
       " 0.5802571773529053,\n",
       " 0.6314326524734497,\n",
       " 0.6606084704399109,\n",
       " 0.7042561769485474,\n",
       " 0.6826068162918091,\n",
       " 0.5844018459320068,\n",
       " 0.5533113479614258,\n",
       " 0.6398125290870667,\n",
       " 0.6572027802467346,\n",
       " 0.6361828446388245,\n",
       " 0.5971158742904663,\n",
       " 0.6478962898254395,\n",
       " 0.812260627746582,\n",
       " 0.565760612487793,\n",
       " 0.6396933794021606,\n",
       " 0.7160512208938599,\n",
       " 0.6344083547592163,\n",
       " 0.6696524620056152,\n",
       " 0.5631420016288757,\n",
       " 0.6927827596664429,\n",
       " 0.6733523607254028,\n",
       " 0.7761291265487671,\n",
       " 0.5706285238265991,\n",
       " 0.7450491786003113,\n",
       " 0.7441193461418152,\n",
       " 0.7212508320808411,\n",
       " 0.6291680932044983,\n",
       " 0.5622251033782959,\n",
       " 0.8599416613578796,\n",
       " 0.7317253947257996,\n",
       " 1.046776294708252,\n",
       " 0.6417091488838196,\n",
       " 0.6452250480651855,\n",
       " 0.707580029964447,\n",
       " 1.189609408378601,\n",
       " 0.7719473242759705,\n",
       " 0.7454171180725098,\n",
       " 0.6321478486061096,\n",
       " 0.784212052822113,\n",
       " 1.347106695175171,\n",
       " 0.6264556646347046,\n",
       " 0.8098337054252625,\n",
       " 0.8413307070732117,\n",
       " 0.8719598054885864,\n",
       " 0.6598201990127563,\n",
       " 0.6458367109298706,\n",
       " 0.5416122078895569,\n",
       " 0.7282480001449585,\n",
       " 1.4094505310058594,\n",
       " 0.9658512473106384,\n",
       " 0.7675906419754028,\n",
       " 0.6395624279975891,\n",
       " 1.058732032775879,\n",
       " 1.1032551527023315,\n",
       " 0.6755468845367432,\n",
       " 0.7000650763511658,\n",
       " 1.2724575996398926,\n",
       " 1.4276490211486816,\n",
       " 0.7125238180160522,\n",
       " 0.723286509513855,\n",
       " 0.6263399720191956,\n",
       " 0.8237243890762329,\n",
       " 0.6876344680786133,\n",
       " 0.6165981888771057,\n",
       " 0.614315927028656,\n",
       " 0.7213921546936035,\n",
       " 0.7784736156463623,\n",
       " 0.6469282507896423,\n",
       " 0.6339001655578613,\n",
       " 0.5799575448036194,\n",
       " 0.9684203267097473,\n",
       " 0.721169114112854,\n",
       " 0.5430731177330017,\n",
       " 0.8090134859085083,\n",
       " 0.779038667678833,\n",
       " 1.238783597946167,\n",
       " 0.7084530591964722,\n",
       " 0.6675183773040771,\n",
       " 0.7921671271324158,\n",
       " 0.7394549250602722,\n",
       " 0.9132043123245239,\n",
       " 0.5896685123443604,\n",
       " 0.6774721741676331,\n",
       " 0.7298165559768677,\n",
       " 0.7808501124382019,\n",
       " 0.7377650141716003,\n",
       " 0.6454758644104004,\n",
       " 0.6797866821289062,\n",
       " 0.8333421945571899,\n",
       " 0.8576212525367737,\n",
       " 0.6470592617988586,\n",
       " 0.6868044137954712,\n",
       " 0.7471996545791626,\n",
       " 0.5929715037345886,\n",
       " 0.7899165749549866,\n",
       " 0.8367112874984741,\n",
       " 0.5989845991134644,\n",
       " 0.8322943449020386,\n",
       " 0.8785995841026306,\n",
       " 0.6096338033676147,\n",
       " 0.6518993377685547,\n",
       " 0.6723092198371887,\n",
       " 0.5700727105140686,\n",
       " 0.6749066114425659,\n",
       " 0.6583471894264221,\n",
       " 0.6155184507369995,\n",
       " 0.5771995782852173,\n",
       " 0.7154655456542969,\n",
       " 0.5818322896957397,\n",
       " 0.5701569318771362,\n",
       " 0.5645815134048462,\n",
       " 0.6368300318717957,\n",
       " 0.6456327438354492,\n",
       " 0.6079530119895935,\n",
       " 0.5307676792144775,\n",
       " 0.6440286040306091,\n",
       " 0.5609087944030762,\n",
       " 0.6780046224594116,\n",
       " 0.6171111464500427,\n",
       " 0.6480374336242676,\n",
       " 0.6035452485084534,\n",
       " 0.697540819644928,\n",
       " 0.6141244173049927,\n",
       " 0.6252655982971191,\n",
       " 0.6401545405387878,\n",
       " 0.6837529540061951,\n",
       " 0.7446428537368774,\n",
       " 0.6614726781845093,\n",
       " 0.6187353730201721,\n",
       " 0.5457286834716797,\n",
       " 0.6557052731513977,\n",
       " 0.7606394290924072,\n",
       " 0.5849694609642029,\n",
       " 0.6356852650642395,\n",
       " 0.5684817433357239,\n",
       " 0.7689786553382874,\n",
       " 0.6402269005775452,\n",
       " 0.5508500337600708,\n",
       " 0.6576005220413208,\n",
       " 0.7254427671432495,\n",
       " 0.6249602437019348,\n",
       " 0.6086164712905884,\n",
       " 0.6870197057723999,\n",
       " 1.089570164680481,\n",
       " 0.654109537601471,\n",
       " 0.632296621799469,\n",
       " 0.6311595439910889,\n",
       " 0.8245574831962585,\n",
       " 0.8039109110832214,\n",
       " 0.6693454384803772,\n",
       " 0.7180005311965942,\n",
       " 0.6707097887992859,\n",
       " 0.6951516270637512,\n",
       " 0.589056134223938,\n",
       " 0.6209198236465454,\n",
       " 0.6140503287315369,\n",
       " 0.6637690663337708,\n",
       " 0.7043712139129639,\n",
       " 0.6599587202072144,\n",
       " 0.7298697829246521,\n",
       " 0.5687896609306335,\n",
       " 0.7038376331329346,\n",
       " 0.6088055968284607,\n",
       " 0.6231861114501953,\n",
       " 0.6681643724441528,\n",
       " 0.6711832284927368,\n",
       " 0.6448328495025635,\n",
       " 0.6359125375747681,\n",
       " 0.6176618933677673,\n",
       " 0.6800647377967834,\n",
       " 0.5517423748970032,\n",
       " 0.7261267304420471,\n",
       " 0.6931890249252319,\n",
       " 0.6288043856620789,\n",
       " 0.6402318477630615,\n",
       " 0.6208507418632507,\n",
       " 0.6905150413513184,\n",
       " 0.6800702810287476,\n",
       " 0.6007751822471619,\n",
       " 0.661459743976593,\n",
       " 0.7600141167640686,\n",
       " 0.6204296350479126,\n",
       " 0.5906240940093994,\n",
       " 0.6471025943756104,\n",
       " 0.5954557657241821,\n",
       " 0.6001698970794678,\n",
       " 0.7119585871696472,\n",
       " 0.574958860874176,\n",
       " 0.611840546131134,\n",
       " 0.6753880381584167,\n",
       " 0.6817474365234375,\n",
       " 0.702302873134613,\n",
       " 0.6533864736557007,\n",
       " 0.6128771901130676,\n",
       " 0.6001202464103699,\n",
       " 0.698861300945282,\n",
       " 0.8941559195518494,\n",
       " 0.7310690879821777,\n",
       " 0.6805517673492432,\n",
       " 0.7315463423728943,\n",
       " 0.8463143706321716,\n",
       " 0.6834031343460083,\n",
       " 0.6004471778869629,\n",
       " ...]"
      ]
     },
     "execution_count": 69,
     "metadata": {},
     "output_type": "execute_result"
    }
   ],
   "source": [
    "trainer = GNNTrainer(model)\n",
    "trainer.train(train_loader)"
   ]
  },
  {
   "cell_type": "code",
   "execution_count": 70,
   "id": "d113b2d2-b22a-46ca-a82a-9dfc10e256d9",
   "metadata": {},
   "outputs": [
    {
     "name": "stderr",
     "output_type": "stream",
     "text": [
      "                                                                                \r"
     ]
    },
    {
     "data": {
      "image/png": "[encoded data removed]",
      "text/plain": [
       "<Figure size 1000x800 with 2 Axes>"
      ]
     },
     "metadata": {},
     "output_type": "display_data"
    },
    {
     "data": {
      "text/plain": [
       "0.6075"
      ]
     },
     "execution_count": 70,
     "metadata": {},
     "output_type": "execute_result"
    }
   ],
   "source": [
    "# evaulate\n",
    "trainer.evaluate(val_loader)"
   ]
  },
  {
   "cell_type": "code",
   "execution_count": null,
   "id": "aa71afa9-440b-4e35-8e4c-3ba5f77320bb",
   "metadata": {},
   "outputs": [],
   "source": []
  }
 ],
 "metadata": {
  "kernelspec": {
   "display_name": "c142",
   "language": "python",
   "name": "c142"
  },
  "language_info": {
   "codemirror_mode": {
    "name": "ipython",
    "version": 3
   },
   "file_extension": ".py",
   "mimetype": "text/x-python",
   "name": "python",
   "nbconvert_exporter": "python",
   "pygments_lexer": "ipython3",
   "version": "3.8.12"
  }
 },
 "nbformat": 4,
 "nbformat_minor": 5
}
