{
 "cells": [
  {
   "cell_type": "markdown",
   "id": "09037afd-1644-4603-9a54-9273828f2974",
   "metadata": {},
   "source": [
    "# Dealing with the Dataset"
   ]
  },
  {
   "cell_type": "markdown",
   "id": "8a7d1e80-cfdd-40da-bc46-ec2b44db0c7f",
   "metadata": {},
   "source": [
    "## Load HIV dataset"
   ]
  },
  {
   "cell_type": "code",
   "execution_count": 1,
   "id": "d5369fcc-7cef-4e51-bd2c-5f8a3e350e02",
   "metadata": {},
   "outputs": [],
   "source": [
    "import pandas as pd\n",
    "import seaborn as sns\n",
    "import numpy as np\n",
    "import re\n",
    "import torch\n",
    "import torch.nn as nn\n",
    "import matplotlib.pyplot as plt\n",
    "from tqdm import tqdm"
   ]
  },
  {
   "cell_type": "code",
   "execution_count": 2,
   "id": "2e749e01-8963-455e-8f86-154a0ad10153",
   "metadata": {},
   "outputs": [
    {
     "data": {
      "text/html": [
       "<div>\n",
       "<style scoped>\n",
       "    .dataframe tbody tr th:only-of-type {\n",
       "        vertical-align: middle;\n",
       "    }\n",
       "\n",
       "    .dataframe tbody tr th {\n",
       "        vertical-align: top;\n",
       "    }\n",
       "\n",
       "    .dataframe thead th {\n",
       "        text-align: right;\n",
       "    }\n",
       "</style>\n",
       "<table border=\"1\" class=\"dataframe\">\n",
       "  <thead>\n",
       "    <tr style=\"text-align: right;\">\n",
       "      <th></th>\n",
       "      <th>smiles</th>\n",
       "      <th>activity</th>\n",
       "      <th>HIV_active</th>\n",
       "    </tr>\n",
       "  </thead>\n",
       "  <tbody>\n",
       "    <tr>\n",
       "      <th>0</th>\n",
       "      <td>CCC1=[O+][Cu-3]2([O+]=C(CC)C1)[O+]=C(CC)CC(CC)...</td>\n",
       "      <td>CI</td>\n",
       "      <td>0</td>\n",
       "    </tr>\n",
       "    <tr>\n",
       "      <th>1</th>\n",
       "      <td>C(=Cc1ccccc1)C1=[O+][Cu-3]2([O+]=C(C=Cc3ccccc3...</td>\n",
       "      <td>CI</td>\n",
       "      <td>0</td>\n",
       "    </tr>\n",
       "    <tr>\n",
       "      <th>2</th>\n",
       "      <td>CC(=O)N1c2ccccc2Sc2c1ccc1ccccc21</td>\n",
       "      <td>CI</td>\n",
       "      <td>0</td>\n",
       "    </tr>\n",
       "    <tr>\n",
       "      <th>3</th>\n",
       "      <td>Nc1ccc(C=Cc2ccc(N)cc2S(=O)(=O)O)c(S(=O)(=O)O)c1</td>\n",
       "      <td>CI</td>\n",
       "      <td>0</td>\n",
       "    </tr>\n",
       "    <tr>\n",
       "      <th>4</th>\n",
       "      <td>O=S(=O)(O)CCS(=O)(=O)O</td>\n",
       "      <td>CI</td>\n",
       "      <td>0</td>\n",
       "    </tr>\n",
       "  </tbody>\n",
       "</table>\n",
       "</div>"
      ],
      "text/plain": [
       "                                              smiles activity  HIV_active\n",
       "0  CCC1=[O+][Cu-3]2([O+]=C(CC)C1)[O+]=C(CC)CC(CC)...       CI           0\n",
       "1  C(=Cc1ccccc1)C1=[O+][Cu-3]2([O+]=C(C=Cc3ccccc3...       CI           0\n",
       "2                   CC(=O)N1c2ccccc2Sc2c1ccc1ccccc21       CI           0\n",
       "3    Nc1ccc(C=Cc2ccc(N)cc2S(=O)(=O)O)c(S(=O)(=O)O)c1       CI           0\n",
       "4                             O=S(=O)(O)CCS(=O)(=O)O       CI           0"
      ]
     },
     "execution_count": 2,
     "metadata": {},
     "output_type": "execute_result"
    }
   ],
   "source": [
    "df = pd.read_csv(\"HIV.csv\")\n",
    "df.head()"
   ]
  },
  {
   "cell_type": "code",
   "execution_count": 3,
   "id": "9cfc6c87-00f9-4e90-8503-8552506bc5c6",
   "metadata": {},
   "outputs": [
    {
     "name": "stdout",
     "output_type": "stream",
     "text": [
      "CCC1=[O+][Cu-3]2([O+]=C(CC)C1)[O+]=C(CC)CC(CC)=[O+]2\n",
      "1\n"
     ]
    }
   ],
   "source": [
    "string = df.loc[0,'smiles']\n",
    "print(df.loc[0,'smiles'])\n",
    "print(string[3])"
   ]
  },
  {
   "cell_type": "code",
   "execution_count": 4,
   "id": "bf1518a8-a257-475d-9b4d-5759bfa5b5e5",
   "metadata": {},
   "outputs": [
    {
     "data": {
      "text/plain": [
       "activity\n",
       "CI    39684\n",
       "CM     1039\n",
       "CA      404\n",
       "Name: count, dtype: int64"
      ]
     },
     "execution_count": 4,
     "metadata": {},
     "output_type": "execute_result"
    }
   ],
   "source": [
    "df.value_counts(\"activity\")"
   ]
  },
  {
   "cell_type": "code",
   "execution_count": 5,
   "id": "476c8ecc-b806-4989-a409-017a3826e11b",
   "metadata": {},
   "outputs": [
    {
     "data": {
      "text/plain": [
       "HIV_active\n",
       "0    39684\n",
       "1     1443\n",
       "Name: count, dtype: int64"
      ]
     },
     "execution_count": 5,
     "metadata": {},
     "output_type": "execute_result"
    }
   ],
   "source": [
    "df.value_counts(\"HIV_active\")"
   ]
  },
  {
   "cell_type": "markdown",
   "id": "47148457-3ed7-404e-8968-f3cdc2716d74",
   "metadata": {},
   "source": [
    "## Transform into SELFIES representation"
   ]
  },
  {
   "cell_type": "code",
   "execution_count": 6,
   "id": "a5850e02-8e28-48ba-9eba-f10edcd1d4e3",
   "metadata": {},
   "outputs": [],
   "source": [
    "import selfies as sf"
   ]
  },
  {
   "cell_type": "code",
   "execution_count": 7,
   "id": "6f69bc41-fad9-473b-89ad-4f3d97ad378c",
   "metadata": {},
   "outputs": [],
   "source": [
    "# transform\n",
    "df_sf = df.copy()\n",
    "len_sf=[]\n",
    "for ind in range(len(df_sf['smiles'])):\n",
    "    try:\n",
    "       df_sf.loc[ind, 'smiles'] = sf.encoder(df_sf.loc[ind, 'smiles'])\n",
    "    except:\n",
    "        pass #sf.encoder error!\n",
    "\n",
    "    len_sf.append(sf.len_selfies(df_sf.loc[ind, 'smiles']))"
   ]
  },
  {
   "cell_type": "code",
   "execution_count": 8,
   "id": "bfad957c-054e-46fd-9393-6af10dead144",
   "metadata": {},
   "outputs": [
    {
     "data": {
      "text/html": [
       "<div>\n",
       "<style scoped>\n",
       "    .dataframe tbody tr th:only-of-type {\n",
       "        vertical-align: middle;\n",
       "    }\n",
       "\n",
       "    .dataframe tbody tr th {\n",
       "        vertical-align: top;\n",
       "    }\n",
       "\n",
       "    .dataframe thead th {\n",
       "        text-align: right;\n",
       "    }\n",
       "</style>\n",
       "<table border=\"1\" class=\"dataframe\">\n",
       "  <thead>\n",
       "    <tr style=\"text-align: right;\">\n",
       "      <th></th>\n",
       "      <th>selfies</th>\n",
       "      <th>activity</th>\n",
       "      <th>HIV_active</th>\n",
       "    </tr>\n",
       "  </thead>\n",
       "  <tbody>\n",
       "    <tr>\n",
       "      <th>0</th>\n",
       "      <td>[C][C][C][=O+1][Cu-3][Branch1][#Branch2][O+1][...</td>\n",
       "      <td>CI</td>\n",
       "      <td>0</td>\n",
       "    </tr>\n",
       "    <tr>\n",
       "      <th>1</th>\n",
       "      <td>[C][=Branch1][#Branch2][=C][C][=C][C][=C][C][=...</td>\n",
       "      <td>CI</td>\n",
       "      <td>0</td>\n",
       "    </tr>\n",
       "    <tr>\n",
       "      <th>2</th>\n",
       "      <td>[C][C][=Branch1][C][=O][N][C][=C][C][=C][C][=C...</td>\n",
       "      <td>CI</td>\n",
       "      <td>0</td>\n",
       "    </tr>\n",
       "    <tr>\n",
       "      <th>3</th>\n",
       "      <td>[N][C][=C][C][=C][Branch2][Ring1][=Branch1][C]...</td>\n",
       "      <td>CI</td>\n",
       "      <td>0</td>\n",
       "    </tr>\n",
       "    <tr>\n",
       "      <th>4</th>\n",
       "      <td>[O][=S][=Branch1][C][=O][Branch1][C][O][C][C][...</td>\n",
       "      <td>CI</td>\n",
       "      <td>0</td>\n",
       "    </tr>\n",
       "  </tbody>\n",
       "</table>\n",
       "</div>"
      ],
      "text/plain": [
       "                                             selfies activity  HIV_active\n",
       "0  [C][C][C][=O+1][Cu-3][Branch1][#Branch2][O+1][...       CI           0\n",
       "1  [C][=Branch1][#Branch2][=C][C][=C][C][=C][C][=...       CI           0\n",
       "2  [C][C][=Branch1][C][=O][N][C][=C][C][=C][C][=C...       CI           0\n",
       "3  [N][C][=C][C][=C][Branch2][Ring1][=Branch1][C]...       CI           0\n",
       "4  [O][=S][=Branch1][C][=O][Branch1][C][O][C][C][...       CI           0"
      ]
     },
     "execution_count": 8,
     "metadata": {},
     "output_type": "execute_result"
    }
   ],
   "source": [
    "df_sf.rename({'smiles':'selfies'}, axis='columns', inplace=True)\n",
    "df_sf.head()"
   ]
  },
  {
   "cell_type": "code",
   "execution_count": 9,
   "id": "a0a4f76f-a92e-4c7c-b7d0-6d1139f05e3b",
   "metadata": {},
   "outputs": [
    {
     "name": "stdout",
     "output_type": "stream",
     "text": [
      "[C][C][C][=O+1][Cu-3][Branch1][#Branch2][O+1][=C][Branch1][Ring1][C][C][C][Ring1][Branch2][O+1][=C][Branch1][Ring1][C][C][C][C][Branch1][Ring1][C][C][=O+1][Ring1][#C]\n"
     ]
    }
   ],
   "source": [
    "string_sf = df_sf.loc[0,'selfies']\n",
    "print(df_sf.loc[0,'selfies'])\n",
    "#print(string_sf)"
   ]
  },
  {
   "cell_type": "code",
   "execution_count": 10,
   "id": "3f2dacf0-6af4-416d-a8cc-691774292b2e",
   "metadata": {},
   "outputs": [
    {
     "name": "stdout",
     "output_type": "stream",
     "text": [
      "41.75984146667639\n",
      "21.70874260604909\n"
     ]
    }
   ],
   "source": [
    "# Compute mean and standard deviation\n",
    "print(np.mean(len_sf))\n",
    "print(np.std(len_sf))"
   ]
  },
  {
   "cell_type": "code",
   "execution_count": 11,
   "id": "6f35b678-0055-4d8f-bbda-b83134eee82e",
   "metadata": {},
   "outputs": [
    {
     "data": {
      "image/png": "[encoded data removed]",
      "text/plain": [
       "<Figure size 1200x600 with 1 Axes>"
      ]
     },
     "metadata": {},
     "output_type": "display_data"
    }
   ],
   "source": [
    "# Create a histogram\n",
    "plt.figure(figsize=(12, 6))\n",
    "plt.hist(len_sf, bins=range(min(len_sf), max(len_sf) + 1), alpha=0.75, edgecolor='black')\n",
    "plt.title('Histogram of SELFIES String Lengths')\n",
    "plt.xlabel('Length of SELFIES String')\n",
    "plt.ylabel('Count')\n",
    "plt.grid(axis='y', alpha=0.75)\n",
    "plt.show()"
   ]
  },
  {
   "cell_type": "markdown",
   "id": "ce9e7139-05f8-4802-af0b-ecba28a5f961",
   "metadata": {},
   "source": [
    "## Data sampling for the CNN-LSTM Autoencoder"
   ]
  },
  {
   "cell_type": "code",
   "execution_count": 58,
   "id": "ea9feeec-2022-47d8-96bb-ea49f3d4d8f9",
   "metadata": {},
   "outputs": [],
   "source": [
    "# Separate the dataframe into three categories\n",
    "df_CI = df_sf[df_sf['activity'] == 'CI']\n",
    "df_CM = df_sf[df_sf['activity'] == 'CM']\n",
    "df_CA = df_sf[df_sf['activity'] == 'CA']\n",
    "\n",
    "# Randomly sample 300 from each category\n",
    "sample_CI = df_CI.sample(n=300, random_state=42)  # replace 1 with your chosen seed for reproducibility\n",
    "sample_CM = df_CM.sample(n=300, random_state=42)\n",
    "sample_CA = df_CA.sample(n=300, random_state=42)\n",
    "\n",
    "# Concatenate the samples back into one DataFrame\n",
    "sampled_sf = pd.concat([sample_CI, sample_CM, sample_CA])\n",
    "\n",
    "# If you want to shuffle the combined DataFrame\n",
    "sampled_sf = sampled_sf.sample(frac=1).reset_index(drop=True)"
   ]
  },
  {
   "cell_type": "code",
   "execution_count": 59,
   "id": "98dfcc06-05ae-4a2e-a4e1-0c44fb9158ad",
   "metadata": {},
   "outputs": [
    {
     "data": {
      "text/html": [
       "<div>\n",
       "<style scoped>\n",
       "    .dataframe tbody tr th:only-of-type {\n",
       "        vertical-align: middle;\n",
       "    }\n",
       "\n",
       "    .dataframe tbody tr th {\n",
       "        vertical-align: top;\n",
       "    }\n",
       "\n",
       "    .dataframe thead th {\n",
       "        text-align: right;\n",
       "    }\n",
       "</style>\n",
       "<table border=\"1\" class=\"dataframe\">\n",
       "  <thead>\n",
       "    <tr style=\"text-align: right;\">\n",
       "      <th></th>\n",
       "      <th>selfies</th>\n",
       "      <th>activity</th>\n",
       "      <th>HIV_active</th>\n",
       "      <th>graph_data</th>\n",
       "    </tr>\n",
       "  </thead>\n",
       "  <tbody>\n",
       "    <tr>\n",
       "      <th>0</th>\n",
       "      <td>[C][N][C][=Branch1][C][=O][C][=N][C][=C][N][=C...</td>\n",
       "      <td>CM</td>\n",
       "      <td>1</td>\n",
       "      <td>[(x, [tensor([-0.1129,  1.5156,  1.4165, -0.02...</td>\n",
       "    </tr>\n",
       "    <tr>\n",
       "      <th>1</th>\n",
       "      <td>[O][C][C][N][=C][C][=C][C][=C][N][Ring1][=Bran...</td>\n",
       "      <td>CI</td>\n",
       "      <td>0</td>\n",
       "      <td>[(x, [tensor([-0.1129,  1.5156,  1.4165, -0.02...</td>\n",
       "    </tr>\n",
       "    <tr>\n",
       "      <th>2</th>\n",
       "      <td>[N].[N-1][=N+1][=N+1][=C][C][C][Branch1][=N][N...</td>\n",
       "      <td>CM</td>\n",
       "      <td>1</td>\n",
       "      <td>[(x, [tensor([-0.1129,  1.5156,  1.4165, -0.02...</td>\n",
       "    </tr>\n",
       "    <tr>\n",
       "      <th>3</th>\n",
       "      <td>[C][C][Branch1][C][C][Branch1][C][C][C][=Branc...</td>\n",
       "      <td>CA</td>\n",
       "      <td>1</td>\n",
       "      <td>[(x, [tensor([-0.1129,  1.5156,  1.4165, -0.02...</td>\n",
       "    </tr>\n",
       "    <tr>\n",
       "      <th>4</th>\n",
       "      <td>[O][=C][C][=C][C][=C][N][=C][Ring1][=Branch1][...</td>\n",
       "      <td>CM</td>\n",
       "      <td>1</td>\n",
       "      <td>[(x, [tensor([-0.1129,  1.5156,  1.4165, -0.02...</td>\n",
       "    </tr>\n",
       "  </tbody>\n",
       "</table>\n",
       "</div>"
      ],
      "text/plain": [
       "                                             selfies activity  HIV_active  \\\n",
       "0  [C][N][C][=Branch1][C][=O][C][=N][C][=C][N][=C...       CM           1   \n",
       "1  [O][C][C][N][=C][C][=C][C][=C][N][Ring1][=Bran...       CI           0   \n",
       "2  [N].[N-1][=N+1][=N+1][=C][C][C][Branch1][=N][N...       CM           1   \n",
       "3  [C][C][Branch1][C][C][Branch1][C][C][C][=Branc...       CA           1   \n",
       "4  [O][=C][C][=C][C][=C][N][=C][Ring1][=Branch1][...       CM           1   \n",
       "\n",
       "                                          graph_data  \n",
       "0  [(x, [tensor([-0.1129,  1.5156,  1.4165, -0.02...  \n",
       "1  [(x, [tensor([-0.1129,  1.5156,  1.4165, -0.02...  \n",
       "2  [(x, [tensor([-0.1129,  1.5156,  1.4165, -0.02...  \n",
       "3  [(x, [tensor([-0.1129,  1.5156,  1.4165, -0.02...  \n",
       "4  [(x, [tensor([-0.1129,  1.5156,  1.4165, -0.02...  "
      ]
     },
     "execution_count": 59,
     "metadata": {},
     "output_type": "execute_result"
    }
   ],
   "source": [
    "sampled_sf.head()"
   ]
  },
  {
   "cell_type": "markdown",
   "id": "431d66fd-b7e7-4781-8f43-ed755768269e",
   "metadata": {},
   "source": [
    "## Padding, tokenization, and embedding"
   ]
  },
  {
   "cell_type": "code",
   "execution_count": 60,
   "id": "94b83267-6e24-4d2a-a72d-b7b680685ba0",
   "metadata": {},
   "outputs": [],
   "source": [
    "def split_selfies(string_sf):\n",
    "    # This regex matches anything inside brackets\n",
    "    selfies_elements = re.findall(r'\\[.*?]', string_sf)\n",
    "    return selfies_elements\n",
    "\n",
    "'''\n",
    "# Example usage:\n",
    "string_sf = df_sf.loc[0, 'selfies']\n",
    "selfies_list = split_selfies(string_sf)\n",
    "print(selfies_list)\n",
    "'''\n",
    "\n",
    "def pad_start_end_token(dataset):\n",
    "    \"\"\"\n",
    "    Pad a list of SMILES with \"SOS\" and \"EOS\" token\n",
    "    \n",
    "    Parameters\n",
    "    ----------\n",
    "    smiles: list of str\n",
    "        A list containing SMILES strings to pad\n",
    "    \n",
    "    Returns\n",
    "    ------\n",
    "    padded: list of list of str\n",
    "        A list containing padded SMILES strings. Example: [['SOS', 'C', 'EOS'], ...]\n",
    "    \"\"\"\n",
    "    padded = []\n",
    "    for ind in range(len(dataset['selfies'])):\n",
    "        padded.append([\"[SOS]\"] + split_selfies(df_sf.loc[ind, 'selfies']) + [\"[EOS]\"])\n",
    "    return padded"
   ]
  },
  {
   "cell_type": "code",
   "execution_count": 61,
   "id": "96d2d2ea-3285-419d-8512-4ea020c2b019",
   "metadata": {},
   "outputs": [
    {
     "data": {
      "text/plain": [
       "{'[#Branch1]': 0,\n",
       " '[#Branch2]': 1,\n",
       " '[#C]': 2,\n",
       " '[#N]': 3,\n",
       " '[=As]': 4,\n",
       " '[=Branch1]': 5,\n",
       " '[=Branch2]': 6,\n",
       " '[=C]': 7,\n",
       " '[=N+1]': 8,\n",
       " '[=N]': 9,\n",
       " '[=O+1]': 10,\n",
       " '[=O]': 11,\n",
       " '[=P]': 12,\n",
       " '[=Ring1]': 13,\n",
       " '[=Ring2]': 14,\n",
       " '[=S+1]': 15,\n",
       " '[=S]': 16,\n",
       " '[Al]': 17,\n",
       " '[As]': 18,\n",
       " '[B]': 19,\n",
       " '[Br]': 20,\n",
       " '[Branch1]': 21,\n",
       " '[Branch2]': 22,\n",
       " '[C]': 23,\n",
       " '[Cl+3]': 24,\n",
       " '[Cl]': 25,\n",
       " '[Co-4]': 26,\n",
       " '[Cu-3]': 27,\n",
       " '[Cu-5]': 28,\n",
       " '[EOS]': 29,\n",
       " '[F]': 30,\n",
       " '[Fe-2]': 31,\n",
       " '[Fe-3]': 32,\n",
       " '[Fe-4]': 33,\n",
       " '[Hg-1]': 34,\n",
       " '[Hg-2]': 35,\n",
       " '[Hg]': 36,\n",
       " '[I]': 37,\n",
       " '[Li]': 38,\n",
       " '[Mn]': 39,\n",
       " '[N+1]': 40,\n",
       " '[N-1]': 41,\n",
       " '[NH1]': 42,\n",
       " '[N]': 43,\n",
       " '[Ni-2]': 44,\n",
       " '[Ni-4]': 45,\n",
       " '[O+1]': 46,\n",
       " '[O-1]': 47,\n",
       " '[O]': 48,\n",
       " '[PH1]': 49,\n",
       " '[P]': 50,\n",
       " '[Pd-2]': 51,\n",
       " '[Ring1]': 52,\n",
       " '[Ring2]': 53,\n",
       " '[S+1]': 54,\n",
       " '[SOS]': 55,\n",
       " '[S]': 56,\n",
       " '[Sb]': 57,\n",
       " '[Se]': 58,\n",
       " '[SiH1]': 59,\n",
       " '[Si]': 60,\n",
       " '[Sn]': 61,\n",
       " '[V-1]': 62,\n",
       " '[Zn-2]': 63,\n",
       " '[Zr]': 64}"
      ]
     },
     "execution_count": 61,
     "metadata": {},
     "output_type": "execute_result"
    }
   ],
   "source": [
    "padded_sf = pad_start_end_token(sampled_sf)\n",
    "vocab = {element: idx for idx, element in enumerate(np.unique(np.concatenate(padded_sf)))}\n",
    "vocab\n",
    "#padded_sf[0]"
   ]
  },
  {
   "cell_type": "code",
   "execution_count": 62,
   "id": "ace65e4b-cfb7-4e83-8402-518238c8ff2a",
   "metadata": {},
   "outputs": [],
   "source": [
    "def tokenize_selfies(selfies_list, vocab):\n",
    "    \"\"\"Convert a list of SELFIES elements to a list of indices based on the vocabulary (One-hot encoding).\"\"\"\n",
    "    return [vocab[element] for element in selfies_list if element in vocab]\n",
    "\n",
    "\n",
    "\n",
    "class SelfiesEmbedding(nn.Module):\n",
    "    def __init__(self, vocab_size, embedding_dim):\n",
    "        super(SelfiesEmbedding, self).__init__()\n",
    "        self.embedding = nn.Embedding(num_embeddings=vocab_size, embedding_dim=embedding_dim)\n",
    "\n",
    "    def forward(self, x):\n",
    "        return self.embedding(x)"
   ]
  },
  {
   "cell_type": "code",
   "execution_count": 63,
   "id": "03aa5c5d-5de2-4850-b5a8-cb33a4e4363a",
   "metadata": {},
   "outputs": [],
   "source": [
    "tokenized_selfies = [tokenize_selfies(selfies, vocab) for selfies in padded_sf]\n",
    "\n",
    "# Instantiate the embedding layer\n",
    "vocab_size = len(vocab)  # Size of the vocabulary\n",
    "embedding_dim = 64  # The size of each embedding vector, which you can choose\n",
    "'''\n",
    "For the limited gpu resource, set it as 32\n",
    "'''\n",
    "\n",
    "selfies_embedding_layer = SelfiesEmbedding(vocab_size, embedding_dim)\n",
    "\n",
    "# Convert a list of tokenized selfies to a tensor and pass it through the embedding layer\n",
    "# Pad the sequences to the same length to create a tensor\n",
    "from torch.nn.utils.rnn import pad_sequence\n",
    "padded_tokenized_selfies = pad_sequence([torch.tensor(ts) for ts in tokenized_selfies],\n",
    "                                        batch_first=True,\n",
    "                                        padding_value=0)  # assuming 0 is the padding index\n",
    "\n",
    "# Get embeddings for the batch of tokenized SELFIES\n",
    "embedded_selfies = selfies_embedding_layer(padded_tokenized_selfies)"
   ]
  },
  {
   "cell_type": "code",
   "execution_count": 64,
   "id": "72553202-b13f-45e7-9e84-09e3653ac87b",
   "metadata": {},
   "outputs": [
    {
     "data": {
      "text/plain": [
       "'\\nfor i, selfie in enumerate(tokenized_selfies):\\n    print(f\"Length of selfie {i}: {len(selfie)}\")\\n'"
      ]
     },
     "execution_count": 64,
     "metadata": {},
     "output_type": "execute_result"
    }
   ],
   "source": [
    "# Before padding\n",
    "\"\"\"\n",
    "for i, selfie in enumerate(tokenized_selfies):\n",
    "    print(f\"Length of selfie {i}: {len(selfie)}\")\n",
    "\"\"\""
   ]
  },
  {
   "cell_type": "code",
   "execution_count": 65,
   "id": "c8635e8c-63c6-43db-b69b-4830dc00baff",
   "metadata": {},
   "outputs": [
    {
     "name": "stdout",
     "output_type": "stream",
     "text": [
      "The information of SELFIES dataset after tokenized (length of selfies, maximum length of tokenized_selfies, minimum length of tokenized_selfies):\n",
      "900 169 4\n",
      "The information of SELFIES dataset after tokenized (length of selfies, maximum length of padded_tk_selfies, minimum length of padded_tk_selfies):\n",
      "900 169 169\n",
      "torch.Size([900, 169, 64])\n"
     ]
    }
   ],
   "source": [
    "# Find the maximum and minimum length of the tokenized sequences\n",
    "max_length_tk_selfies = max(len(sequence) for sequence in tokenized_selfies)\n",
    "min_length_tk_selfies = min(len(sequence) for sequence in tokenized_selfies)\n",
    "print(f\"The information of SELFIES dataset after tokenized\",\n",
    "      f\"(length of selfies, maximum length of tokenized_selfies, minimum length of tokenized_selfies):\")\n",
    "print(len(tokenized_selfies),max_length_tk_selfies,min_length_tk_selfies)\n",
    "\n",
    "\n",
    "# Find the maximum and minimum length of the tokenized sequences\n",
    "max_length_pt_selfies = max(len(tensor) for tensor in padded_tokenized_selfies)\n",
    "min_length_pt_selfies = min(len(tensor) for tensor in padded_tokenized_selfies)\n",
    "print(f\"The information of SELFIES dataset after tokenized\",\n",
    "      f\"(length of selfies, maximum length of padded_tk_selfies, minimum length of padded_tk_selfies):\")\n",
    "print(len(padded_tokenized_selfies), max_length_pt_selfies, min_length_pt_selfies)\n",
    "\n",
    "print(embedded_selfies.shape)"
   ]
  },
  {
   "cell_type": "markdown",
   "id": "ccb3f9de-e04a-4c43-87e5-e69e1b9c4d80",
   "metadata": {},
   "source": [
    "[900, 169, 64] indicates: <br>\n",
    "900: the amount of the dataset <br>\n",
    "169: the largest length of selfies string; after the pad_sequence function, all strings should have the same length which is 169 <br>\n",
    "64: the dimension after the embedding <br>"
   ]
  },
  {
   "cell_type": "markdown",
   "id": "352533aa-c1e0-4f06-a8d6-bb60058515cc",
   "metadata": {},
   "source": [
    "**input shape: (n_batch, n_seq_how many data in a batch, input_dim_How many class do you have, features)** <br>\n",
    "**LSTM input: torch.nn.LSTM(self, \n",
    "input_size: input_dim, \n",
    "hidden_size, \n",
    "num_layers: RNN neurons, bias=True, batch_first=False, dropout=0.0, bidirectional=False, proj_size=0, device=None, dtype=None)**"
   ]
  },
  {
   "cell_type": "markdown",
   "id": "faaa5360-6f66-4caf-a9b6-ea825f292f78",
   "metadata": {},
   "source": [
    "# CNN-LSTM Autoencoder"
   ]
  },
  {
   "cell_type": "markdown",
   "id": "d794dd41-b888-4cf8-8abb-bca5de2e58a8",
   "metadata": {},
   "source": [
    "**Reference:** <br>\n",
    "“Convolutional, Long Short-Term Memory, Fully Connected Deep Neural Networks.” IEEE Conference Publication | IEEE Xplore, 1 Apr. 2015, ieeexplore.ieee.org/document/7178838/authors#authors."
   ]
  },
  {
   "cell_type": "code",
   "execution_count": 66,
   "id": "cbaf938e-4389-4ef1-99a9-2a8511072ae6",
   "metadata": {},
   "outputs": [],
   "source": [
    "from torch.utils.data import Dataset\n",
    "from torch.utils.data import DataLoader\n",
    "\n",
    "class SelfiesDataset(Dataset):\n",
    "    def __init__(self, data):\n",
    "        # Assuming data is a 3D tensor of shape (batch_size, sequence_length, embedding_dim)\n",
    "        self.data = data\n",
    "    \n",
    "    def __len__(self):\n",
    "        return self.data.shape[0]\n",
    "    \n",
    "    def __getitem__(self, idx):\n",
    "        # Assuming that the last dimension is the features/embedding dimension\n",
    "        x = self.data[idx, :-1, :]  # All but the last feature. Use LSTM to predict the last position of series strings\n",
    "        y = self.data[idx, 1:, :]   # All but the first feature (assuming you're predicting the next feature)\n",
    "        #print(f\"the shape of X:\", x.shape)\n",
    "        #print(f\"the shape of y:\", y.shape)\n",
    "        return x,y\n",
    "#data_ini = SelfiesDataset(embedded_selfies) # initialize dataset"
   ]
  },
  {
   "cell_type": "code",
   "execution_count": 67,
   "id": "793b30f9-fd0f-4fc0-aa74-351d81b784a3",
   "metadata": {},
   "outputs": [],
   "source": [
    "from torch.utils.data import Dataset\n",
    "from torch.utils.data import DataLoader\n",
    "\n",
    "class SelfiesDataset_ori(Dataset):\n",
    "    def __init__(self, data):\n",
    "        # Assuming data is a 3D tensor of shape (batch_size, sequence_length, embedding_dim)\n",
    "        self.data = data\n",
    "    \n",
    "    def __len__(self):\n",
    "        return self.data.shape[0]\n",
    "    \n",
    "    def __getitem__(self, idx):\n",
    "        # Assuming that the last dimension is the features/embedding dimension\n",
    "        x = self.data[idx, :-1, :]  # All but the last feature\n",
    "        y = self.data[idx, 1:, :]   # All but the first feature (assuming you're predicting the next feature)\n",
    "        return {'X': x, 'y': y}\n",
    "    \n",
    "data_ini = SelfiesDataset_ori(embedded_selfies) # initialize dataset"
   ]
  },
  {
   "cell_type": "code",
   "execution_count": 68,
   "id": "b81f8690-a945-4021-8399-ba0e0b0cbc75",
   "metadata": {},
   "outputs": [],
   "source": [
    "from sklearn.model_selection import train_test_split\n",
    "# Initialize dataset\n",
    "\n",
    "# Split the data into training and validation sets\n",
    "# Split indices into training and validation sets\n",
    "train_indices, val_indices = train_test_split(range(len(embedded_selfies)), test_size=0.2, random_state=42)\n",
    "\n",
    "# Create two separate datasets\n",
    "train_dataset = torch.utils.data.Subset(SelfiesDataset(embedded_selfies), train_indices)\n",
    "val_dataset = torch.utils.data.Subset(SelfiesDataset(embedded_selfies), val_indices)\n"
   ]
  },
  {
   "cell_type": "code",
   "execution_count": 69,
   "id": "3031f4e5-597e-445f-aefb-5ced035df2ec",
   "metadata": {},
   "outputs": [
    {
     "data": {
      "text/plain": [
       "169"
      ]
     },
     "execution_count": 69,
     "metadata": {},
     "output_type": "execute_result"
    }
   ],
   "source": [
    "def CNN_out_dim(in_dim, kernel_size, padding, stride, dilation):\n",
    "    return (in_dim + 2 * padding - dilation * (kernel_size - 1) - 1) // stride + 1\n",
    "sequence_length = 169\n",
    "Conv1d_out = CNN_out_dim(sequence_length, kernel_size=5, padding=2, stride=1, dilation=1)\n",
    "Conv1d_out"
   ]
  },
  {
   "cell_type": "code",
   "execution_count": 70,
   "id": "3b3458a1-8e12-499b-9654-f97e72ce593c",
   "metadata": {},
   "outputs": [],
   "source": [
    "class CNNLSTMEncoder(nn.Module):\n",
    "    def __init__(self, input_dim, cnn_channels, kernel_size, lstm_hidden_size, sequence_length,lstm_num_layers):\n",
    "        super(CNNLSTMEncoder, self).__init__()\n",
    "        self.sequence_length = sequence_length\n",
    "        self.lstm_hidden_size = lstm_hidden_size\n",
    "        self.lstm_num_layers = lstm_num_layers\n",
    "        self.cnn = nn.Conv1d(\n",
    "            in_channels=input_dim, out_channels=cnn_channels,kernel_size=kernel_size, stride=1, padding=2\n",
    "        )\n",
    "        self.relu = nn.ReLU()\n",
    "        self.lstm = nn.LSTM(\n",
    "            input_size=cnn_channels, hidden_size=lstm_hidden_size, num_layers=lstm_num_layers, batch_first=True\n",
    "        )\n",
    "\n",
    "        # Additional layers to get the mean and log variance\n",
    "        actual_length = sequence_length-1\n",
    "        self.mu = nn.Linear(lstm_hidden_size * actual_length, latent_dims)\n",
    "        self.log_var = nn.Linear(lstm_hidden_size * actual_length, latent_dims)\n",
    "\n",
    "        device = torch.device(\"cuda\" if torch.cuda.is_available() else \"cpu\")\n",
    "\n",
    "    def forward(self, x):\n",
    "        batch_size = x.size(0)\n",
    "        x = x.transpose(1, 2)  # Reshape to (batch_size, input_dim, sequence_length)\n",
    "        cnn_out = self.relu(self.cnn(x))\n",
    "        cnn_out = cnn_out.transpose(1, 2)  # Reshape to (batch_size, sequence_length, cnn_channels)\n",
    "        lstm_out, _ = self.lstm(cnn_out)\n",
    "        \n",
    "        '''\n",
    "        #For the calculation of dimensionality:\n",
    "        print(f\"sequence_length:\", sequence_length)\n",
    "        print(f\"input shape:\", x.shape)\n",
    "        print(f\"batch size:\", batch_size)\n",
    "        print(f\"input size after transpose:\", x.shape)\n",
    "        print(f\"output size after CNN and relu:\", cnn_out.shape)\n",
    "        print(f\"size before the lstm:\", cnn_out.shape)\n",
    "        print(f\"lstm_out:\", lstm_out.shape)\n",
    "        print(f\"lstm_hidden_size:\", lstm_hidden_size)\n",
    "        print(f\"sequence_length:\", sequence_length)\n",
    "        print(f\"lstm_out_flat size:\", lstm_out_flat.size())  # Debug print statement\n",
    "        print(f\"mu and log_var size:\", mu.shape)\n",
    "        '''\n",
    "        \n",
    "        # Flatten the output of LSTM to connect to fully connected layers\n",
    "        lstm_out_flat = lstm_out.contiguous().view(batch_size, -1)\n",
    "        mu = self.mu(lstm_out_flat).to(device)\n",
    "        log_var = self.log_var(lstm_out_flat).to(device)\n",
    "        return mu, log_var\n",
    "\n",
    "    def init_hidden(self, batch_size):\n",
    "        return (torch.zeros(self.num_layers, batch_size, self.lstm_hidden_size), \n",
    "                torch.zeros(self.num_layers, batch_size, self.lstm_hidden_size))\n",
    "\n",
    "class CNNLSTMDecoder(nn.Module):\n",
    "    def __init__(self, input_dim, cnn_channels, kernel_size, lstm_hidden_size, sequence_length,lstm_num_layers):\n",
    "        super(CNNLSTMDecoder, self).__init__()\n",
    "        self.sequence_length = sequence_length\n",
    "        self.lstm_num_layers = lstm_num_layers\n",
    "        self.lstm_hidden_size = lstm_hidden_size\n",
    "        self.lstm = nn.LSTM(\n",
    "            input_size=lstm_hidden_size, hidden_size=lstm_hidden_size, num_layers=lstm_num_layers, batch_first=True\n",
    "        )\n",
    "        self.relu = nn.ReLU()\n",
    "        self.cnn = nn.ConvTranspose1d(\n",
    "            in_channels=lstm_hidden_size, out_channels=input_dim, kernel_size=kernel_size, padding=kernel_size // 2\n",
    "        )\n",
    "        actual_length = sequence_length-1\n",
    "        self.translinear = nn.Linear(latent_dims, lstm_hidden_size * actual_length)\n",
    "        self.unflatten = nn.Unflatten(1, (actual_length, lstm_hidden_size))\n",
    "\n",
    "    def forward(self, x):\n",
    "        batch_size = x.size(0)\n",
    "        #print(f\"input shape:\", x.shape)\n",
    "        linear_out = self.translinear(x)\n",
    "        unflatten_out = self.unflatten(linear_out)\n",
    "        lstm_out, _ = self.lstm(unflatten_out)\n",
    "        lstm_out = lstm_out.transpose(1, 2)  # Reshape to (batch_size, lstm_hidden_size, sequence_length)\n",
    "        cnn_out = self.relu(self.cnn(lstm_out))\n",
    "        cnn_out = cnn_out.transpose(1, 2)  # Reshape to (batch_size, sequence_length, input_dim)\n",
    "        #print(cnn_out.shape)\n",
    "        return cnn_out\n",
    "\n",
    "    def init_hidden(self, batch_size):\n",
    "        return (torch.zeros(self.num_layers, batch_size, self.lstm_hidden_size), \n",
    "                torch.zeros(self.num_layers, batch_size, self.lstm_hidden_size))\n",
    "\n",
    "class CNNLSTMVAE(nn.Module):\n",
    "    def __init__(self, input_dim, cnn_channels, kernel_size, lstm_hidden_size, sequence_length, latent_dims, lstm_num_layers):\n",
    "        super(CNNLSTMVAE, self).__init__()\n",
    "        self.encoder = CNNLSTMEncoder(\n",
    "            input_dim, cnn_channels, kernel_size, lstm_hidden_size, sequence_length, lstm_num_layers\n",
    "        )\n",
    "        self.decoder = CNNLSTMDecoder(\n",
    "            input_dim, cnn_channels, kernel_size, lstm_hidden_size, sequence_length, lstm_num_layers\n",
    "        )\n",
    "\n",
    "        device = torch.device(\"cuda\" if torch.cuda.is_available() else \"cpu\")\n",
    "        self.encoder = self.encoder.to(device)\n",
    "        self.decoder = self.decoder.to(device)\n",
    "        \n",
    "        # Reparameterization trick\n",
    "        self.latent_dims = latent_dims\n",
    "        self.lstm_hidden_size = lstm_hidden_size\n",
    "        self.lstm_num_layers = lstm_num_layers\n",
    "        \n",
    "    def reparameterize(self, mu, log_var):\n",
    "        std = torch.exp(0.5 * log_var).to(device)\n",
    "        eps = torch.randn_like(std).to(device)\n",
    "        return mu + eps * std\n",
    "\n",
    "    def forward(self, x):\n",
    "        mu, log_var = self.encoder(x)\n",
    "        #print(f\"Encoder is completed\",mu.is_cuda, log_var.is_cuda)\n",
    "        z = self.reparameterize(mu, log_var)\n",
    "        #print(f\"Reparameterize is completed\",z.is_cuda,z.shape)\n",
    "        # The decoder will remain the same, but now it takes 'z' as input\n",
    "        decoded = self.decoder(z)\n",
    "        return decoded, mu, log_var\n",
    "\n",
    "    def init_hidden(self, batch_size):\n",
    "        return (torch.zeros(self.lstm_num_layers, batch_size, self.lstm_hidden_size), \n",
    "                torch.zeros(self.lstm_num_layers, batch_size, self.lstm_hidden_size))"
   ]
  },
  {
   "cell_type": "code",
   "execution_count": 71,
   "id": "a9ece943-9197-4280-8318-ece364285f59",
   "metadata": {
    "scrolled": true
   },
   "outputs": [],
   "source": [
    "'''\n",
    "input_dim: Match the embedding dimension\n",
    "cnn_channels: Number of CNN channels\n",
    "kernel_size: Kernel size for the CNN\n",
    "lstm_hidden_size: Hidden size for the LSTM\n",
    "sequence_length: The length of the padded sequences\n",
    "'''\n",
    "\n",
    "input_dim = embedding_dim\n",
    "cnn_channels = 16\n",
    "kernel_size = 5  \n",
    "lstm_hidden_size = 256  \n",
    "sequence_length = 169\n",
    "num_epochs = 10\n",
    "learning_rate=1e-3\n",
    "l2=1e-5\n",
    "latent_dims=256\n",
    "batch_sizes=32\n",
    "lstm_num_layers=1\n",
    "\n",
    "device = torch.device(\"cuda\" if torch.cuda.is_available() else \"cpu\")\n",
    "CLvae = CNNLSTMVAE(\n",
    "    input_dim, cnn_channels, kernel_size, lstm_hidden_size, sequence_length, latent_dims, lstm_num_layers\n",
    ").to(device)\n",
    "\n",
    "latent_dims = 128  # Dimensionality of the latent representation\n",
    "#CLvae = CNNLSTMVAE(input_dim, cnn_channels, kernel_size, lstm_hidden_size, sequence_length, latent_dims)"
   ]
  },
  {
   "cell_type": "code",
   "execution_count": 72,
   "id": "c7d7b8ad-7d83-4ada-93cb-ef0404d1a992",
   "metadata": {},
   "outputs": [],
   "source": [
    "import torch.nn.functional as F\n",
    "def loss_func(outputs, targets, mu, log_var):\n",
    "    reconstruction_loss = F.binary_cross_entropy_with_logits(outputs, targets, reduction='sum')\n",
    "    kl_divergence = -0.5 * torch.sum(1 + log_var - mu.pow(2) - log_var.exp())\n",
    "    loss = reconstruction_loss + kl_divergence\n",
    "    return loss"
   ]
  },
  {
   "cell_type": "code",
   "execution_count": 73,
   "id": "5a48cac8-5aa9-4a99-8309-f68cd21fee14",
   "metadata": {},
   "outputs": [],
   "source": [
    "def kld_loss_func(mu, sigma):\n",
    "    \"\"\"\n",
    "    KL-Divergence: KLD = 0.5 * sum(\\mu^2 + \\sigma^2 - ln(\\sigma^2) - 1)\n",
    "    \n",
    "    Parameters\n",
    "    ----------\n",
    "    mu: torch.Tensor\n",
    "        Mean vector in the VAE bottleneck region\n",
    "    sigma: torch.Tensor\n",
    "        Standard Deviation vector in the VAE bottleneck region\n",
    "    \n",
    "    Return\n",
    "    ------\n",
    "    kld: torch.Tensor\n",
    "        KL-Divegence loss (a scalar)\n",
    "    \"\"\"\n",
    "    return 0.5 * torch.sum(mu**2 + sigma**2 - torch.log(sigma**2) - 1)\n",
    "\n",
    "\n",
    "def vae_loss_func(recon_x, x, mu, sigma):\n",
    "\n",
    "    bce_loss = econ_loss = F.mse_loss(recon_x, x, reduction='mean')\n",
    "    kld_loss = kld_loss_func(mu, sigma)\n",
    "\n",
    "    return bce_loss + kld_loss\n"
   ]
  },
  {
   "cell_type": "code",
   "execution_count": 74,
   "id": "c82393e7-8908-4265-8c21-9f27983fcc2d",
   "metadata": {},
   "outputs": [],
   "source": [
    "import torch.nn.functional as F\n",
    "\n",
    "class VAETrainer:\n",
    "    \n",
    "    def __init__(self, model, learning_rate, batch_size, epoch, l2):\n",
    "        self.model = model\n",
    "        # use cuda if it is available\n",
    "        if torch.cuda.is_available():\n",
    "            model = model.cuda()  #  model\n",
    "            \n",
    "        # calulate the number of parameters    \n",
    "        num_params = sum(item.numel() for item in model.parameters())\n",
    "        print(f\"{model.__class__.__name__} - Number of parameters: {num_params}\")\n",
    "        \n",
    "        self.optimizer = torch.optim.Adam(model.parameters(), lr=learning_rate, weight_decay=l2)\n",
    "        \n",
    "        self.epoch = epoch\n",
    "        self.batch_size = batch_size\n",
    "        \n",
    "\n",
    "    \n",
    "    def train(self, train_data, val_data, early_stop=True, verbose=True, draw_curve=True):\n",
    "        train_loader = DataLoader(train_data, batch_size=self.batch_size, shuffle=True)\n",
    "        \n",
    "        train_loss_list = []\n",
    "        val_loss_list = []\n",
    "        \n",
    "        weights = self.model.state_dict()\n",
    "        lowest_val_loss = np.inf\n",
    "\n",
    "        for n in tqdm(range(self.epoch), leave=False):\n",
    "            self.model.train()\n",
    "            epoch_loss = 0.0\n",
    "            for X_batch, y_batch in train_loader:\n",
    "                if torch.cuda.is_available():\n",
    "                    X_batch, y_batch = X_batch.cuda(), y_batch.cuda()\n",
    "\n",
    "                print(X_batch.size)\n",
    "                batch_importance = 1 / len(train_data)\n",
    "                # call the model\n",
    "                hidden = self.model.init_hidden(y_batch.shape[0])\n",
    "                self.model.hidden = self.model.init_hidden(y_batch.shape[0])\n",
    "                X_batch_recon, mu, sigma = self.model(X_batch)\n",
    "                batch_loss = vae_loss_func(X_batch_recon, X_batch, mu, sigma)\n",
    "\n",
    "                self.optimizer.zero_grad()\n",
    "                batch_loss.backward(retain_graph=True)\n",
    "                self.optimizer.step()\n",
    "                \n",
    "                epoch_loss += batch_loss.detach().cpu().item() * batch_importance\n",
    "            \n",
    "            train_loss_list.append(epoch_loss)\n",
    "            \n",
    "            val_loss = self.evaluate(val_data, print_loss=False)\n",
    "            val_loss_list.append(val_loss)\n",
    "            \n",
    "            if early_stop:\n",
    "                if val_loss < lowest_val_loss:\n",
    "                    lowest_val_loss = val_loss\n",
    "                    weights = self.model.state_dict()\n",
    "            \n",
    "        if draw_curve:\n",
    "            x_axis = np.arange(self.epoch)\n",
    "            fig, ax = plt.subplots(1, 1, figsize=(5, 4))\n",
    "            ax.plot(x_axis, train_loss_list, label=\"Train\")\n",
    "            ax.plot(x_axis, val_loss_list, label=\"Validation\")\n",
    "            ax.set_title(\"Total Loss\")\n",
    "            ax.set_xlabel(\"# Epoch\")\n",
    "        \n",
    "        if early_stop:\n",
    "            self.model.load_state_dict(weights)\n",
    "        \n",
    "        return {\n",
    "            \"train_loss_list\": train_loss_list,\n",
    "            \"val_loss_list\": val_loss_list,\n",
    "        }\n",
    "    \n",
    "    def evaluate(self, data, print_loss=True):\n",
    "        self.model.eval()\n",
    "        loader = DataLoader(data, batch_size=self.batch_size)\n",
    "        total_loss = 0.0\n",
    "        for X_batch, y_batch in loader:\n",
    "            if torch.cuda.is_available():\n",
    "                 X_batch, y_batch = X_batch.cuda(), y_batch.cuda()\n",
    "            \n",
    "            with torch.no_grad():\n",
    "                batch_importance = 1 / len(data)\n",
    "                X_batch_recon, mu, sigma = self.model(X_batch)\n",
    "                batch_loss = vae_loss_func(X_batch_recon, X_batch, mu, sigma)\n",
    "                total_loss += batch_loss.detach().cpu().item() * batch_importance\n",
    "        if print_loss:\n",
    "            print(f\"Total Loss: {total_loss}\")\n",
    "        return total_loss"
   ]
  },
  {
   "cell_type": "code",
   "execution_count": 75,
   "id": "63fa19ce-b445-4b1e-ac4a-6c01a1f515b2",
   "metadata": {},
   "outputs": [
    {
     "name": "stdout",
     "output_type": "stream",
     "text": [
      "CNNLSTMVAE - Number of parameters: 33967696\n"
     ]
    },
    {
     "name": "stderr",
     "output_type": "stream",
     "text": [
      "  0%|          | 0/10 [00:00<?, ?it/s]"
     ]
    },
    {
     "name": "stdout",
     "output_type": "stream",
     "text": [
      "<built-in method size of Tensor object at 0x00000225AF1AF680>\n",
      "<built-in method size of Tensor object at 0x000002276FD63130>\n",
      "<built-in method size of Tensor object at 0x0000022770FAF270>\n",
      "<built-in method size of Tensor object at 0x000002276FD63130>\n",
      "<built-in method size of Tensor object at 0x0000022770F7DCC0>\n",
      "<built-in method size of Tensor object at 0x000002276FD63130>\n",
      "<built-in method size of Tensor object at 0x0000022770F7DCC0>\n",
      "<built-in method size of Tensor object at 0x000002276FD63130>\n",
      "<built-in method size of Tensor object at 0x0000022770F7DCC0>\n",
      "<built-in method size of Tensor object at 0x00000227720CC9A0>\n",
      "<built-in method size of Tensor object at 0x0000022770F7DCC0>\n",
      "<built-in method size of Tensor object at 0x00000227720CC9A0>\n",
      "<built-in method size of Tensor object at 0x0000022873D381D0>\n",
      "<built-in method size of Tensor object at 0x00000227720CC9A0>\n",
      "<built-in method size of Tensor object at 0x0000022873D381D0>\n",
      "<built-in method size of Tensor object at 0x0000022770F74950>\n",
      "<built-in method size of Tensor object at 0x0000022873D381D0>\n",
      "<built-in method size of Tensor object at 0x0000022770F74950>\n",
      "<built-in method size of Tensor object at 0x0000022873D381D0>\n",
      "<built-in method size of Tensor object at 0x0000022770F74950>\n",
      "<built-in method size of Tensor object at 0x00000227720C8DB0>\n",
      "<built-in method size of Tensor object at 0x0000022770F74950>\n",
      "<built-in method size of Tensor object at 0x0000022873D47E50>\n"
     ]
    },
    {
     "name": "stderr",
     "output_type": "stream",
     "text": [
      " 10%|█         | 1/10 [00:02<00:23,  2.56s/it]"
     ]
    },
    {
     "name": "stdout",
     "output_type": "stream",
     "text": [
      "<built-in method size of Tensor object at 0x0000022874D55450>\n",
      "<built-in method size of Tensor object at 0x0000022770FAD7C0>\n",
      "<built-in method size of Tensor object at 0x0000022874D55450>\n",
      "<built-in method size of Tensor object at 0x0000022770FAD7C0>\n",
      "<built-in method size of Tensor object at 0x0000022770F689A0>\n",
      "<built-in method size of Tensor object at 0x0000022770FAD7C0>\n",
      "<built-in method size of Tensor object at 0x0000022770F689A0>\n",
      "<built-in method size of Tensor object at 0x0000022770FAD7C0>\n",
      "<built-in method size of Tensor object at 0x0000022770F689A0>\n",
      "<built-in method size of Tensor object at 0x0000022770FAD7C0>\n",
      "<built-in method size of Tensor object at 0x0000022770F689A0>\n",
      "<built-in method size of Tensor object at 0x0000022770FAD7C0>\n",
      "<built-in method size of Tensor object at 0x0000022770F689A0>\n",
      "<built-in method size of Tensor object at 0x0000022770FAD7C0>\n",
      "<built-in method size of Tensor object at 0x0000022770F689A0>\n",
      "<built-in method size of Tensor object at 0x00000225AF61C0E0>\n",
      "<built-in method size of Tensor object at 0x0000022770F689A0>\n",
      "<built-in method size of Tensor object at 0x00000225AF61C0E0>\n",
      "<built-in method size of Tensor object at 0x0000022770F689A0>\n",
      "<built-in method size of Tensor object at 0x00000225AF61C0E0>\n",
      "<built-in method size of Tensor object at 0x0000022770F689A0>\n",
      "<built-in method size of Tensor object at 0x00000225AF61C0E0>\n",
      "<built-in method size of Tensor object at 0x0000022770F689A0>\n"
     ]
    },
    {
     "name": "stderr",
     "output_type": "stream",
     "text": [
      " 20%|██        | 2/10 [00:04<00:19,  2.43s/it]"
     ]
    },
    {
     "name": "stdout",
     "output_type": "stream",
     "text": [
      "<built-in method size of Tensor object at 0x000002276FD63130>\n",
      "<built-in method size of Tensor object at 0x0000022770F689A0>\n",
      "<built-in method size of Tensor object at 0x000002276FD63130>\n",
      "<built-in method size of Tensor object at 0x0000022770F689A0>\n",
      "<built-in method size of Tensor object at 0x000002276FD63130>\n",
      "<built-in method size of Tensor object at 0x00000225AF8BC590>\n",
      "<built-in method size of Tensor object at 0x000002276FD63130>\n",
      "<built-in method size of Tensor object at 0x00000225AF8BC590>\n",
      "<built-in method size of Tensor object at 0x000002276FD63130>\n",
      "<built-in method size of Tensor object at 0x00000225AF8BC590>\n",
      "<built-in method size of Tensor object at 0x000002276FD63130>\n",
      "<built-in method size of Tensor object at 0x00000225AF8BC590>\n",
      "<built-in method size of Tensor object at 0x000002276FD63130>\n",
      "<built-in method size of Tensor object at 0x0000022770FACC20>\n",
      "<built-in method size of Tensor object at 0x000002276FD63130>\n",
      "<built-in method size of Tensor object at 0x0000022770FACC20>\n",
      "<built-in method size of Tensor object at 0x0000022874D79AE0>\n",
      "<built-in method size of Tensor object at 0x0000022770FACC20>\n",
      "<built-in method size of Tensor object at 0x0000022874D79AE0>\n",
      "<built-in method size of Tensor object at 0x0000022770F689A0>\n",
      "<built-in method size of Tensor object at 0x0000022874D79AE0>\n",
      "<built-in method size of Tensor object at 0x0000022770F689A0>\n"
     ]
    },
    {
     "name": "stderr",
     "output_type": "stream",
     "text": [
      " 30%|███       | 3/10 [00:07<00:17,  2.45s/it]"
     ]
    },
    {
     "name": "stdout",
     "output_type": "stream",
     "text": [
      "<built-in method size of Tensor object at 0x0000022770F630E0>\n",
      "<built-in method size of Tensor object at 0x0000022770F74950>\n",
      "<built-in method size of Tensor object at 0x00000227720C0770>\n",
      "<built-in method size of Tensor object at 0x00000225AF1FB630>\n",
      "<built-in method size of Tensor object at 0x00000227720C0770>\n",
      "<built-in method size of Tensor object at 0x00000225AF1FB630>\n",
      "<built-in method size of Tensor object at 0x00000227720C0770>\n",
      "<built-in method size of Tensor object at 0x00000227720CEE00>\n",
      "<built-in method size of Tensor object at 0x00000227720C0770>\n",
      "<built-in method size of Tensor object at 0x00000227720CEE00>\n",
      "<built-in method size of Tensor object at 0x00000227720C0770>\n",
      "<built-in method size of Tensor object at 0x00000227720CEE00>\n",
      "<built-in method size of Tensor object at 0x0000022770F74950>\n",
      "<built-in method size of Tensor object at 0x00000227720CEE00>\n",
      "<built-in method size of Tensor object at 0x0000022770F74950>\n",
      "<built-in method size of Tensor object at 0x00000227720CEE00>\n",
      "<built-in method size of Tensor object at 0x0000022770F74950>\n",
      "<built-in method size of Tensor object at 0x00000227720CEE00>\n",
      "<built-in method size of Tensor object at 0x0000022770F74950>\n",
      "<built-in method size of Tensor object at 0x00000227720CEE00>\n",
      "<built-in method size of Tensor object at 0x0000022770F74950>\n",
      "<built-in method size of Tensor object at 0x0000022770FAFE50>\n",
      "<built-in method size of Tensor object at 0x0000022770F74950>\n",
      "<built-in method size of Tensor object at 0x0000022873D47E50>\n"
     ]
    },
    {
     "name": "stderr",
     "output_type": "stream",
     "text": [
      " 40%|████      | 4/10 [00:09<00:14,  2.46s/it]"
     ]
    },
    {
     "name": "stdout",
     "output_type": "stream",
     "text": [
      "<built-in method size of Tensor object at 0x00000225AF1AFB30>\n",
      "<built-in method size of Tensor object at 0x000002277200EA90>\n",
      "<built-in method size of Tensor object at 0x0000022770FA8DB0>\n",
      "<built-in method size of Tensor object at 0x00000225AF1FB630>\n",
      "<built-in method size of Tensor object at 0x0000022873D47E50>\n",
      "<built-in method size of Tensor object at 0x00000225AF1FB630>\n",
      "<built-in method size of Tensor object at 0x0000022873D47E50>\n",
      "<built-in method size of Tensor object at 0x00000225AF1FB630>\n",
      "<built-in method size of Tensor object at 0x0000022873D47E50>\n",
      "<built-in method size of Tensor object at 0x00000225AF1FB630>\n",
      "<built-in method size of Tensor object at 0x0000022873D47E50>\n",
      "<built-in method size of Tensor object at 0x00000225AF1FB630>\n",
      "<built-in method size of Tensor object at 0x0000022873D47E50>\n",
      "<built-in method size of Tensor object at 0x00000225AF1FB630>\n",
      "<built-in method size of Tensor object at 0x0000022770FAC7C0>\n",
      "<built-in method size of Tensor object at 0x00000225AF1FB630>\n",
      "<built-in method size of Tensor object at 0x0000022770F7D9A0>\n",
      "<built-in method size of Tensor object at 0x0000022873D47E50>\n",
      "<built-in method size of Tensor object at 0x0000022873D381D0>\n",
      "<built-in method size of Tensor object at 0x0000022873D47E50>\n",
      "<built-in method size of Tensor object at 0x0000022770F634F0>\n",
      "<built-in method size of Tensor object at 0x0000022873D47E50>\n",
      "<built-in method size of Tensor object at 0x0000022770F634F0>\n"
     ]
    },
    {
     "name": "stderr",
     "output_type": "stream",
     "text": [
      " 50%|█████     | 5/10 [00:12<00:12,  2.48s/it]"
     ]
    },
    {
     "name": "stdout",
     "output_type": "stream",
     "text": [
      "<built-in method size of Tensor object at 0x00000227720C8DB0>\n",
      "<built-in method size of Tensor object at 0x00000227720CEBD0>\n",
      "<built-in method size of Tensor object at 0x00000225AF1FB630>\n",
      "<built-in method size of Tensor object at 0x00000225AF3AE0E0>\n",
      "<built-in method size of Tensor object at 0x00000225AF1FB630>\n",
      "<built-in method size of Tensor object at 0x00000225AF3AE0E0>\n",
      "<built-in method size of Tensor object at 0x00000225AF1FB630>\n",
      "<built-in method size of Tensor object at 0x00000225AF3AE0E0>\n",
      "<built-in method size of Tensor object at 0x00000225AF1FB630>\n",
      "<built-in method size of Tensor object at 0x00000225AF3AE0E0>\n",
      "<built-in method size of Tensor object at 0x00000225AF1FB630>\n",
      "<built-in method size of Tensor object at 0x00000225AF3AE0E0>\n",
      "<built-in method size of Tensor object at 0x00000225AF1FB630>\n",
      "<built-in method size of Tensor object at 0x00000225AF3AE0E0>\n",
      "<built-in method size of Tensor object at 0x00000225AF1FB630>\n",
      "<built-in method size of Tensor object at 0x00000225AF3AE0E0>\n",
      "<built-in method size of Tensor object at 0x0000022770F74950>\n",
      "<built-in method size of Tensor object at 0x00000225AF3AE0E0>\n",
      "<built-in method size of Tensor object at 0x0000022770F74950>\n",
      "<built-in method size of Tensor object at 0x00000225AF3AE0E0>\n",
      "<built-in method size of Tensor object at 0x0000022770F74950>\n",
      "<built-in method size of Tensor object at 0x00000225AF3AE0E0>\n"
     ]
    },
    {
     "name": "stderr",
     "output_type": "stream",
     "text": [
      " 60%|██████    | 6/10 [00:14<00:09,  2.48s/it]"
     ]
    },
    {
     "name": "stdout",
     "output_type": "stream",
     "text": [
      "<built-in method size of Tensor object at 0x0000022874D73770>\n",
      "<built-in method size of Tensor object at 0x00000227720CC2C0>\n",
      "<built-in method size of Tensor object at 0x0000022770F630E0>\n",
      "<built-in method size of Tensor object at 0x0000022873D381D0>\n",
      "<built-in method size of Tensor object at 0x0000022770F630E0>\n",
      "<built-in method size of Tensor object at 0x0000022873D381D0>\n",
      "<built-in method size of Tensor object at 0x0000022770F630E0>\n",
      "<built-in method size of Tensor object at 0x00000225AF858C70>\n",
      "<built-in method size of Tensor object at 0x0000022770F6A900>\n",
      "<built-in method size of Tensor object at 0x00000225AF858C70>\n",
      "<built-in method size of Tensor object at 0x0000022770F6A900>\n",
      "<built-in method size of Tensor object at 0x00000227720C8E00>\n",
      "<built-in method size of Tensor object at 0x0000022770F6A900>\n",
      "<built-in method size of Tensor object at 0x0000022770F27590>\n",
      "<built-in method size of Tensor object at 0x0000022770F6A900>\n",
      "<built-in method size of Tensor object at 0x0000022770F27590>\n",
      "<built-in method size of Tensor object at 0x0000022770F6A900>\n",
      "<built-in method size of Tensor object at 0x0000022770F27590>\n",
      "<built-in method size of Tensor object at 0x00000227720CC2C0>\n",
      "<built-in method size of Tensor object at 0x0000022770F27590>\n",
      "<built-in method size of Tensor object at 0x00000227720CC2C0>\n",
      "<built-in method size of Tensor object at 0x0000022770F27590>\n",
      "<built-in method size of Tensor object at 0x00000227720CC2C0>\n",
      "<built-in method size of Tensor object at 0x00000225AF858C70>\n"
     ]
    },
    {
     "name": "stderr",
     "output_type": "stream",
     "text": [
      " 70%|███████   | 7/10 [00:17<00:07,  2.48s/it]"
     ]
    },
    {
     "name": "stdout",
     "output_type": "stream",
     "text": [
      "<built-in method size of Tensor object at 0x00000225AF1AFB30>\n",
      "<built-in method size of Tensor object at 0x00000225AF858C70>\n",
      "<built-in method size of Tensor object at 0x0000022874D73770>\n",
      "<built-in method size of Tensor object at 0x00000225AF858C70>\n",
      "<built-in method size of Tensor object at 0x0000022874D73770>\n",
      "<built-in method size of Tensor object at 0x00000225AF858C70>\n",
      "<built-in method size of Tensor object at 0x0000022874D73770>\n",
      "<built-in method size of Tensor object at 0x00000225AF858C70>\n",
      "<built-in method size of Tensor object at 0x0000022874D73770>\n",
      "<built-in method size of Tensor object at 0x00000225AF858C70>\n",
      "<built-in method size of Tensor object at 0x0000022874D73770>\n",
      "<built-in method size of Tensor object at 0x00000227720CEC20>\n",
      "<built-in method size of Tensor object at 0x0000022874D73770>\n",
      "<built-in method size of Tensor object at 0x00000227720CEC20>\n",
      "<built-in method size of Tensor object at 0x0000022874D73770>\n",
      "<built-in method size of Tensor object at 0x00000227720CEC20>\n",
      "<built-in method size of Tensor object at 0x0000022874D73770>\n",
      "<built-in method size of Tensor object at 0x00000227720CEC20>\n",
      "<built-in method size of Tensor object at 0x0000022874D73770>\n",
      "<built-in method size of Tensor object at 0x00000225AF1AFB30>\n",
      "<built-in method size of Tensor object at 0x0000022874D73770>\n",
      "<built-in method size of Tensor object at 0x00000225AF1AFB30>\n",
      "<built-in method size of Tensor object at 0x0000022874D73770>\n"
     ]
    },
    {
     "name": "stderr",
     "output_type": "stream",
     "text": [
      " 80%|████████  | 8/10 [00:19<00:04,  2.48s/it]"
     ]
    },
    {
     "name": "stdout",
     "output_type": "stream",
     "text": [
      "<built-in method size of Tensor object at 0x00000225AF858C70>\n",
      "<built-in method size of Tensor object at 0x00000225AF61C0E0>\n",
      "<built-in method size of Tensor object at 0x00000225AF858C70>\n",
      "<built-in method size of Tensor object at 0x00000225AF61C0E0>\n",
      "<built-in method size of Tensor object at 0x00000225AF858C70>\n",
      "<built-in method size of Tensor object at 0x00000225AF61C0E0>\n",
      "<built-in method size of Tensor object at 0x00000225AF858C70>\n",
      "<built-in method size of Tensor object at 0x00000225AF61C0E0>\n",
      "<built-in method size of Tensor object at 0x00000225AF858C70>\n",
      "<built-in method size of Tensor object at 0x00000225AF61C0E0>\n",
      "<built-in method size of Tensor object at 0x00000225AF858C70>\n",
      "<built-in method size of Tensor object at 0x00000225AF61C0E0>\n",
      "<built-in method size of Tensor object at 0x00000225AF858C70>\n",
      "<built-in method size of Tensor object at 0x00000225AF61C0E0>\n",
      "<built-in method size of Tensor object at 0x00000225AF858C70>\n",
      "<built-in method size of Tensor object at 0x00000225AF61C0E0>\n",
      "<built-in method size of Tensor object at 0x00000225AF858C70>\n",
      "<built-in method size of Tensor object at 0x00000225AF61C0E0>\n",
      "<built-in method size of Tensor object at 0x00000225AF858C70>\n",
      "<built-in method size of Tensor object at 0x0000022770F63D10>\n",
      "<built-in method size of Tensor object at 0x00000225AF858C70>\n",
      "<built-in method size of Tensor object at 0x0000022770F27590>\n"
     ]
    },
    {
     "name": "stderr",
     "output_type": "stream",
     "text": [
      " 90%|█████████ | 9/10 [00:22<00:02,  2.49s/it]"
     ]
    },
    {
     "name": "stdout",
     "output_type": "stream",
     "text": [
      "<built-in method size of Tensor object at 0x00000225AF858C70>\n",
      "<built-in method size of Tensor object at 0x00000225AF8BC590>\n",
      "<built-in method size of Tensor object at 0x0000022770FAD1D0>\n",
      "<built-in method size of Tensor object at 0x00000225AF8BC590>\n",
      "<built-in method size of Tensor object at 0x00000227720E6F40>\n",
      "<built-in method size of Tensor object at 0x00000225AF8BC590>\n",
      "<built-in method size of Tensor object at 0x00000227720E6F40>\n",
      "<built-in method size of Tensor object at 0x00000225AF8BC590>\n",
      "<built-in method size of Tensor object at 0x00000227720E6F40>\n",
      "<built-in method size of Tensor object at 0x00000225AF8BC590>\n",
      "<built-in method size of Tensor object at 0x0000022770F7D090>\n",
      "<built-in method size of Tensor object at 0x00000225AF8BC590>\n",
      "<built-in method size of Tensor object at 0x00000225AF432270>\n",
      "<built-in method size of Tensor object at 0x00000225AF8BC590>\n",
      "<built-in method size of Tensor object at 0x00000227720CEBD0>\n",
      "<built-in method size of Tensor object at 0x00000225AF8BC590>\n",
      "<built-in method size of Tensor object at 0x00000227720CEBD0>\n",
      "<built-in method size of Tensor object at 0x00000225AF8BC590>\n",
      "<built-in method size of Tensor object at 0x00000227720CEBD0>\n",
      "<built-in method size of Tensor object at 0x00000225AF8BC590>\n",
      "<built-in method size of Tensor object at 0x00000227720CEBD0>\n",
      "<built-in method size of Tensor object at 0x00000225AF8BC590>\n",
      "<built-in method size of Tensor object at 0x00000225AF1AFB30>\n"
     ]
    },
    {
     "name": "stderr",
     "output_type": "stream",
     "text": [
      "                                               "
     ]
    },
    {
     "name": "stdout",
     "output_type": "stream",
     "text": [
      "<built-in method size of Tensor object at 0x00000225AF8BC590>\n"
     ]
    },
    {
     "name": "stderr",
     "output_type": "stream",
     "text": [
      "\r"
     ]
    },
    {
     "data": {
      "image/png": "[encoded data removed]",
      "text/plain": [
       "<Figure size 500x400 with 1 Axes>"
      ]
     },
     "metadata": {},
     "output_type": "display_data"
    }
   ],
   "source": [
    "\n",
    "trainer = VAETrainer(model=CLvae, learning_rate=1e-3 ,  batch_size=32,  epoch=10, l2=1e-5)\n",
    "# Train the VAE model with the trainer class\n",
    "history = trainer.train(train_dataset, val_dataset)\n"
   ]
  },
  {
   "cell_type": "code",
   "execution_count": 30,
   "id": "bb069797-f250-4e51-bb24-dc61dcf88d75",
   "metadata": {},
   "outputs": [
    {
     "name": "stdout",
     "output_type": "stream",
     "text": [
      "CNNLSTMVAE - Number of parameters: 33924144\n"
     ]
    },
    {
     "name": "stderr",
     "output_type": "stream",
     "text": [
      "  0%|          | 0/3 [00:00<?, ?it/s]"
     ]
    },
    {
     "name": "stdout",
     "output_type": "stream",
     "text": [
      "Batch importance: 0.03125\n",
      "train_loss before append: 0\n",
      "train_loss after append: 1\n",
      "Epoch 0, Batch 0, Batch Loss -353103.75, Epoch Loss -11034.4921875\n",
      "Batch importance: 0.03125\n",
      "train_loss before append: 1\n",
      "train_loss after append: 2\n",
      "Batch importance: 0.03125\n",
      "train_loss before append: 2\n",
      "train_loss after append: 3\n",
      "Batch importance: 0.03125\n",
      "train_loss before append: 3\n",
      "train_loss after append: 4\n",
      "Batch importance: 0.03125\n"
     ]
    },
    {
     "name": "stderr",
     "output_type": "stream",
     "text": [
      " 33%|███▎      | 1/3 [00:00<00:00,  2.71it/s]"
     ]
    },
    {
     "name": "stdout",
     "output_type": "stream",
     "text": [
      "train_loss before append: 4\n",
      "train_loss after append: 5\n",
      "Batch importance: 0.03125\n",
      "train_loss before append: 5\n",
      "train_loss after append: 6\n",
      "Batch importance: 0.03125\n",
      "train_loss before append: 6\n",
      "train_loss after append: 7\n",
      "Batch importance: 0.03125\n",
      "train_loss before append: 7\n",
      "train_loss after append: 8\n",
      "Batch importance: 0.03125\n",
      "train_loss before append: 8\n",
      "train_loss after append: 9\n",
      "Batch importance: 0.08333333333333333\n",
      "train_loss before append: 9\n",
      "train_loss after append: 10\n",
      "Epoch 0, Average Loss 0.0\n",
      "Batch importance: 0.03125\n",
      "train_loss before append: 10\n",
      "train_loss after append: 11\n",
      "Epoch 1, Batch 0, Batch Loss -386182.9375, Epoch Loss -12068.216796875\n",
      "Batch importance: 0.03125\n",
      "train_loss before append: 11\n",
      "train_loss after append: 12\n",
      "Batch importance: 0.03125\n",
      "train_loss before append: 12\n",
      "train_loss after append: 13\n",
      "Batch importance: 0.03125\n",
      "train_loss before append: 13\n",
      "train_loss after append: 14\n",
      "Batch importance: 0.03125\n",
      "train_loss before append: 14\n",
      "train_loss after append: 15\n",
      "Batch importance: 0.03125\n",
      "train_loss before append: 15\n",
      "train_loss after append: 16\n",
      "Batch importance: 0.03125\n",
      "train_loss before append: 16\n",
      "train_loss after append: 17\n",
      "Batch importance: 0.03125\n",
      "train_loss before append: 17\n",
      "train_loss after append: 18\n"
     ]
    },
    {
     "name": "stderr",
     "output_type": "stream",
     "text": [
      " 67%|██████▋   | 2/3 [00:00<00:00,  2.89it/s]"
     ]
    },
    {
     "name": "stdout",
     "output_type": "stream",
     "text": [
      "Batch importance: 0.03125\n",
      "train_loss before append: 18\n",
      "train_loss after append: 19\n",
      "Batch importance: 0.08333333333333333\n",
      "train_loss before append: 19\n",
      "train_loss after append: 20\n",
      "Epoch 1, Average Loss 0.0\n",
      "Batch importance: 0.03125\n",
      "train_loss before append: 20\n",
      "train_loss after append: 21\n",
      "Epoch 2, Batch 0, Batch Loss -506970.71875, Epoch Loss -15842.8349609375\n",
      "Batch importance: 0.03125\n",
      "train_loss before append: 21\n",
      "train_loss after append: 22\n",
      "Batch importance: 0.03125\n",
      "train_loss before append: 22\n",
      "train_loss after append: 23\n",
      "Batch importance: 0.03125\n",
      "train_loss before append: 23\n",
      "train_loss after append: 24\n",
      "Batch importance: 0.03125\n",
      "train_loss before append: 24\n",
      "train_loss after append: 25\n",
      "Batch importance: 0.03125\n"
     ]
    },
    {
     "name": "stderr",
     "output_type": "stream",
     "text": [
      "                                             "
     ]
    },
    {
     "name": "stdout",
     "output_type": "stream",
     "text": [
      "train_loss before append: 25\n",
      "train_loss after append: 26\n",
      "Batch importance: 0.03125\n",
      "train_loss before append: 26\n",
      "train_loss after append: 27\n",
      "Batch importance: 0.03125\n",
      "train_loss before append: 27\n",
      "train_loss after append: 28\n",
      "Batch importance: 0.03125\n",
      "train_loss before append: 28\n",
      "train_loss after append: 29\n",
      "Batch importance: 0.08333333333333333\n",
      "train_loss before append: 29\n",
      "train_loss after append: 30\n",
      "Epoch 2, Average Loss 0.0\n",
      "Training complete\n"
     ]
    },
    {
     "name": "stderr",
     "output_type": "stream",
     "text": [
      "\r"
     ]
    }
   ],
   "source": [
    "import torch\n",
    "import torch.optim as optim\n",
    "from torch.utils.data import DataLoader\n",
    "from torch.nn import functional as F\n",
    "\n",
    "# Assuming you have a dataset 'dataset' which is a PyTorch Dataset\n",
    "train_loader = DataLoader(data_ini, batch_size=batch_sizes, shuffle=True)\n",
    "\n",
    "# Initialize the model\n",
    "model = CLvae\n",
    "\n",
    "# Move model to GPU if CUDA is available\n",
    "if torch.cuda.is_available():\n",
    "    device = torch.device(\"cuda\")\n",
    "else:\n",
    "    device = torch.device(\"cpu\")\n",
    "\n",
    "\n",
    "model = model.to(device)\n",
    "\n",
    "# Define an optimizer\n",
    "optimizer = optim.Adam(model.parameters(), lr=1e-3)\n",
    "\n",
    "train_loss_list = []\n",
    "#draw_curve= True\n",
    "\n",
    "# calulate the number of parameters    \n",
    "num_params = sum(item.numel() for item in model.parameters())\n",
    "print(f\"{model.__class__.__name__} - Number of parameters: {num_params}\")\n",
    "\n",
    "# Training loop\n",
    "num_epochs = 3  # Number of epochs to train for\n",
    "for epoch in tqdm(range(num_epochs),leave=False):\n",
    "#for epoch in range(num_epochs):\n",
    "    model.train()\n",
    "    overall_loss = 0.0\n",
    "    epoch_loss = 0.0\n",
    "    for batch_idx, batch in enumerate(train_loader):  # Make sure to enumerate the loader to get the batch index\n",
    "        # Get the input data and targets\n",
    "        inputs = batch['X']\n",
    "        targets = batch['y']  # For an autoencoder, this is typically the same as inputs\n",
    "        \n",
    "        # Move data to GPU if available\n",
    "        if torch.cuda.is_available():\n",
    "            inputs, targets = inputs.cuda(), targets.cuda()\n",
    "        \n",
    "        # Forward pass\n",
    "        batch_importance = 1 / len(inputs)\n",
    "        print(f\"Batch importance: {batch_importance}\")\n",
    "        hidden = model.init_hidden(targets.shape[0])\n",
    "        model.hidden = model.init_hidden(targets.shape[0])\n",
    "        recon, mu, log_var = model(inputs)\n",
    "        \n",
    "        # Compute losses\n",
    "        batch_loss = loss_func(recon, targets, mu, log_var)\n",
    "\n",
    "        # Backward pass\n",
    "        optimizer.zero_grad()    # Zero out any gradients from previous pass\n",
    "        batch_loss.backward(retain_graph=True)\n",
    "        optimizer.step()  # Update the weights\n",
    "        \n",
    "        epoch_loss += batch_loss.detach().cpu().item() * batch_importance  # Aggregate the loss\n",
    "        print(f\"train_loss before append: {len(train_loss_list)}\")\n",
    "\n",
    "        train_loss_list.append(epoch_loss)\n",
    "        print(f\"train_loss after append: {len(train_loss_list)}\")\n",
    "        \n",
    "        if batch_idx % 100 == 0:\n",
    "            print(f'Epoch {epoch}, Batch {batch_idx}, Batch Loss {batch_loss.item()}, Epoch Loss {epoch_loss}')\n",
    "    \n",
    "    print(f'Epoch {epoch}, Average Loss {overall_loss / len(train_loader.dataset)}')\n",
    "\n",
    "'''\n",
    "if draw_curve:\n",
    "    x_axis = np.arange(num_epochs)\n",
    "    fig, ax = plt.subplots(1, 1, figsize=(5, 4))\n",
    "    ax.plot(x_axis, train_loss_list, label=\"Train\")\n",
    "    ax.set_title(\"Total Loss\")\n",
    "    ax.set_xlabel(\"# Epoch\")   \n",
    "'''\n",
    "print('Training complete')\n"
   ]
  },
  {
   "cell_type": "markdown",
   "id": "ca2c8767-e95c-43de-9b04-ab4a1c89e218",
   "metadata": {},
   "source": [
    "# GNN Classification"
   ]
  },
  {
   "cell_type": "markdown",
   "id": "ba426f82-c1bb-401a-bd67-c665a1a3cfd7",
   "metadata": {},
   "source": [
    "## Resampling the original dataset for GNN classification model"
   ]
  },
  {
   "cell_type": "code",
   "execution_count": 31,
   "id": "4defb190-1e1b-41e4-9e9d-9481de2cbf19",
   "metadata": {},
   "outputs": [
    {
     "data": {
      "text/plain": [
       "{'[#Branch1]': 0,\n",
       " '[#Branch2]': 1,\n",
       " '[#C-1]': 2,\n",
       " '[#C]': 3,\n",
       " '[#N+1]': 4,\n",
       " '[#N]': 5,\n",
       " '[#O+1]': 6,\n",
       " '[=As]': 7,\n",
       " '[=B-1]': 8,\n",
       " '[=Branch1]': 9,\n",
       " '[=Branch2]': 10,\n",
       " '[=Branch3]': 11,\n",
       " '[=C-1]': 12,\n",
       " '[=C]': 13,\n",
       " '[=Fe]': 14,\n",
       " '[=N+1]': 15,\n",
       " '[=N-1]': 16,\n",
       " '[=NH1+1]': 17,\n",
       " '[=NH2+1]': 18,\n",
       " '[=N]': 19,\n",
       " '[=O+1]': 20,\n",
       " '[=OH1+1]': 21,\n",
       " '[=O]': 22,\n",
       " '[=PH1]': 23,\n",
       " '[=P]': 24,\n",
       " '[=Pd-3]': 25,\n",
       " '[=Re+1]': 26,\n",
       " '[=Ring1]': 27,\n",
       " '[=Ring2]': 28,\n",
       " '[=S+1]': 29,\n",
       " '[=S]': 30,\n",
       " '[=Sb]': 31,\n",
       " '[=Se]': 32,\n",
       " '[=W]': 33,\n",
       " '[Ac]': 34,\n",
       " '[Ag-1]': 35,\n",
       " '[Ag]': 36,\n",
       " '[AlH3-1]': 37,\n",
       " '[AlH3-3]': 38,\n",
       " '[Al]': 39,\n",
       " '[As+1]': 40,\n",
       " '[AsH1]': 41,\n",
       " '[As]': 42,\n",
       " '[Au-1]': 43,\n",
       " '[Au-3]': 44,\n",
       " '[Au]': 45,\n",
       " '[B+1]': 46,\n",
       " '[B+2]': 47,\n",
       " '[B-1]': 48,\n",
       " '[B-2]': 49,\n",
       " '[BH2-1]': 50,\n",
       " '[BH3-1]': 51,\n",
       " '[B]': 52,\n",
       " '[Bi+1]': 53,\n",
       " '[Bi]': 54,\n",
       " '[Br-1]': 55,\n",
       " '[BrH1+1]': 56,\n",
       " '[BrH2+1]': 57,\n",
       " '[Br]': 58,\n",
       " '[Branch1]': 59,\n",
       " '[Branch2]': 60,\n",
       " '[Branch3]': 61,\n",
       " '[C+1]': 62,\n",
       " '[C+]': 63,\n",
       " '[C-1]': 64,\n",
       " '[C-]': 65,\n",
       " '[CH+]': 66,\n",
       " '[CH-]': 67,\n",
       " '[CH1-1]': 68,\n",
       " '[CH2-1]': 69,\n",
       " '[C]': 70,\n",
       " '[Ca-2]': 71,\n",
       " '[Ca-4]': 72,\n",
       " '[CaH2]': 73,\n",
       " '[Cl+3]': 74,\n",
       " '[Cl-1]': 75,\n",
       " '[ClH1+1]': 76,\n",
       " '[ClH2+1]': 77,\n",
       " '[Cl]': 78,\n",
       " '[Co+2]': 79,\n",
       " '[Co-2]': 80,\n",
       " '[Co-3]': 81,\n",
       " '[Co-4]': 82,\n",
       " '[Co]': 83,\n",
       " '[Cr]': 84,\n",
       " '[Cs+1]': 85,\n",
       " '[Cu+2]': 86,\n",
       " '[Cu-1]': 87,\n",
       " '[Cu-2]': 88,\n",
       " '[Cu-3]': 89,\n",
       " '[Cu-4]': 90,\n",
       " '[Cu-5]': 91,\n",
       " '[Cu]': 92,\n",
       " '[EOS]': 93,\n",
       " '[FH1+1]': 94,\n",
       " '[F]': 95,\n",
       " '[Fe+1]': 96,\n",
       " '[Fe+2]': 97,\n",
       " '[Fe+3]': 98,\n",
       " '[Fe-1]': 99,\n",
       " '[Fe-2]': 100,\n",
       " '[Fe-3]': 101,\n",
       " '[Fe-4]': 102,\n",
       " '[Fe]': 103,\n",
       " '[Ga-1]': 104,\n",
       " '[Ga-3]': 105,\n",
       " '[GaH3]': 106,\n",
       " '[Ga]': 107,\n",
       " '[Gd+3]': 108,\n",
       " '[GeH2+1]': 109,\n",
       " '[Ge]': 110,\n",
       " '[H+1]': 111,\n",
       " '[H-1]': 112,\n",
       " '[H]': 113,\n",
       " '[Hg-1]': 114,\n",
       " '[Hg-2]': 115,\n",
       " '[Hg]': 116,\n",
       " '[Ho]': 117,\n",
       " '[I+1]': 118,\n",
       " '[I-1]': 119,\n",
       " '[I-]': 120,\n",
       " '[IH2+1]': 121,\n",
       " '[IH2]': 122,\n",
       " '[I]': 123,\n",
       " '[Ir+1]': 124,\n",
       " '[Ir+3]': 125,\n",
       " '[Ir-3]': 126,\n",
       " '[Ir-4]': 127,\n",
       " '[K+1]': 128,\n",
       " '[KH1]': 129,\n",
       " '[LiH1]': 130,\n",
       " '[Li]': 131,\n",
       " '[MgH1]': 132,\n",
       " '[MgH2]': 133,\n",
       " '[Mg]': 134,\n",
       " '[Mn+1]': 135,\n",
       " '[Mn+2]': 136,\n",
       " '[Mn+3]': 137,\n",
       " '[Mn]': 138,\n",
       " '[Mo+1]': 139,\n",
       " '[Mo+2]': 140,\n",
       " '[Mo+]': 141,\n",
       " '[Mo-1]': 142,\n",
       " '[Mo-3]': 143,\n",
       " '[Mo]': 144,\n",
       " '[N+1]': 145,\n",
       " '[N+]': 146,\n",
       " '[N-1]': 147,\n",
       " '[N-]': 148,\n",
       " '[NH+]': 149,\n",
       " '[NH1+1]': 150,\n",
       " '[NH1-1]': 151,\n",
       " '[NH1]': 152,\n",
       " '[NH2+1]': 153,\n",
       " '[N]': 154,\n",
       " '[Na+1]': 155,\n",
       " '[NaH1]': 156,\n",
       " '[Na]': 157,\n",
       " '[Ni-2]': 158,\n",
       " '[Ni-3]': 159,\n",
       " '[Ni-4]': 160,\n",
       " '[Ni]': 161,\n",
       " '[O+1]': 162,\n",
       " '[O+]': 163,\n",
       " '[O-1]': 164,\n",
       " '[O-]': 165,\n",
       " '[OH+]': 166,\n",
       " '[OH1+1]': 167,\n",
       " '[OH2+1]': 168,\n",
       " '[O]': 169,\n",
       " '[P+1]': 170,\n",
       " '[P+]': 171,\n",
       " '[P-1]': 172,\n",
       " '[P-]': 173,\n",
       " '[PH-]': 174,\n",
       " '[PH1]': 175,\n",
       " '[PH]': 176,\n",
       " '[P]': 177,\n",
       " '[Pb]': 178,\n",
       " '[Pd+2]': 179,\n",
       " '[Pd-2]': 180,\n",
       " '[Pd-3]': 181,\n",
       " '[Pd-4]': 182,\n",
       " '[Pt+2]': 183,\n",
       " '[Pt-2]': 184,\n",
       " '[Pt-3]': 185,\n",
       " '[Pt-4]': 186,\n",
       " '[Pt]': 187,\n",
       " '[Re+1]': 188,\n",
       " '[Rh+2]': 189,\n",
       " '[Rh-4]': 190,\n",
       " '[Ring1]': 191,\n",
       " '[Ring2]': 192,\n",
       " '[Ru+1]': 193,\n",
       " '[Ru+2]': 194,\n",
       " '[Ru-2]': 195,\n",
       " '[Ru-4]': 196,\n",
       " '[Ru]': 197,\n",
       " '[S+1]': 198,\n",
       " '[S+]': 199,\n",
       " '[S-1]': 200,\n",
       " '[S-2]': 201,\n",
       " '[SH+]': 202,\n",
       " '[SH1+1]': 203,\n",
       " '[SH1]': 204,\n",
       " '[SOS]': 205,\n",
       " '[S]': 206,\n",
       " '[Sb+1]': 207,\n",
       " '[Sb]': 208,\n",
       " '[Se]': 209,\n",
       " '[SiH1-1]': 210,\n",
       " '[SiH1]': 211,\n",
       " '[Si]': 212,\n",
       " '[Sn]': 213,\n",
       " '[Tb]': 214,\n",
       " '[Te]': 215,\n",
       " '[Ti-2]': 216,\n",
       " '[Ti]': 217,\n",
       " '[Tl-1]': 218,\n",
       " '[Tl-3]': 219,\n",
       " '[U+2]': 220,\n",
       " '[U-5]': 221,\n",
       " '[U]': 222,\n",
       " '[V+]': 223,\n",
       " '[V-1]': 224,\n",
       " '[W+2]': 225,\n",
       " '[W]': 226,\n",
       " '[Zn-2]': 227,\n",
       " '[Zn-3]': 228,\n",
       " '[Zn-4]': 229,\n",
       " '[Zn]': 230,\n",
       " '[Zr]': 231}"
      ]
     },
     "execution_count": 31,
     "metadata": {},
     "output_type": "execute_result"
    }
   ],
   "source": [
    "padded_sf = pad_start_end_token(df_sf)\n",
    "vocab = {element: idx for idx, element in enumerate(np.unique(np.concatenate(padded_sf)))}\n",
    "vocab"
   ]
  },
  {
   "cell_type": "code",
   "execution_count": 32,
   "id": "6c29ea5a-6413-44ac-8ed5-a9d814be06cb",
   "metadata": {},
   "outputs": [],
   "source": [
    "tokenized_selfies = [tokenize_selfies(selfies, vocab) for selfies in padded_sf]\n",
    "\n",
    "# Instantiate the embedding layer\n",
    "vocab_size = len(vocab)  # Size of your vocabulary\n",
    "embedding_dim = 64  # The size of each embedding vector, which you can choose\n",
    "selfies_embedding_layer = SelfiesEmbedding(vocab_size, embedding_dim)\n",
    "\n",
    "# Convert a list of tokenized selfies to a tensor and pass it through the embedding layer\n",
    "# Pad the sequences to the same length to create a tensor\n",
    "from torch.nn.utils.rnn import pad_sequence\n",
    "padded_tokenized_selfies = pad_sequence([torch.tensor(ts) for ts in tokenized_selfies],\n",
    "                                        batch_first=True,\n",
    "                                        padding_value=0)  # assuming 0 is the padding index\n",
    "\n",
    "# Get embeddings for the batch of tokenized SELFIES\n",
    "embedded_selfies = selfies_embedding_layer(padded_tokenized_selfies)\n"
   ]
  },
  {
   "cell_type": "code",
   "execution_count": 33,
   "id": "da890fcf-01bc-43db-975e-d4ce55400747",
   "metadata": {},
   "outputs": [
    {
     "name": "stdout",
     "output_type": "stream",
     "text": [
      "41127\n",
      "torch.Size([41127, 399, 64])\n"
     ]
    }
   ],
   "source": [
    "print(len(tokenized_selfies))\n",
    "print(embedded_selfies.shape)"
   ]
  },
  {
   "cell_type": "markdown",
   "id": "86db908f-86fb-459b-a7de-d02f85a31def",
   "metadata": {},
   "source": [
    "[41127, 399, 128] indicates: <br>\r\n",
    "41127: the amount of the dataset\r\n",
    "399: the largest length of selfies string; after the pad_sequence function, all strings should have the same length which is 399\r\n",
    "128: the dimension after the embedding"
   ]
  },
  {
   "cell_type": "markdown",
   "id": "e0536b88-184e-436b-8ebc-e22d0a8f48ec",
   "metadata": {},
   "source": [
    "## Transform Selfies to Graph"
   ]
  },
  {
   "cell_type": "code",
   "execution_count": 34,
   "id": "1c300922-03cd-4f5a-90b5-c8fa3c2d2fa8",
   "metadata": {},
   "outputs": [
    {
     "name": "stdout",
     "output_type": "stream",
     "text": [
      "Data(x=[399, 64], edge_index=[2, 64])\n"
     ]
    }
   ],
   "source": [
    "import torch\n",
    "from torch_geometric.data import Data\n",
    "\n",
    "def create_graph_data_object(tokenized_selfies, embedded_selfies):\n",
    "    \"\"\"\n",
    "    Creates a graph data object for each molecule.\n",
    "    \n",
    "    Parameters:\n",
    "    - tokenized_selfies: List of lists, where each sublist is a sequence of token indices for a molecule.\n",
    "    - embedded_selfies: Tensor containing embedded vectors for each token in the tokenized_selfies.\n",
    "    \n",
    "    Returns:\n",
    "    - List of Data objects, one for each molecule.\n",
    "    \"\"\"\n",
    "    graph_data_list = []\n",
    "    \n",
    "    for i, token_list in enumerate(tokenized_selfies):\n",
    "        # Get node features from embeddings\n",
    "        node_features = embedded_selfies[i]\n",
    "        \n",
    "        # Create edges\n",
    "        # Connects each node to the next, creating a path graph\n",
    "        edge_index = []\n",
    "        for j in range(len(token_list) - 1):\n",
    "            edge_index.append([j, j + 1])\n",
    "            edge_index.append([j + 1, j])  # Adding reverse edge for undirected graph\n",
    "            \n",
    "        edge_index = torch.tensor(edge_index, dtype=torch.long).t().contiguous()\n",
    "        \n",
    "        # Create a graph data object\n",
    "        data = Data(x=node_features, edge_index=edge_index)\n",
    "        graph_data_list.append(data)\n",
    "    \n",
    "    return graph_data_list\n",
    "\n",
    "# Assume embedded_selfies is a padded tensor where each row corresponds to embeddings of a molecule\n",
    "graph_data_list = create_graph_data_object(tokenized_selfies, embedded_selfies)\n",
    "\n",
    "# Print the first graph object\n",
    "print(graph_data_list[0])\n"
   ]
  },
  {
   "cell_type": "markdown",
   "id": "859ee599-c09b-4510-b331-508d89773c8d",
   "metadata": {},
   "source": [
    "## GNN"
   ]
  },
  {
   "cell_type": "code",
   "execution_count": 35,
   "id": "9a4c597d-a706-4f83-a0fa-e5cc9fe0556f",
   "metadata": {},
   "outputs": [
    {
     "data": {
      "text/html": [
       "<div>\n",
       "<style scoped>\n",
       "    .dataframe tbody tr th:only-of-type {\n",
       "        vertical-align: middle;\n",
       "    }\n",
       "\n",
       "    .dataframe tbody tr th {\n",
       "        vertical-align: top;\n",
       "    }\n",
       "\n",
       "    .dataframe thead th {\n",
       "        text-align: right;\n",
       "    }\n",
       "</style>\n",
       "<table border=\"1\" class=\"dataframe\">\n",
       "  <thead>\n",
       "    <tr style=\"text-align: right;\">\n",
       "      <th></th>\n",
       "      <th>activity</th>\n",
       "      <th>graph_data</th>\n",
       "    </tr>\n",
       "  </thead>\n",
       "  <tbody>\n",
       "    <tr>\n",
       "      <th>0</th>\n",
       "      <td>CI</td>\n",
       "      <td>[(x, [tensor([-0.1129,  1.5156,  1.4165, -0.02...</td>\n",
       "    </tr>\n",
       "    <tr>\n",
       "      <th>1</th>\n",
       "      <td>CI</td>\n",
       "      <td>[(x, [tensor([-0.1129,  1.5156,  1.4165, -0.02...</td>\n",
       "    </tr>\n",
       "    <tr>\n",
       "      <th>2</th>\n",
       "      <td>CI</td>\n",
       "      <td>[(x, [tensor([-0.1129,  1.5156,  1.4165, -0.02...</td>\n",
       "    </tr>\n",
       "    <tr>\n",
       "      <th>3</th>\n",
       "      <td>CI</td>\n",
       "      <td>[(x, [tensor([-0.1129,  1.5156,  1.4165, -0.02...</td>\n",
       "    </tr>\n",
       "    <tr>\n",
       "      <th>4</th>\n",
       "      <td>CI</td>\n",
       "      <td>[(x, [tensor([-0.1129,  1.5156,  1.4165, -0.02...</td>\n",
       "    </tr>\n",
       "    <tr>\n",
       "      <th>...</th>\n",
       "      <td>...</td>\n",
       "      <td>...</td>\n",
       "    </tr>\n",
       "    <tr>\n",
       "      <th>41122</th>\n",
       "      <td>CI</td>\n",
       "      <td>[(x, [tensor([-0.1129,  1.5156,  1.4165, -0.02...</td>\n",
       "    </tr>\n",
       "    <tr>\n",
       "      <th>41123</th>\n",
       "      <td>CI</td>\n",
       "      <td>[(x, [tensor([-0.1129,  1.5156,  1.4165, -0.02...</td>\n",
       "    </tr>\n",
       "    <tr>\n",
       "      <th>41124</th>\n",
       "      <td>CI</td>\n",
       "      <td>[(x, [tensor([-0.1129,  1.5156,  1.4165, -0.02...</td>\n",
       "    </tr>\n",
       "    <tr>\n",
       "      <th>41125</th>\n",
       "      <td>CI</td>\n",
       "      <td>[(x, [tensor([-0.1129,  1.5156,  1.4165, -0.02...</td>\n",
       "    </tr>\n",
       "    <tr>\n",
       "      <th>41126</th>\n",
       "      <td>CI</td>\n",
       "      <td>[(x, [tensor([-0.1129,  1.5156,  1.4165, -0.02...</td>\n",
       "    </tr>\n",
       "  </tbody>\n",
       "</table>\n",
       "<p>41127 rows × 2 columns</p>\n",
       "</div>"
      ],
      "text/plain": [
       "      activity                                         graph_data\n",
       "0           CI  [(x, [tensor([-0.1129,  1.5156,  1.4165, -0.02...\n",
       "1           CI  [(x, [tensor([-0.1129,  1.5156,  1.4165, -0.02...\n",
       "2           CI  [(x, [tensor([-0.1129,  1.5156,  1.4165, -0.02...\n",
       "3           CI  [(x, [tensor([-0.1129,  1.5156,  1.4165, -0.02...\n",
       "4           CI  [(x, [tensor([-0.1129,  1.5156,  1.4165, -0.02...\n",
       "...        ...                                                ...\n",
       "41122       CI  [(x, [tensor([-0.1129,  1.5156,  1.4165, -0.02...\n",
       "41123       CI  [(x, [tensor([-0.1129,  1.5156,  1.4165, -0.02...\n",
       "41124       CI  [(x, [tensor([-0.1129,  1.5156,  1.4165, -0.02...\n",
       "41125       CI  [(x, [tensor([-0.1129,  1.5156,  1.4165, -0.02...\n",
       "41126       CI  [(x, [tensor([-0.1129,  1.5156,  1.4165, -0.02...\n",
       "\n",
       "[41127 rows x 2 columns]"
      ]
     },
     "execution_count": 35,
     "metadata": {},
     "output_type": "execute_result"
    }
   ],
   "source": [
    "# Ensure that your dataframe and your graph data list are aligned\n",
    "df_sf['graph_data'] = graph_data_list\n",
    "\n",
    "# Check that the lengths and indices are correctly aligned\n",
    "assert len(df_sf) == len(graph_data_list), \"Dataframe and graph list length mismatch.\"\n",
    "\n",
    "# Filter out any potential NaNs if something went wrong during graph creation\n",
    "df_sf = df_sf.dropna(subset=['graph_data'])\n",
    "df_gf = df_sf.drop(columns=['selfies','HIV_active'])\n",
    "df_gf"
   ]
  },
  {
   "cell_type": "code",
   "execution_count": 36,
   "id": "273c2825-2c7b-4338-8a52-521cad93875b",
   "metadata": {},
   "outputs": [],
   "source": [
    "# Sampling from each category\n",
    "ci_sample = df_gf[df_gf['activity'] == 'CI'].sample(n=1000, random_state=42)\n",
    "ca_sample = df_gf[df_gf['activity'] == 'CA'].sample(n=300, random_state=42)\n",
    "cm_sample = df_gf[df_gf['activity'] == 'CM'].sample(n=700, random_state=42)\n",
    "# Combine the samples\n",
    "graph_df = pd.concat([ci_sample, ca_sample, cm_sample])\n",
    "\n",
    "# Shuffle the combined dataframe to randomize the order of data points\n",
    "graph_df = graph_df.sample(frac=1, random_state=42).reset_index(drop=True)\n",
    "\n",
    "# Extract the graph data objects for training\n",
    "train_graphs = graph_df['graph_data'].tolist()\n",
    "train_labels = graph_df['activity'].tolist()  # Assuming you want to use string labels directly\n",
    "\n",
    "# If numerical labels are needed, convert them\n",
    "activity_to_index = {'CI': 0, 'CA': 1, 'CM': 2}\n",
    "train_labels = [activity_to_index[label] for label in train_labels]"
   ]
  },
  {
   "cell_type": "markdown",
   "id": "45604f1f-515f-408b-bb94-c66d7a939afb",
   "metadata": {},
   "source": []
  }
 ],
 "metadata": {
  "kernelspec": {
   "display_name": "C242",
   "language": "python",
   "name": "c242"
  },
  "language_info": {
   "codemirror_mode": {
    "name": "ipython",
    "version": 3
   },
   "file_extension": ".py",
   "mimetype": "text/x-python",
   "name": "python",
   "nbconvert_exporter": "python",
   "pygments_lexer": "ipython3",
   "version": "3.8.18"
  }
 },
 "nbformat": 4,
 "nbformat_minor": 5
}
