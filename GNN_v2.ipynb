{
 "cells": [
  {
   "cell_type": "markdown",
   "id": "8a7d1e80-cfdd-40da-bc46-ec2b44db0c7f",
   "metadata": {},
   "source": [
    "## Load HIV dataset"
   ]
  },
  {
   "cell_type": "code",
   "execution_count": 1,
   "id": "d5369fcc-7cef-4e51-bd2c-5f8a3e350e02",
   "metadata": {},
   "outputs": [],
   "source": [
    "import pandas as pd\n",
    "import seaborn as sns\n",
    "import numpy as np\n",
    "import re\n",
    "import torch\n",
    "import torch.nn as nn\n",
    "import matplotlib.pyplot as plt"
   ]
  },
  {
   "cell_type": "code",
   "execution_count": 2,
   "id": "2e749e01-8963-455e-8f86-154a0ad10153",
   "metadata": {},
   "outputs": [
    {
     "data": {
      "text/html": [
       "<div>\n",
       "<style scoped>\n",
       "    .dataframe tbody tr th:only-of-type {\n",
       "        vertical-align: middle;\n",
       "    }\n",
       "\n",
       "    .dataframe tbody tr th {\n",
       "        vertical-align: top;\n",
       "    }\n",
       "\n",
       "    .dataframe thead th {\n",
       "        text-align: right;\n",
       "    }\n",
       "</style>\n",
       "<table border=\"1\" class=\"dataframe\">\n",
       "  <thead>\n",
       "    <tr style=\"text-align: right;\">\n",
       "      <th></th>\n",
       "      <th>smiles</th>\n",
       "      <th>activity</th>\n",
       "      <th>HIV_active</th>\n",
       "    </tr>\n",
       "  </thead>\n",
       "  <tbody>\n",
       "    <tr>\n",
       "      <th>0</th>\n",
       "      <td>CCC1=[O+][Cu-3]2([O+]=C(CC)C1)[O+]=C(CC)CC(CC)...</td>\n",
       "      <td>CI</td>\n",
       "      <td>0</td>\n",
       "    </tr>\n",
       "    <tr>\n",
       "      <th>1</th>\n",
       "      <td>C(=Cc1ccccc1)C1=[O+][Cu-3]2([O+]=C(C=Cc3ccccc3...</td>\n",
       "      <td>CI</td>\n",
       "      <td>0</td>\n",
       "    </tr>\n",
       "    <tr>\n",
       "      <th>2</th>\n",
       "      <td>CC(=O)N1c2ccccc2Sc2c1ccc1ccccc21</td>\n",
       "      <td>CI</td>\n",
       "      <td>0</td>\n",
       "    </tr>\n",
       "    <tr>\n",
       "      <th>3</th>\n",
       "      <td>Nc1ccc(C=Cc2ccc(N)cc2S(=O)(=O)O)c(S(=O)(=O)O)c1</td>\n",
       "      <td>CI</td>\n",
       "      <td>0</td>\n",
       "    </tr>\n",
       "    <tr>\n",
       "      <th>4</th>\n",
       "      <td>O=S(=O)(O)CCS(=O)(=O)O</td>\n",
       "      <td>CI</td>\n",
       "      <td>0</td>\n",
       "    </tr>\n",
       "  </tbody>\n",
       "</table>\n",
       "</div>"
      ],
      "text/plain": [
       "                                              smiles activity  HIV_active\n",
       "0  CCC1=[O+][Cu-3]2([O+]=C(CC)C1)[O+]=C(CC)CC(CC)...       CI           0\n",
       "1  C(=Cc1ccccc1)C1=[O+][Cu-3]2([O+]=C(C=Cc3ccccc3...       CI           0\n",
       "2                   CC(=O)N1c2ccccc2Sc2c1ccc1ccccc21       CI           0\n",
       "3    Nc1ccc(C=Cc2ccc(N)cc2S(=O)(=O)O)c(S(=O)(=O)O)c1       CI           0\n",
       "4                             O=S(=O)(O)CCS(=O)(=O)O       CI           0"
      ]
     },
     "execution_count": 2,
     "metadata": {},
     "output_type": "execute_result"
    }
   ],
   "source": [
    "df = pd.read_csv(\"HIV.csv\")\n",
    "df.head()"
   ]
  },
  {
   "cell_type": "code",
   "execution_count": 3,
   "id": "9cfc6c87-00f9-4e90-8503-8552506bc5c6",
   "metadata": {},
   "outputs": [
    {
     "name": "stdout",
     "output_type": "stream",
     "text": [
      "CCC1=[O+][Cu-3]2([O+]=C(CC)C1)[O+]=C(CC)CC(CC)=[O+]2\n",
      "1\n"
     ]
    }
   ],
   "source": [
    "string = df.loc[0,'smiles']\n",
    "print(df.loc[0,'smiles'])\n",
    "print(string[3])"
   ]
  },
  {
   "cell_type": "code",
   "execution_count": 4,
   "id": "bf1518a8-a257-475d-9b4d-5759bfa5b5e5",
   "metadata": {},
   "outputs": [
    {
     "data": {
      "text/plain": [
       "activity\n",
       "CI    39684\n",
       "CM     1039\n",
       "CA      404\n",
       "Name: count, dtype: int64"
      ]
     },
     "execution_count": 4,
     "metadata": {},
     "output_type": "execute_result"
    }
   ],
   "source": [
    "df.value_counts(\"activity\")"
   ]
  },
  {
   "cell_type": "code",
   "execution_count": 5,
   "id": "476c8ecc-b806-4989-a409-017a3826e11b",
   "metadata": {},
   "outputs": [
    {
     "data": {
      "text/plain": [
       "HIV_active\n",
       "0    39684\n",
       "1     1443\n",
       "Name: count, dtype: int64"
      ]
     },
     "execution_count": 5,
     "metadata": {},
     "output_type": "execute_result"
    }
   ],
   "source": [
    "df.value_counts(\"HIV_active\")"
   ]
  },
  {
   "cell_type": "markdown",
   "id": "2fcd7007-97c9-4a1e-a9c7-ea90a4775e74",
   "metadata": {},
   "source": [
    "## Sampling "
   ]
  },
  {
   "cell_type": "code",
   "execution_count": 6,
   "id": "0871a4ec-e6e4-4ba0-a13e-8f6dc6606c18",
   "metadata": {},
   "outputs": [],
   "source": [
    "# Separate the dataframe into three categories\n",
    "df_CI = df[df['activity'] == 'CI']\n",
    "df_CM = df[df['activity'] == 'CM']\n",
    "df_CA = df[df['activity'] == 'CA']\n",
    "\n",
    "# Sampling from each category\n",
    "sample_CI = df_CI.sample(n=1000, random_state=42) \n",
    "sample_CM = df_CM.sample(n=700, random_state=42)\n",
    "sample_CA = df_CA.sample(n=300, random_state=42)\n",
    "\n",
    "# Concatenate the samples back into one DataFrame\n",
    "sampled_sf = pd.concat([sample_CI, sample_CM, sample_CA])\n",
    "\n",
    "# If you want to shuffle the combined DataFrame\n",
    "sampled_sf = sampled_sf.sample(frac=1).reset_index(drop=True)\n",
    "sampled_sf = sampled_sf.drop(columns=['HIV_active'])"
   ]
  },
  {
   "cell_type": "code",
   "execution_count": 7,
   "id": "8f9e12d0-240b-477e-9191-3cf87eebb70d",
   "metadata": {},
   "outputs": [
    {
     "data": {
      "text/html": [
       "<div>\n",
       "<style scoped>\n",
       "    .dataframe tbody tr th:only-of-type {\n",
       "        vertical-align: middle;\n",
       "    }\n",
       "\n",
       "    .dataframe tbody tr th {\n",
       "        vertical-align: top;\n",
       "    }\n",
       "\n",
       "    .dataframe thead th {\n",
       "        text-align: right;\n",
       "    }\n",
       "</style>\n",
       "<table border=\"1\" class=\"dataframe\">\n",
       "  <thead>\n",
       "    <tr style=\"text-align: right;\">\n",
       "      <th></th>\n",
       "      <th>smiles</th>\n",
       "      <th>activity</th>\n",
       "    </tr>\n",
       "  </thead>\n",
       "  <tbody>\n",
       "    <tr>\n",
       "      <th>0</th>\n",
       "      <td>NC(=O)CSSCC(N)=O</td>\n",
       "      <td>1</td>\n",
       "    </tr>\n",
       "    <tr>\n",
       "      <th>1</th>\n",
       "      <td>COC(=O)NC1(NC(=O)OC)NC(=O)c2ccccc2N1</td>\n",
       "      <td>0</td>\n",
       "    </tr>\n",
       "    <tr>\n",
       "      <th>2</th>\n",
       "      <td>CC12CCC(O)CC1CCC1C2C(O)CC2(C)C1CCC2(O)C(O)CO</td>\n",
       "      <td>0</td>\n",
       "    </tr>\n",
       "    <tr>\n",
       "      <th>3</th>\n",
       "      <td>CCOC(=O)NC(Nc1ccc(S(=O)(=O)Nc2ncccn2)cc1)(C(=O...</td>\n",
       "      <td>0</td>\n",
       "    </tr>\n",
       "    <tr>\n",
       "      <th>4</th>\n",
       "      <td>C=C(OC1C(C)=C2C(C1OC(=O)CCCCCCC)C(C)(OC(C)=O)C...</td>\n",
       "      <td>0</td>\n",
       "    </tr>\n",
       "    <tr>\n",
       "      <th>...</th>\n",
       "      <td>...</td>\n",
       "      <td>...</td>\n",
       "    </tr>\n",
       "    <tr>\n",
       "      <th>1995</th>\n",
       "      <td>CCSc1c2cc(OC)ccc2nc2ccc(OC)cc12</td>\n",
       "      <td>0</td>\n",
       "    </tr>\n",
       "    <tr>\n",
       "      <th>1996</th>\n",
       "      <td>O=C1CN(C=C(C(=O)c2ccccc2)C(=O)c2ccccc2)C(=S)N1</td>\n",
       "      <td>0</td>\n",
       "    </tr>\n",
       "    <tr>\n",
       "      <th>1997</th>\n",
       "      <td>CCSCCCCCCCCCCCC(=O)O</td>\n",
       "      <td>1</td>\n",
       "    </tr>\n",
       "    <tr>\n",
       "      <th>1998</th>\n",
       "      <td>COc1ccc(C2SC(=Cc3ccc(O)cc3)C(=O)N2NC(=O)Cc2ccc...</td>\n",
       "      <td>0</td>\n",
       "    </tr>\n",
       "    <tr>\n",
       "      <th>1999</th>\n",
       "      <td>CNc1ccc(OC)cc1S(=O)(=O)c1ccccc1[N+](=O)[O-]</td>\n",
       "      <td>0</td>\n",
       "    </tr>\n",
       "  </tbody>\n",
       "</table>\n",
       "<p>2000 rows × 2 columns</p>\n",
       "</div>"
      ],
      "text/plain": [
       "                                                 smiles  activity\n",
       "0                                      NC(=O)CSSCC(N)=O         1\n",
       "1                  COC(=O)NC1(NC(=O)OC)NC(=O)c2ccccc2N1         0\n",
       "2          CC12CCC(O)CC1CCC1C2C(O)CC2(C)C1CCC2(O)C(O)CO         0\n",
       "3     CCOC(=O)NC(Nc1ccc(S(=O)(=O)Nc2ncccn2)cc1)(C(=O...         0\n",
       "4     C=C(OC1C(C)=C2C(C1OC(=O)CCCCCCC)C(C)(OC(C)=O)C...         0\n",
       "...                                                 ...       ...\n",
       "1995                    CCSc1c2cc(OC)ccc2nc2ccc(OC)cc12         0\n",
       "1996     O=C1CN(C=C(C(=O)c2ccccc2)C(=O)c2ccccc2)C(=S)N1         0\n",
       "1997                               CCSCCCCCCCCCCCC(=O)O         1\n",
       "1998  COc1ccc(C2SC(=Cc3ccc(O)cc3)C(=O)N2NC(=O)Cc2ccc...         0\n",
       "1999        CNc1ccc(OC)cc1S(=O)(=O)c1ccccc1[N+](=O)[O-]         0\n",
       "\n",
       "[2000 rows x 2 columns]"
      ]
     },
     "execution_count": 7,
     "metadata": {},
     "output_type": "execute_result"
    }
   ],
   "source": [
    "# Define the mapping dictionary\n",
    "activity_mapping = {'CI': 0, 'CM': 1, 'CA': 2}\n",
    "\n",
    "# Replace the 'activity' column using the mapping dictionary\n",
    "sampled_sf['activity'] = sampled_sf['activity'].replace(activity_mapping)\n",
    "sampled_sf"
   ]
  },
  {
   "cell_type": "markdown",
   "id": "47148457-3ed7-404e-8968-f3cdc2716d74",
   "metadata": {},
   "source": [
    "## Transform SMILES into GRAPH representation"
   ]
  },
  {
   "cell_type": "code",
   "execution_count": 8,
   "id": "5ce0cbe5-a75b-49f4-a107-d5c27f9da203",
   "metadata": {},
   "outputs": [
    {
     "data": {
      "image/jpeg": "[encoded data removed]",
      "image/png": "[encoded data removed]",
      "text/plain": [
       "<PIL.PngImagePlugin.PngImageFile image mode=RGB size=300x300>"
      ]
     },
     "execution_count": 8,
     "metadata": {},
     "output_type": "execute_result"
    }
   ],
   "source": [
    "from rdkit import Chem\n",
    "from rdkit.Chem import Draw\n",
    "import networkx as nx\n",
    "\n",
    "# Visualizing the first molecule's structure as an example\n",
    "mol = Chem.MolFromSmiles(sampled_sf['smiles'].iloc[0])\n",
    "Draw.MolToImage(mol)"
   ]
  },
  {
   "cell_type": "code",
   "execution_count": 9,
   "id": "a316727f-f14f-4bf3-9a43-4a339235b516",
   "metadata": {},
   "outputs": [
    {
     "name": "stdout",
     "output_type": "stream",
     "text": [
      "tensor([[ 7.0000,  0.0000,  1.0000,  3.0000,  0.0000,  2.0000, 14.0070],\n",
      "        [ 6.0000,  0.0000,  3.0000,  3.0000,  0.0000,  0.0000, 12.0110],\n",
      "        [ 8.0000,  0.0000,  1.0000,  3.0000,  0.0000,  0.0000, 15.9990],\n",
      "        [ 6.0000,  0.0000,  2.0000,  4.0000,  0.0000,  2.0000, 12.0110],\n",
      "        [16.0000,  0.0000,  2.0000,  4.0000,  0.0000,  0.0000, 32.0670],\n",
      "        [16.0000,  0.0000,  2.0000,  4.0000,  0.0000,  0.0000, 32.0670],\n",
      "        [ 6.0000,  0.0000,  2.0000,  4.0000,  0.0000,  2.0000, 12.0110],\n",
      "        [ 6.0000,  0.0000,  3.0000,  3.0000,  0.0000,  0.0000, 12.0110],\n",
      "        [ 7.0000,  0.0000,  1.0000,  3.0000,  0.0000,  2.0000, 14.0070],\n",
      "        [ 8.0000,  0.0000,  1.0000,  3.0000,  0.0000,  0.0000, 15.9990]])\n"
     ]
    },
    {
     "data": {
      "text/html": [
       "<div>\n",
       "<style scoped>\n",
       "    .dataframe tbody tr th:only-of-type {\n",
       "        vertical-align: middle;\n",
       "    }\n",
       "\n",
       "    .dataframe tbody tr th {\n",
       "        vertical-align: top;\n",
       "    }\n",
       "\n",
       "    .dataframe thead th {\n",
       "        text-align: right;\n",
       "    }\n",
       "</style>\n",
       "<table border=\"1\" class=\"dataframe\">\n",
       "  <thead>\n",
       "    <tr style=\"text-align: right;\">\n",
       "      <th></th>\n",
       "      <th>smiles</th>\n",
       "      <th>activity</th>\n",
       "      <th>graph</th>\n",
       "    </tr>\n",
       "  </thead>\n",
       "  <tbody>\n",
       "    <tr>\n",
       "      <th>0</th>\n",
       "      <td>NC(=O)CSSCC(N)=O</td>\n",
       "      <td>1</td>\n",
       "      <td>[(x, [tensor([ 7.0000,  0.0000,  1.0000,  3.00...</td>\n",
       "    </tr>\n",
       "    <tr>\n",
       "      <th>1</th>\n",
       "      <td>COC(=O)NC1(NC(=O)OC)NC(=O)c2ccccc2N1</td>\n",
       "      <td>0</td>\n",
       "      <td>[(x, [tensor([ 6.0000,  0.0000,  1.0000,  4.00...</td>\n",
       "    </tr>\n",
       "    <tr>\n",
       "      <th>2</th>\n",
       "      <td>CC12CCC(O)CC1CCC1C2C(O)CC2(C)C1CCC2(O)C(O)CO</td>\n",
       "      <td>0</td>\n",
       "      <td>[(x, [tensor([ 6.0000,  0.0000,  1.0000,  4.00...</td>\n",
       "    </tr>\n",
       "    <tr>\n",
       "      <th>3</th>\n",
       "      <td>CCOC(=O)NC(Nc1ccc(S(=O)(=O)Nc2ncccn2)cc1)(C(=O...</td>\n",
       "      <td>0</td>\n",
       "      <td>[(x, [tensor([ 6.0000,  0.0000,  1.0000,  4.00...</td>\n",
       "    </tr>\n",
       "    <tr>\n",
       "      <th>4</th>\n",
       "      <td>C=C(OC1C(C)=C2C(C1OC(=O)CCCCCCC)C(C)(OC(C)=O)C...</td>\n",
       "      <td>0</td>\n",
       "      <td>[(x, [tensor([ 6.0000,  0.0000,  1.0000,  3.00...</td>\n",
       "    </tr>\n",
       "    <tr>\n",
       "      <th>...</th>\n",
       "      <td>...</td>\n",
       "      <td>...</td>\n",
       "      <td>...</td>\n",
       "    </tr>\n",
       "    <tr>\n",
       "      <th>1995</th>\n",
       "      <td>CCSc1c2cc(OC)ccc2nc2ccc(OC)cc12</td>\n",
       "      <td>0</td>\n",
       "      <td>[(x, [tensor([ 6.0000,  0.0000,  1.0000,  4.00...</td>\n",
       "    </tr>\n",
       "    <tr>\n",
       "      <th>1996</th>\n",
       "      <td>O=C1CN(C=C(C(=O)c2ccccc2)C(=O)c2ccccc2)C(=S)N1</td>\n",
       "      <td>0</td>\n",
       "      <td>[(x, [tensor([ 8.0000,  0.0000,  1.0000,  3.00...</td>\n",
       "    </tr>\n",
       "    <tr>\n",
       "      <th>1997</th>\n",
       "      <td>CCSCCCCCCCCCCCC(=O)O</td>\n",
       "      <td>1</td>\n",
       "      <td>[(x, [tensor([ 6.0000,  0.0000,  1.0000,  4.00...</td>\n",
       "    </tr>\n",
       "    <tr>\n",
       "      <th>1998</th>\n",
       "      <td>COc1ccc(C2SC(=Cc3ccc(O)cc3)C(=O)N2NC(=O)Cc2ccc...</td>\n",
       "      <td>0</td>\n",
       "      <td>[(x, [tensor([ 6.0000,  0.0000,  1.0000,  4.00...</td>\n",
       "    </tr>\n",
       "    <tr>\n",
       "      <th>1999</th>\n",
       "      <td>CNc1ccc(OC)cc1S(=O)(=O)c1ccccc1[N+](=O)[O-]</td>\n",
       "      <td>0</td>\n",
       "      <td>[(x, [tensor([ 6.0000,  0.0000,  1.0000,  4.00...</td>\n",
       "    </tr>\n",
       "  </tbody>\n",
       "</table>\n",
       "<p>2000 rows × 3 columns</p>\n",
       "</div>"
      ],
      "text/plain": [
       "                                                 smiles  activity  \\\n",
       "0                                      NC(=O)CSSCC(N)=O         1   \n",
       "1                  COC(=O)NC1(NC(=O)OC)NC(=O)c2ccccc2N1         0   \n",
       "2          CC12CCC(O)CC1CCC1C2C(O)CC2(C)C1CCC2(O)C(O)CO         0   \n",
       "3     CCOC(=O)NC(Nc1ccc(S(=O)(=O)Nc2ncccn2)cc1)(C(=O...         0   \n",
       "4     C=C(OC1C(C)=C2C(C1OC(=O)CCCCCCC)C(C)(OC(C)=O)C...         0   \n",
       "...                                                 ...       ...   \n",
       "1995                    CCSc1c2cc(OC)ccc2nc2ccc(OC)cc12         0   \n",
       "1996     O=C1CN(C=C(C(=O)c2ccccc2)C(=O)c2ccccc2)C(=S)N1         0   \n",
       "1997                               CCSCCCCCCCCCCCC(=O)O         1   \n",
       "1998  COc1ccc(C2SC(=Cc3ccc(O)cc3)C(=O)N2NC(=O)Cc2ccc...         0   \n",
       "1999        CNc1ccc(OC)cc1S(=O)(=O)c1ccccc1[N+](=O)[O-]         0   \n",
       "\n",
       "                                                  graph  \n",
       "0     [(x, [tensor([ 7.0000,  0.0000,  1.0000,  3.00...  \n",
       "1     [(x, [tensor([ 6.0000,  0.0000,  1.0000,  4.00...  \n",
       "2     [(x, [tensor([ 6.0000,  0.0000,  1.0000,  4.00...  \n",
       "3     [(x, [tensor([ 6.0000,  0.0000,  1.0000,  4.00...  \n",
       "4     [(x, [tensor([ 6.0000,  0.0000,  1.0000,  3.00...  \n",
       "...                                                 ...  \n",
       "1995  [(x, [tensor([ 6.0000,  0.0000,  1.0000,  4.00...  \n",
       "1996  [(x, [tensor([ 8.0000,  0.0000,  1.0000,  3.00...  \n",
       "1997  [(x, [tensor([ 6.0000,  0.0000,  1.0000,  4.00...  \n",
       "1998  [(x, [tensor([ 6.0000,  0.0000,  1.0000,  4.00...  \n",
       "1999  [(x, [tensor([ 6.0000,  0.0000,  1.0000,  4.00...  \n",
       "\n",
       "[2000 rows x 3 columns]"
      ]
     },
     "execution_count": 9,
     "metadata": {},
     "output_type": "execute_result"
    }
   ],
   "source": [
    "import torch\n",
    "from rdkit import Chem\n",
    "from torch_geometric.data import Data\n",
    "\n",
    "# Atom and bond preprocessing functions\n",
    "def atom_features(atom):\n",
    "    return [\n",
    "        atom.GetAtomicNum(),             # Atomic number\n",
    "        atom.GetFormalCharge(),          # Formal charge\n",
    "        atom.GetDegree(),                # Degree of the atom\n",
    "        atom.GetHybridization().real,    # Hybridization\n",
    "        atom.GetIsAromatic(),            # Aromaticity\n",
    "        atom.GetImplicitValence(),       # Implicit valence\n",
    "        atom.GetMass(),                  # Atomic mass\n",
    "    ]\n",
    "\n",
    "def bond_features(bond):\n",
    "    bt = bond.GetBondType()\n",
    "    return [\n",
    "        bt == Chem.rdchem.BondType.SINGLE,\n",
    "        bt == Chem.rdchem.BondType.DOUBLE,\n",
    "        bt == Chem.rdchem.BondType.TRIPLE,\n",
    "        bt == Chem.rdchem.BondType.AROMATIC,\n",
    "        bond.GetIsConjugated(),  # Conjugation\n",
    "        bond.IsInRing(),         # Whether the bond is in a ring\n",
    "    ]\n",
    "\n",
    "# Conversion from SMILES to graph suitable for GNN\n",
    "def smiles_to_graph(smiles):\n",
    "    mol = Chem.MolFromSmiles(smiles)\n",
    "    if mol is None:\n",
    "        return None\n",
    "\n",
    "    # Create nodes\n",
    "    node_feats = [atom_features(atom) for atom in mol.GetAtoms()]\n",
    "    node_feats = torch.tensor(node_feats, dtype=torch.float)\n",
    "    \n",
    "    # Create edges\n",
    "    edge_index = []\n",
    "    edge_attr = []\n",
    "    for bond in mol.GetBonds():\n",
    "        i = bond.GetBeginAtomIdx()\n",
    "        j = bond.GetEndAtomIdx()\n",
    "        edge_index += [[i, j], [j, i]]\n",
    "        edge_attr += [bond_features(bond), bond_features(bond)]\n",
    "    edge_index = torch.tensor(edge_index, dtype=torch.long).t().contiguous()\n",
    "    edge_attr = torch.tensor(edge_attr, dtype=torch.float)\n",
    "    \n",
    "    return Data(x=node_feats, edge_index=edge_index, edge_attr=edge_attr)\n",
    "\n",
    "# Apply the function to your dataframe\n",
    "sampled_sf['graph'] = sampled_sf['smiles'].apply(smiles_to_graph)\n",
    "print(sampled_sf['graph'].iloc[0].x)\n",
    "sampled_sf"
   ]
  },
  {
   "cell_type": "markdown",
   "id": "988438be-9da0-4059-bc44-0b3430940ac2",
   "metadata": {},
   "source": [
    "## GNN"
   ]
  },
  {
   "cell_type": "code",
   "execution_count": 10,
   "id": "3859f25f-1511-4f25-a55b-25bde25a6bb9",
   "metadata": {},
   "outputs": [
    {
     "name": "stdout",
     "output_type": "stream",
     "text": [
      "Data(x=[10, 7], edge_index=[2, 18], edge_attr=[18, 6], y=[1])\n"
     ]
    }
   ],
   "source": [
    "for i, data in enumerate(sampled_sf['graph']):\n",
    "    data.y = torch.tensor([sampled_sf['activity'][i]], dtype=torch.long)\n",
    "print(sampled_sf['graph'][0])"
   ]
  },
  {
   "cell_type": "code",
   "execution_count": 11,
   "id": "38eef2a3-55f6-4e37-b9e2-97f382a64fbe",
   "metadata": {},
   "outputs": [],
   "source": [
    "from torch_geometric.data import Data\n",
    "from sklearn.model_selection import train_test_split\n",
    "from torch_geometric.loader import DataLoader \n",
    "\n",
    "sampled_sf = sampled_sf.reset_index(drop=True)\n",
    "# Split data into training and testing sets\n",
    "train_dataset, val_dataset = train_test_split(sampled_sf['graph'].tolist(), test_size=0.2, random_state=42)\n",
    "\n",
    "# Create DataLoader for batch processing\n",
    "train_loader = DataLoader(train_dataset, batch_size=32, shuffle=True)\n",
    "val_loader = DataLoader(val_dataset, batch_size=32, shuffle=True)"
   ]
  },
  {
   "cell_type": "code",
   "execution_count": 12,
   "id": "212b93ae-700d-4f2f-aef6-6a5912a288fc",
   "metadata": {},
   "outputs": [],
   "source": [
    "import torch.optim as optim\n",
    "from tqdm import tqdm\n",
    "from torch.nn import Linear, ReLU, Sequential\n",
    "from torch_geometric.utils import scatter\n",
    "from torch_geometric.loader import DataLoader as GraphDataLoader\n",
    "\n",
    "class Layer(nn.Module):\n",
    "    def __init__(self, in_dim, out_dim):\n",
    "        super().__init__()\n",
    "        self.layers = Sequential(\n",
    "            Linear(in_dim, out_dim),\n",
    "            ReLU()\n",
    "        )\n",
    "    \n",
    "    def forward(self, x):\n",
    "        return self.layers(x)\n",
    "\n",
    "class MessagePassingLayer(nn.Module):\n",
    "    def __init__(self, node_hidden_dim, edge_hidden_dim):\n",
    "        super().__init__()\n",
    "        self.edge_net = Layer(2 * node_hidden_dim + edge_hidden_dim, edge_hidden_dim)\n",
    "        self.node_net = Layer(node_hidden_dim + edge_hidden_dim, node_hidden_dim)\n",
    "    \n",
    "    def forward(self, node_features, edge_features, edge_index):\n",
    "        src, dest = edge_index[0], edge_index[1]\n",
    "        edge_features_combined = torch.cat([\n",
    "            node_features[src],\n",
    "            node_features[dest],\n",
    "            edge_features\n",
    "        ], dim=1)\n",
    "        updated_edge_features = self.edge_net(edge_features_combined)\n",
    "        aggr_edge_features = scatter(updated_edge_features, src, dim_size=node_features.size(0))\n",
    "        node_features_combined = torch.cat([node_features, aggr_edge_features], dim=1)\n",
    "        updated_node_features = self.node_net(node_features_combined)\n",
    "        return updated_node_features, updated_edge_features\n",
    "\n",
    "class GraphNet(nn.Module):\n",
    "    def __init__(self, node_input_dim, edge_input_dim, node_hidden_dim, edge_hidden_dim, num_classes):\n",
    "        super().__init__()\n",
    "        self.node_embed = Layer(node_input_dim, node_hidden_dim)\n",
    "        self.edge_embed = Layer(edge_input_dim, edge_hidden_dim)\n",
    "        self.message_passing = MessagePassingLayer(node_hidden_dim, edge_hidden_dim)\n",
    "        self.readout = Linear(node_hidden_dim, num_classes)\n",
    "    \n",
    "    def forward(self, data):\n",
    "        node_hidden = self.node_embed(data.x)\n",
    "        edge_hidden = self.edge_embed(data.edge_attr)\n",
    "        node_hidden, edge_hidden = self.message_passing(node_hidden, edge_hidden, data.edge_index)\n",
    "        graph_embeddings = scatter(node_hidden, data.batch, dim=0)\n",
    "        out = self.readout(graph_embeddings)\n",
    "        return out"
   ]
  },
  {
   "cell_type": "code",
   "execution_count": 13,
   "id": "27764348-1934-41ba-ae22-eb6c6c59f4e1",
   "metadata": {},
   "outputs": [],
   "source": [
    "import seaborn as sns\n",
    "from sklearn.metrics import confusion_matrix\n",
    "\n",
    "class GNNTrainer:\n",
    "    def __init__(self, model, batch_size=32, learning_rate=1e-3, epoch=50, l2=1e-5):\n",
    "        self.model = model\n",
    "        \n",
    "        num_params = sum(item.numel() for item in model.parameters())\n",
    "        print(f\"{model.__class__.__name__} - Number of parameters: {num_params}\")\n",
    "        \n",
    "        self.batch_size = batch_size\n",
    "        self.optimizer = optim.Adam(model.parameters(), lr=learning_rate, weight_decay=l2)\n",
    "        self.epoch = epoch\n",
    "        \n",
    "    def train(self, train_loader, draw_curve=True):  \n",
    "        self.model.train()\n",
    "        loss_func = nn.CrossEntropyLoss()\n",
    "        batch_loss_list = []\n",
    "        for i in range(self.epoch):\n",
    "            print(f\"Epoch: {i}\")\n",
    "            for batch_data in tqdm(train_loader, leave=False):\n",
    "                self.optimizer.zero_grad()\n",
    "                batch_pred = self.model(batch_data)  # Assume model handles the batch_data correctly\n",
    "                batch_loss = loss_func(batch_pred, batch_data.y)\n",
    "                batch_loss.backward()\n",
    "                self.optimizer.step()\n",
    "\n",
    "                batch_loss_list.append(batch_loss.item())\n",
    "        \n",
    "        if draw_curve:\n",
    "            fig, ax = plt.subplots(1, 1, figsize=(5, 4), constrained_layout=True)\n",
    "            ax.set_yscale(\"log\")\n",
    "            ax.plot(np.arange(len(batch_loss_list)), batch_loss_list)\n",
    "            ax.set_xlabel(\"# Batch\")\n",
    "            ax.set_ylabel(\"Loss\")\n",
    "            plt.show()\n",
    "        \n",
    "        return batch_loss_list\n",
    "    \n",
    "    def evaluate(self, val_loader, draw_curve=True):\n",
    "        self.model.eval()\n",
    "        y_true, y_pred = [], []\n",
    "        with torch.no_grad():\n",
    "            for batch_data in tqdm(val_loader, leave=False):\n",
    "                batch_pred = self.model(batch_data)\n",
    "                y_pred.extend(batch_pred.argmax(dim=1).cpu().numpy())\n",
    "                y_true.extend(batch_data.y.cpu().numpy())\n",
    "        \n",
    "        y_true = np.array(y_true)\n",
    "        y_pred = np.array(y_pred)\n",
    "        accuracy = np.mean(y_true == y_pred)\n",
    "        \n",
    "        if draw_curve:\n",
    "            cm = confusion_matrix(y_true, y_pred)\n",
    "            plt.figure(figsize=(10, 8))\n",
    "            sns.heatmap(cm, annot=True, fmt=\"d\", cmap=\"Blues\")\n",
    "            plt.title(\"Confusion Matrix\")\n",
    "            plt.ylabel('True Label')\n",
    "            plt.xlabel('Predicted Label')\n",
    "            plt.show()\n",
    "            \n",
    "        return accuracy"
   ]
  },
  {
   "cell_type": "code",
   "execution_count": 14,
   "id": "56288d94-37a2-4dfc-baef-4c7b4601a09c",
   "metadata": {},
   "outputs": [],
   "source": [
    "num_classes = 3  # 'CI', 'CM', 'CA'\n",
    "node_input_dim = sampled_sf['graph'][0].x.shape[1] \n",
    "edge_input_dim = sampled_sf['graph'][0].edge_attr.shape[1]  \n",
    "node_hidden_dim = 64\n",
    "edge_hidden_dim = 64\n",
    "model = GraphNet(node_input_dim, edge_input_dim, node_hidden_dim, edge_hidden_dim, num_classes)"
   ]
  },
  {
   "cell_type": "code",
   "execution_count": 15,
   "id": "7eeb8518-9bc9-4369-b0f0-b25af76162c9",
   "metadata": {},
   "outputs": [
    {
     "name": "stdout",
     "output_type": "stream",
     "text": [
      "GraphNet - Number of parameters: 21763\n",
      "Epoch: 0\n"
     ]
    },
    {
     "name": "stderr",
     "output_type": "stream",
     "text": [
      "                                                                                \r"
     ]
    },
    {
     "name": "stdout",
     "output_type": "stream",
     "text": [
      "Epoch: 1\n"
     ]
    },
    {
     "name": "stderr",
     "output_type": "stream",
     "text": [
      "                                                                                \r"
     ]
    },
    {
     "name": "stdout",
     "output_type": "stream",
     "text": [
      "Epoch: 2\n"
     ]
    },
    {
     "name": "stderr",
     "output_type": "stream",
     "text": [
      "                                                                                \r"
     ]
    },
    {
     "name": "stdout",
     "output_type": "stream",
     "text": [
      "Epoch: 3\n"
     ]
    },
    {
     "name": "stderr",
     "output_type": "stream",
     "text": [
      "                                                                                \r"
     ]
    },
    {
     "name": "stdout",
     "output_type": "stream",
     "text": [
      "Epoch: 4\n"
     ]
    },
    {
     "name": "stderr",
     "output_type": "stream",
     "text": [
      "                                                                                \r"
     ]
    },
    {
     "name": "stdout",
     "output_type": "stream",
     "text": [
      "Epoch: 5\n"
     ]
    },
    {
     "name": "stderr",
     "output_type": "stream",
     "text": [
      "                                                                                \r"
     ]
    },
    {
     "name": "stdout",
     "output_type": "stream",
     "text": [
      "Epoch: 6\n"
     ]
    },
    {
     "name": "stderr",
     "output_type": "stream",
     "text": [
      "                                                                                \r"
     ]
    },
    {
     "name": "stdout",
     "output_type": "stream",
     "text": [
      "Epoch: 7\n"
     ]
    },
    {
     "name": "stderr",
     "output_type": "stream",
     "text": [
      "                                                                                \r"
     ]
    },
    {
     "name": "stdout",
     "output_type": "stream",
     "text": [
      "Epoch: 8\n"
     ]
    },
    {
     "name": "stderr",
     "output_type": "stream",
     "text": [
      "                                                                                \r"
     ]
    },
    {
     "name": "stdout",
     "output_type": "stream",
     "text": [
      "Epoch: 9\n"
     ]
    },
    {
     "name": "stderr",
     "output_type": "stream",
     "text": [
      "                                                                                \r"
     ]
    },
    {
     "name": "stdout",
     "output_type": "stream",
     "text": [
      "Epoch: 10\n"
     ]
    },
    {
     "name": "stderr",
     "output_type": "stream",
     "text": [
      "                                                                                \r"
     ]
    },
    {
     "name": "stdout",
     "output_type": "stream",
     "text": [
      "Epoch: 11\n"
     ]
    },
    {
     "name": "stderr",
     "output_type": "stream",
     "text": [
      "                                                                                \r"
     ]
    },
    {
     "name": "stdout",
     "output_type": "stream",
     "text": [
      "Epoch: 12\n"
     ]
    },
    {
     "name": "stderr",
     "output_type": "stream",
     "text": [
      "                                                                                \r"
     ]
    },
    {
     "name": "stdout",
     "output_type": "stream",
     "text": [
      "Epoch: 13\n"
     ]
    },
    {
     "name": "stderr",
     "output_type": "stream",
     "text": [
      "                                                                                \r"
     ]
    },
    {
     "name": "stdout",
     "output_type": "stream",
     "text": [
      "Epoch: 14\n"
     ]
    },
    {
     "name": "stderr",
     "output_type": "stream",
     "text": [
      "                                                                                \r"
     ]
    },
    {
     "name": "stdout",
     "output_type": "stream",
     "text": [
      "Epoch: 15\n"
     ]
    },
    {
     "name": "stderr",
     "output_type": "stream",
     "text": [
      "                                                                                \r"
     ]
    },
    {
     "name": "stdout",
     "output_type": "stream",
     "text": [
      "Epoch: 16\n"
     ]
    },
    {
     "name": "stderr",
     "output_type": "stream",
     "text": [
      "                                                                                \r"
     ]
    },
    {
     "name": "stdout",
     "output_type": "stream",
     "text": [
      "Epoch: 17\n"
     ]
    },
    {
     "name": "stderr",
     "output_type": "stream",
     "text": [
      "                                                                                \r"
     ]
    },
    {
     "name": "stdout",
     "output_type": "stream",
     "text": [
      "Epoch: 18\n"
     ]
    },
    {
     "name": "stderr",
     "output_type": "stream",
     "text": [
      "                                                                                \r"
     ]
    },
    {
     "name": "stdout",
     "output_type": "stream",
     "text": [
      "Epoch: 19\n"
     ]
    },
    {
     "name": "stderr",
     "output_type": "stream",
     "text": [
      "                                                                                \r"
     ]
    },
    {
     "name": "stdout",
     "output_type": "stream",
     "text": [
      "Epoch: 20\n"
     ]
    },
    {
     "name": "stderr",
     "output_type": "stream",
     "text": [
      "                                                                                \r"
     ]
    },
    {
     "name": "stdout",
     "output_type": "stream",
     "text": [
      "Epoch: 21\n"
     ]
    },
    {
     "name": "stderr",
     "output_type": "stream",
     "text": [
      "                                                                                \r"
     ]
    },
    {
     "name": "stdout",
     "output_type": "stream",
     "text": [
      "Epoch: 22\n"
     ]
    },
    {
     "name": "stderr",
     "output_type": "stream",
     "text": [
      "                                                                                \r"
     ]
    },
    {
     "name": "stdout",
     "output_type": "stream",
     "text": [
      "Epoch: 23\n"
     ]
    },
    {
     "name": "stderr",
     "output_type": "stream",
     "text": [
      "                                                                                \r"
     ]
    },
    {
     "name": "stdout",
     "output_type": "stream",
     "text": [
      "Epoch: 24\n"
     ]
    },
    {
     "name": "stderr",
     "output_type": "stream",
     "text": [
      "                                                                                \r"
     ]
    },
    {
     "name": "stdout",
     "output_type": "stream",
     "text": [
      "Epoch: 25\n"
     ]
    },
    {
     "name": "stderr",
     "output_type": "stream",
     "text": [
      "                                                                                \r"
     ]
    },
    {
     "name": "stdout",
     "output_type": "stream",
     "text": [
      "Epoch: 26\n"
     ]
    },
    {
     "name": "stderr",
     "output_type": "stream",
     "text": [
      "                                                                                \r"
     ]
    },
    {
     "name": "stdout",
     "output_type": "stream",
     "text": [
      "Epoch: 27\n"
     ]
    },
    {
     "name": "stderr",
     "output_type": "stream",
     "text": [
      "                                                                                \r"
     ]
    },
    {
     "name": "stdout",
     "output_type": "stream",
     "text": [
      "Epoch: 28\n"
     ]
    },
    {
     "name": "stderr",
     "output_type": "stream",
     "text": [
      "                                                                                \r"
     ]
    },
    {
     "name": "stdout",
     "output_type": "stream",
     "text": [
      "Epoch: 29\n"
     ]
    },
    {
     "name": "stderr",
     "output_type": "stream",
     "text": [
      "                                                                                \r"
     ]
    },
    {
     "name": "stdout",
     "output_type": "stream",
     "text": [
      "Epoch: 30\n"
     ]
    },
    {
     "name": "stderr",
     "output_type": "stream",
     "text": [
      "                                                                                \r"
     ]
    },
    {
     "name": "stdout",
     "output_type": "stream",
     "text": [
      "Epoch: 31\n"
     ]
    },
    {
     "name": "stderr",
     "output_type": "stream",
     "text": [
      "                                                                                \r"
     ]
    },
    {
     "name": "stdout",
     "output_type": "stream",
     "text": [
      "Epoch: 32\n"
     ]
    },
    {
     "name": "stderr",
     "output_type": "stream",
     "text": [
      "                                                                                \r"
     ]
    },
    {
     "name": "stdout",
     "output_type": "stream",
     "text": [
      "Epoch: 33\n"
     ]
    },
    {
     "name": "stderr",
     "output_type": "stream",
     "text": [
      "                                                                                \r"
     ]
    },
    {
     "name": "stdout",
     "output_type": "stream",
     "text": [
      "Epoch: 34\n"
     ]
    },
    {
     "name": "stderr",
     "output_type": "stream",
     "text": [
      "                                                                                \r"
     ]
    },
    {
     "name": "stdout",
     "output_type": "stream",
     "text": [
      "Epoch: 35\n"
     ]
    },
    {
     "name": "stderr",
     "output_type": "stream",
     "text": [
      "                                                                                \r"
     ]
    },
    {
     "name": "stdout",
     "output_type": "stream",
     "text": [
      "Epoch: 36\n"
     ]
    },
    {
     "name": "stderr",
     "output_type": "stream",
     "text": [
      "                                                                                \r"
     ]
    },
    {
     "name": "stdout",
     "output_type": "stream",
     "text": [
      "Epoch: 37\n"
     ]
    },
    {
     "name": "stderr",
     "output_type": "stream",
     "text": [
      "                                                                                \r"
     ]
    },
    {
     "name": "stdout",
     "output_type": "stream",
     "text": [
      "Epoch: 38\n"
     ]
    },
    {
     "name": "stderr",
     "output_type": "stream",
     "text": [
      "                                                                                \r"
     ]
    },
    {
     "name": "stdout",
     "output_type": "stream",
     "text": [
      "Epoch: 39\n"
     ]
    },
    {
     "name": "stderr",
     "output_type": "stream",
     "text": [
      "                                                                                \r"
     ]
    },
    {
     "name": "stdout",
     "output_type": "stream",
     "text": [
      "Epoch: 40\n"
     ]
    },
    {
     "name": "stderr",
     "output_type": "stream",
     "text": [
      "                                                                                \r"
     ]
    },
    {
     "name": "stdout",
     "output_type": "stream",
     "text": [
      "Epoch: 41\n"
     ]
    },
    {
     "name": "stderr",
     "output_type": "stream",
     "text": [
      "                                                                                \r"
     ]
    },
    {
     "name": "stdout",
     "output_type": "stream",
     "text": [
      "Epoch: 42\n"
     ]
    },
    {
     "name": "stderr",
     "output_type": "stream",
     "text": [
      "                                                                                \r"
     ]
    },
    {
     "name": "stdout",
     "output_type": "stream",
     "text": [
      "Epoch: 43\n"
     ]
    },
    {
     "name": "stderr",
     "output_type": "stream",
     "text": [
      "                                                                                \r"
     ]
    },
    {
     "name": "stdout",
     "output_type": "stream",
     "text": [
      "Epoch: 44\n"
     ]
    },
    {
     "name": "stderr",
     "output_type": "stream",
     "text": [
      "                                                                                \r"
     ]
    },
    {
     "name": "stdout",
     "output_type": "stream",
     "text": [
      "Epoch: 45\n"
     ]
    },
    {
     "name": "stderr",
     "output_type": "stream",
     "text": [
      "                                                                                \r"
     ]
    },
    {
     "name": "stdout",
     "output_type": "stream",
     "text": [
      "Epoch: 46\n"
     ]
    },
    {
     "name": "stderr",
     "output_type": "stream",
     "text": [
      "                                                                                \r"
     ]
    },
    {
     "name": "stdout",
     "output_type": "stream",
     "text": [
      "Epoch: 47\n"
     ]
    },
    {
     "name": "stderr",
     "output_type": "stream",
     "text": [
      "                                                                                \r"
     ]
    },
    {
     "name": "stdout",
     "output_type": "stream",
     "text": [
      "Epoch: 48\n"
     ]
    },
    {
     "name": "stderr",
     "output_type": "stream",
     "text": [
      "                                                                                \r"
     ]
    },
    {
     "name": "stdout",
     "output_type": "stream",
     "text": [
      "Epoch: 49\n"
     ]
    },
    {
     "name": "stderr",
     "output_type": "stream",
     "text": [
      "                                                                                \r"
     ]
    },
    {
     "data": {
      "image/png": "[encoded data removed]",
      "text/plain": [
       "<Figure size 500x400 with 1 Axes>"
      ]
     },
     "metadata": {},
     "output_type": "display_data"
    },
    {
     "data": {
      "text/plain": [
       "[8.05967903137207,\n",
       " 3.273944616317749,\n",
       " 5.08729362487793,\n",
       " 7.996676445007324,\n",
       " 11.671562194824219,\n",
       " 8.35889720916748,\n",
       " 4.674300670623779,\n",
       " 3.6381733417510986,\n",
       " 7.123345375061035,\n",
       " 7.248134136199951,\n",
       " 6.41267204284668,\n",
       " 8.77109146118164,\n",
       " 5.569512844085693,\n",
       " 4.412312030792236,\n",
       " 2.1233866214752197,\n",
       " 1.8834784030914307,\n",
       " 4.294487476348877,\n",
       " 5.991480827331543,\n",
       " 4.72153377532959,\n",
       " 2.7404091358184814,\n",
       " 2.287888765335083,\n",
       " 2.7211148738861084,\n",
       " 4.596879005432129,\n",
       " 2.849921226501465,\n",
       " 2.132659673690796,\n",
       " 1.207118272781372,\n",
       " 2.254261016845703,\n",
       " 2.7763161659240723,\n",
       " 3.0554049015045166,\n",
       " 3.139784097671509,\n",
       " 2.6063051223754883,\n",
       " 2.20333194732666,\n",
       " 1.3146781921386719,\n",
       " 2.1669702529907227,\n",
       " 1.7869490385055542,\n",
       " 1.6583291292190552,\n",
       " 1.098384976387024,\n",
       " 1.27023184299469,\n",
       " 1.4553078413009644,\n",
       " 1.7744389772415161,\n",
       " 1.315610408782959,\n",
       " 1.1625661849975586,\n",
       " 1.452470302581787,\n",
       " 1.0874634981155396,\n",
       " 1.153174638748169,\n",
       " 1.385875940322876,\n",
       " 1.4963107109069824,\n",
       " 1.3486303091049194,\n",
       " 1.486943244934082,\n",
       " 1.1306018829345703,\n",
       " 1.2362385988235474,\n",
       " 1.389731526374817,\n",
       " 1.425052285194397,\n",
       " 1.1606156826019287,\n",
       " 1.0866384506225586,\n",
       " 1.4556634426116943,\n",
       " 1.0380380153656006,\n",
       " 1.157249927520752,\n",
       " 1.236039638519287,\n",
       " 1.116868257522583,\n",
       " 1.320243239402771,\n",
       " 1.4453649520874023,\n",
       " 1.0479406118392944,\n",
       " 1.0017626285552979,\n",
       " 1.405032992362976,\n",
       " 1.094913125038147,\n",
       " 1.9356027841567993,\n",
       " 1.4902960062026978,\n",
       " 1.215867042541504,\n",
       " 1.0485271215438843,\n",
       " 1.1706533432006836,\n",
       " 1.3153027296066284,\n",
       " 1.3528943061828613,\n",
       " 1.0362783670425415,\n",
       " 1.231448769569397,\n",
       " 1.0685566663742065,\n",
       " 1.2980034351348877,\n",
       " 1.117605209350586,\n",
       " 0.9959917068481445,\n",
       " 1.185034990310669,\n",
       " 1.1342816352844238,\n",
       " 1.2223798036575317,\n",
       " 0.9884347915649414,\n",
       " 1.1008414030075073,\n",
       " 1.0860354900360107,\n",
       " 1.67409086227417,\n",
       " 1.5744465589523315,\n",
       " 1.100675106048584,\n",
       " 1.2610423564910889,\n",
       " 1.1419882774353027,\n",
       " 1.275573968887329,\n",
       " 1.3328713178634644,\n",
       " 1.045372486114502,\n",
       " 1.4315778017044067,\n",
       " 1.0893878936767578,\n",
       " 1.0696290731430054,\n",
       " 1.283907413482666,\n",
       " 0.9706856608390808,\n",
       " 1.1894326210021973,\n",
       " 1.6763625144958496,\n",
       " 1.347863793373108,\n",
       " 1.1685547828674316,\n",
       " 1.3591190576553345,\n",
       " 1.3167343139648438,\n",
       " 1.074663758277893,\n",
       " 1.340553879737854,\n",
       " 1.0718533992767334,\n",
       " 1.9467487335205078,\n",
       " 1.1412888765335083,\n",
       " 0.9960465431213379,\n",
       " 1.3395789861679077,\n",
       " 1.408211350440979,\n",
       " 1.2027989625930786,\n",
       " 1.1593152284622192,\n",
       " 0.9080211520195007,\n",
       " 1.4184925556182861,\n",
       " 0.9747498035430908,\n",
       " 1.1156306266784668,\n",
       " 1.4112297296524048,\n",
       " 0.9155392646789551,\n",
       " 1.1899590492248535,\n",
       " 1.3977394104003906,\n",
       " 1.1145387887954712,\n",
       " 1.0859936475753784,\n",
       " 1.406923532485962,\n",
       " 1.4448789358139038,\n",
       " 1.2008273601531982,\n",
       " 0.9835536479949951,\n",
       " 1.4289590120315552,\n",
       " 0.9776686429977417,\n",
       " 1.511342167854309,\n",
       " 1.0890259742736816,\n",
       " 1.2103643417358398,\n",
       " 0.9964046478271484,\n",
       " 1.154632806777954,\n",
       " 1.0431568622589111,\n",
       " 1.1813256740570068,\n",
       " 0.9777135848999023,\n",
       " 0.978288471698761,\n",
       " 0.9870927929878235,\n",
       " 1.117798089981079,\n",
       " 0.998108446598053,\n",
       " 1.2416666746139526,\n",
       " 1.005487322807312,\n",
       " 1.0911362171173096,\n",
       " 0.9892591834068298,\n",
       " 0.9517365097999573,\n",
       " 1.2709310054779053,\n",
       " 0.9581968188285828,\n",
       " 1.1761542558670044,\n",
       " 0.9735310673713684,\n",
       " 1.3526010513305664,\n",
       " 1.138494849205017,\n",
       " 1.0900195837020874,\n",
       " 1.0555099248886108,\n",
       " 1.1192747354507446,\n",
       " 1.2137408256530762,\n",
       " 1.4565702676773071,\n",
       " 1.0744298696517944,\n",
       " 1.4653688669204712,\n",
       " 1.2541968822479248,\n",
       " 1.003278136253357,\n",
       " 1.494368076324463,\n",
       " 1.1414436101913452,\n",
       " 1.2477906942367554,\n",
       " 1.35995352268219,\n",
       " 1.2271884679794312,\n",
       " 1.2424803972244263,\n",
       " 1.0280290842056274,\n",
       " 1.4118517637252808,\n",
       " 1.302668809890747,\n",
       " 1.2535706758499146,\n",
       " 1.1271586418151855,\n",
       " 1.48903489112854,\n",
       " 1.5666790008544922,\n",
       " 1.0610193014144897,\n",
       " 1.7735402584075928,\n",
       " 1.470078945159912,\n",
       " 0.9564107656478882,\n",
       " 1.2059333324432373,\n",
       " 1.2207257747650146,\n",
       " 1.3560857772827148,\n",
       " 1.0769412517547607,\n",
       " 1.1006377935409546,\n",
       " 1.6660757064819336,\n",
       " 1.1455086469650269,\n",
       " 1.1428039073944092,\n",
       " 1.2497050762176514,\n",
       " 1.3432209491729736,\n",
       " 1.1309895515441895,\n",
       " 1.0097485780715942,\n",
       " 1.0733507871627808,\n",
       " 1.4670357704162598,\n",
       " 1.598379373550415,\n",
       " 0.9406560659408569,\n",
       " 1.9252151250839233,\n",
       " 1.9822059869766235,\n",
       " 2.111358880996704,\n",
       " 1.3633824586868286,\n",
       " 1.0535887479782104,\n",
       " 1.5284264087677002,\n",
       " 1.4104453325271606,\n",
       " 1.2516992092132568,\n",
       " 1.1245611906051636,\n",
       " 1.2124847173690796,\n",
       " 2.017765522003174,\n",
       " 1.1741840839385986,\n",
       " 1.0516730546951294,\n",
       " 1.0395523309707642,\n",
       " 1.0533220767974854,\n",
       " 1.469348430633545,\n",
       " 1.1615687608718872,\n",
       " 1.1107960939407349,\n",
       " 1.0641112327575684,\n",
       " 1.2430733442306519,\n",
       " 1.053463339805603,\n",
       " 0.9842410087585449,\n",
       " 1.6192026138305664,\n",
       " 1.00563383102417,\n",
       " 1.091957926750183,\n",
       " 1.412285327911377,\n",
       " 1.2931897640228271,\n",
       " 1.31231689453125,\n",
       " 1.3377795219421387,\n",
       " 1.1149113178253174,\n",
       " 1.0300698280334473,\n",
       " 1.0372345447540283,\n",
       " 1.582595944404602,\n",
       " 1.043951153755188,\n",
       " 1.1755828857421875,\n",
       " 1.2963639497756958,\n",
       " 1.1575011014938354,\n",
       " 1.021056056022644,\n",
       " 1.1479198932647705,\n",
       " 1.1812973022460938,\n",
       " 2.03609299659729,\n",
       " 0.9388181567192078,\n",
       " 1.3892329931259155,\n",
       " 1.4210896492004395,\n",
       " 1.033318042755127,\n",
       " 1.074724555015564,\n",
       " 1.0938740968704224,\n",
       " 1.2169572114944458,\n",
       " 1.268984317779541,\n",
       " 1.0545934438705444,\n",
       " 1.1392838954925537,\n",
       " 1.383676528930664,\n",
       " 1.0135376453399658,\n",
       " 1.104155421257019,\n",
       " 1.0515258312225342,\n",
       " 1.2831008434295654,\n",
       " 0.9554651379585266,\n",
       " 1.033776044845581,\n",
       " 1.2353907823562622,\n",
       " 1.0477542877197266,\n",
       " 1.067227840423584,\n",
       " 0.9198207855224609,\n",
       " 0.9477737545967102,\n",
       " 0.9878218173980713,\n",
       " 0.9400389790534973,\n",
       " 1.1810436248779297,\n",
       " 1.0945922136306763,\n",
       " 1.0996054410934448,\n",
       " 1.147742509841919,\n",
       " 1.5058634281158447,\n",
       " 0.9362598657608032,\n",
       " 0.9280769228935242,\n",
       " 1.4461570978164673,\n",
       " 1.678038239479065,\n",
       " 1.0993317365646362,\n",
       " 1.2498489618301392,\n",
       " 1.4055335521697998,\n",
       " 1.1465452909469604,\n",
       " 1.1815029382705688,\n",
       " 1.718321442604065,\n",
       " 1.697034478187561,\n",
       " 1.1845567226409912,\n",
       " 1.099021553993225,\n",
       " 1.0965495109558105,\n",
       " 1.9794424772262573,\n",
       " 1.487036943435669,\n",
       " 1.2459605932235718,\n",
       " 1.0648159980773926,\n",
       " 1.3083935976028442,\n",
       " 1.3081289529800415,\n",
       " 1.2488148212432861,\n",
       " 1.0878969430923462,\n",
       " 1.607683539390564,\n",
       " 1.0603259801864624,\n",
       " 1.1975558996200562,\n",
       " 1.4064573049545288,\n",
       " 1.2268480062484741,\n",
       " 1.0137304067611694,\n",
       " 1.084967851638794,\n",
       " 1.2691352367401123,\n",
       " 1.2308883666992188,\n",
       " 1.1652425527572632,\n",
       " 1.052103877067566,\n",
       " 0.9635975360870361,\n",
       " 1.0612258911132812,\n",
       " 1.3022794723510742,\n",
       " 1.3662875890731812,\n",
       " 1.0639394521713257,\n",
       " 1.3978404998779297,\n",
       " 0.9272866249084473,\n",
       " 1.0460952520370483,\n",
       " 1.0721497535705566,\n",
       " 1.0228888988494873,\n",
       " 1.0768523216247559,\n",
       " 1.1550415754318237,\n",
       " 0.8641689419746399,\n",
       " 0.7494432330131531,\n",
       " 1.1993889808654785,\n",
       " 1.2358429431915283,\n",
       " 1.1141035556793213,\n",
       " 1.1584594249725342,\n",
       " 1.1282844543457031,\n",
       " 1.3774964809417725,\n",
       " 1.1314598321914673,\n",
       " 1.0423628091812134,\n",
       " 1.4532231092453003,\n",
       " 1.2889528274536133,\n",
       " 0.9944559335708618,\n",
       " 1.4437334537506104,\n",
       " 1.4253292083740234,\n",
       " 1.2548781633377075,\n",
       " 1.1477491855621338,\n",
       " 0.9970574378967285,\n",
       " 0.9046804904937744,\n",
       " 1.5313626527786255,\n",
       " 1.5567584037780762,\n",
       " 1.043220043182373,\n",
       " 1.0187978744506836,\n",
       " 1.2320809364318848,\n",
       " 1.2380307912826538,\n",
       " 1.339984655380249,\n",
       " 0.9231060743331909,\n",
       " 1.290102481842041,\n",
       " 1.5669324398040771,\n",
       " 1.4930732250213623,\n",
       " 1.1435084342956543,\n",
       " 1.0780819654464722,\n",
       " 1.6854673624038696,\n",
       " 1.1456751823425293,\n",
       " 1.4321469068527222,\n",
       " 1.1451692581176758,\n",
       " 1.072426438331604,\n",
       " 1.1161435842514038,\n",
       " 1.963085412979126,\n",
       " 1.8266429901123047,\n",
       " 1.0539731979370117,\n",
       " 1.3138593435287476,\n",
       " 1.5812524557113647,\n",
       " 1.5589959621429443,\n",
       " 1.3124756813049316,\n",
       " 1.1246323585510254,\n",
       " 0.726836085319519,\n",
       " 2.232557535171509,\n",
       " 1.4968371391296387,\n",
       " 1.820597529411316,\n",
       " 0.9649321436882019,\n",
       " 1.2311830520629883,\n",
       " 1.387541651725769,\n",
       " 1.5017991065979004,\n",
       " 1.337655782699585,\n",
       " 1.390748381614685,\n",
       " 1.0358471870422363,\n",
       " 1.3270020484924316,\n",
       " 1.557011365890503,\n",
       " 1.1680073738098145,\n",
       " 0.9954665303230286,\n",
       " 1.0832855701446533,\n",
       " 1.295270562171936,\n",
       " 0.9845531582832336,\n",
       " 1.0728439092636108,\n",
       " 1.1947060823440552,\n",
       " 1.09955894947052,\n",
       " 1.054969072341919,\n",
       " 0.9491645693778992,\n",
       " 0.8840899467468262,\n",
       " 1.455655574798584,\n",
       " 1.058896780014038,\n",
       " 1.0862529277801514,\n",
       " 1.166800856590271,\n",
       " 0.9692763090133667,\n",
       " 1.115681767463684,\n",
       " 0.9059231877326965,\n",
       " 1.3103340864181519,\n",
       " 0.9731979370117188,\n",
       " 1.409961223602295,\n",
       " 0.910456120967865,\n",
       " 1.083835244178772,\n",
       " 1.0336010456085205,\n",
       " 1.5551257133483887,\n",
       " 1.1026560068130493,\n",
       " 1.0271209478378296,\n",
       " 0.9411659240722656,\n",
       " 1.1759512424468994,\n",
       " 1.4272167682647705,\n",
       " 1.1023468971252441,\n",
       " 0.9925462007522583,\n",
       " 1.0125296115875244,\n",
       " 1.1282991170883179,\n",
       " 1.087627649307251,\n",
       " 1.0834263563156128,\n",
       " 1.120032787322998,\n",
       " 0.916541576385498,\n",
       " 0.9604185223579407,\n",
       " 0.9699048399925232,\n",
       " 1.121599793434143,\n",
       " 1.098800778388977,\n",
       " 0.9511197209358215,\n",
       " 1.0736693143844604,\n",
       " 0.949832022190094,\n",
       " 0.9638820886611938,\n",
       " 0.9406226873397827,\n",
       " 1.1070873737335205,\n",
       " 1.2429991960525513,\n",
       " 1.0504050254821777,\n",
       " 1.016139268875122,\n",
       " 1.1531925201416016,\n",
       " 1.124577283859253,\n",
       " 1.1125054359436035,\n",
       " 1.04725980758667,\n",
       " 0.9350511431694031,\n",
       " 1.3455342054367065,\n",
       " 1.3860384225845337,\n",
       " 0.8692498207092285,\n",
       " 1.0219430923461914,\n",
       " 0.9539297819137573,\n",
       " 1.2187950611114502,\n",
       " 0.9802600145339966,\n",
       " 1.1181025505065918,\n",
       " 0.8649202585220337,\n",
       " 0.99361252784729,\n",
       " 1.2621207237243652,\n",
       " 1.298205852508545,\n",
       " 1.0882760286331177,\n",
       " 1.0673222541809082,\n",
       " 1.103792667388916,\n",
       " 0.9085646867752075,\n",
       " 1.1906797885894775,\n",
       " 0.9066616296768188,\n",
       " 1.1443754434585571,\n",
       " 1.0658942461013794,\n",
       " 0.9600090980529785,\n",
       " 1.2985578775405884,\n",
       " 1.1529195308685303,\n",
       " 0.9615007042884827,\n",
       " 1.0425809621810913,\n",
       " 1.063327670097351,\n",
       " 1.0989588499069214,\n",
       " 1.2333918809890747,\n",
       " 0.9949654936790466,\n",
       " 0.9965516924858093,\n",
       " 1.0370209217071533,\n",
       " 1.0533735752105713,\n",
       " 0.986892819404602,\n",
       " 0.9338489174842834,\n",
       " 1.0332584381103516,\n",
       " 0.886367917060852,\n",
       " 0.99895179271698,\n",
       " 0.9582734107971191,\n",
       " 1.1493338346481323,\n",
       " 0.9926508665084839,\n",
       " 1.0124762058258057,\n",
       " 0.9613604545593262,\n",
       " 1.1081448793411255,\n",
       " 1.0938316583633423,\n",
       " 0.9557292461395264,\n",
       " 0.8735688924789429,\n",
       " 1.0756877660751343,\n",
       " 1.1344988346099854,\n",
       " 1.023586392402649,\n",
       " 1.1622135639190674,\n",
       " 1.1047148704528809,\n",
       " 0.8797520399093628,\n",
       " 1.1312817335128784,\n",
       " 1.077318549156189,\n",
       " 1.0819133520126343,\n",
       " 0.9711956977844238,\n",
       " 0.9486461877822876,\n",
       " 1.0694411993026733,\n",
       " 1.1495873928070068,\n",
       " 0.9015856981277466,\n",
       " 0.8047399520874023,\n",
       " 1.0652695894241333,\n",
       " 1.0341871976852417,\n",
       " 1.0223603248596191,\n",
       " 1.246148943901062,\n",
       " 1.2110497951507568,\n",
       " 1.2324668169021606,\n",
       " 1.0373687744140625,\n",
       " 1.2093769311904907,\n",
       " 1.2911888360977173,\n",
       " 0.922930121421814,\n",
       " 1.1418654918670654,\n",
       " 1.0309844017028809,\n",
       " 0.9750692248344421,\n",
       " 0.8553298711776733,\n",
       " 1.342370629310608,\n",
       " 1.025105595588684,\n",
       " 1.1203786134719849,\n",
       " 1.023666501045227,\n",
       " 0.913506031036377,\n",
       " 1.0523699522018433,\n",
       " 1.2733163833618164,\n",
       " 0.9754286408424377,\n",
       " 1.048425555229187,\n",
       " 0.9549403190612793,\n",
       " 1.1171690225601196,\n",
       " 0.9639966487884521,\n",
       " 0.9581102728843689,\n",
       " 0.9516083598136902,\n",
       " 0.929173469543457,\n",
       " 0.9276931881904602,\n",
       " 1.0239901542663574,\n",
       " 0.9153231978416443,\n",
       " 1.0355521440505981,\n",
       " 0.9865719079971313,\n",
       " 1.0533194541931152,\n",
       " 1.2012907266616821,\n",
       " 1.0163136720657349,\n",
       " 0.9541347622871399,\n",
       " 1.0205563306808472,\n",
       " 1.1323277950286865,\n",
       " 1.1110694408416748,\n",
       " 1.463061809539795,\n",
       " 1.082304835319519,\n",
       " 0.9267524480819702,\n",
       " 1.052348256111145,\n",
       " 1.0058668851852417,\n",
       " 0.9628187417984009,\n",
       " 0.9972892999649048,\n",
       " 1.4073097705841064,\n",
       " 0.8415511250495911,\n",
       " 0.936011552810669,\n",
       " 0.9199490547180176,\n",
       " 1.0162125825881958,\n",
       " 0.9757780432701111,\n",
       " 0.9620772004127502,\n",
       " 1.1994085311889648,\n",
       " 0.932127833366394,\n",
       " 0.9839047789573669,\n",
       " 0.87134850025177,\n",
       " 1.1512349843978882,\n",
       " 1.2112997770309448,\n",
       " 1.2006155252456665,\n",
       " 1.1882996559143066,\n",
       " 1.059272050857544,\n",
       " 1.2531036138534546,\n",
       " 0.9671991467475891,\n",
       " 0.9291049838066101,\n",
       " 1.2661962509155273,\n",
       " 1.0242282152175903,\n",
       " 1.019444465637207,\n",
       " 1.0383411645889282,\n",
       " 0.8996955752372742,\n",
       " 0.9752069115638733,\n",
       " 1.0319925546646118,\n",
       " 1.0441473722457886,\n",
       " 0.8824484348297119,\n",
       " 1.0792394876480103,\n",
       " 1.0021287202835083,\n",
       " 0.8762743473052979,\n",
       " 1.0080912113189697,\n",
       " 0.8786337375640869,\n",
       " 1.0307649374008179,\n",
       " 1.0346912145614624,\n",
       " 0.9597305059432983,\n",
       " 1.0705857276916504,\n",
       " 1.0572110414505005,\n",
       " 1.0891801118850708,\n",
       " 1.0760773420333862,\n",
       " 1.10077702999115,\n",
       " 0.9592190980911255,\n",
       " 0.813072144985199,\n",
       " 1.1204257011413574,\n",
       " 1.0483291149139404,\n",
       " 0.8328552842140198,\n",
       " 1.0487622022628784,\n",
       " 0.819488525390625,\n",
       " 1.198979139328003,\n",
       " 0.8741033673286438,\n",
       " 0.9529575109481812,\n",
       " 0.8810024857521057,\n",
       " 1.0290969610214233,\n",
       " 1.0574017763137817,\n",
       " 0.9220753312110901,\n",
       " 1.0037885904312134,\n",
       " 0.9075555801391602,\n",
       " 1.1819689273834229,\n",
       " 0.9824936985969543,\n",
       " 0.9769889116287231,\n",
       " 1.0049545764923096,\n",
       " 0.9972972273826599,\n",
       " 0.9428882002830505,\n",
       " 1.0168794393539429,\n",
       " 1.0188710689544678,\n",
       " 0.9598585367202759,\n",
       " 0.9600759744644165,\n",
       " 1.0903631448745728,\n",
       " 0.9952893257141113,\n",
       " 0.9731947183609009,\n",
       " 0.9377354383468628,\n",
       " 1.000681757926941,\n",
       " 0.878297746181488,\n",
       " 1.2437313795089722,\n",
       " 1.1023768186569214,\n",
       " 0.9628766179084778,\n",
       " 0.972967803478241,\n",
       " 1.1190688610076904,\n",
       " 1.05220365524292,\n",
       " 0.9069043397903442,\n",
       " 0.9230233430862427,\n",
       " 0.9667384028434753,\n",
       " 1.0215158462524414,\n",
       " 1.0419868230819702,\n",
       " 0.9368078708648682,\n",
       " 0.9402767419815063,\n",
       " 0.9747844934463501,\n",
       " 1.1267046928405762,\n",
       " 0.8967189788818359,\n",
       " 0.8637832999229431,\n",
       " 1.0143401622772217,\n",
       " 0.9382483959197998,\n",
       " 1.0112977027893066,\n",
       " 1.0088757276535034,\n",
       " 0.9254541993141174,\n",
       " 1.0422563552856445,\n",
       " 0.9368192553520203,\n",
       " 1.0916730165481567,\n",
       " 1.1887296438217163,\n",
       " 0.8030853271484375,\n",
       " 1.1552358865737915,\n",
       " 1.1507916450500488,\n",
       " 0.9694835543632507,\n",
       " 0.993349552154541,\n",
       " 1.1212621927261353,\n",
       " 1.1363288164138794,\n",
       " 0.9861828684806824,\n",
       " 0.9028072953224182,\n",
       " 0.9084795713424683,\n",
       " 1.1323384046554565,\n",
       " 1.2271313667297363,\n",
       " 0.8402352333068848,\n",
       " 0.8897632956504822,\n",
       " 1.1239287853240967,\n",
       " 0.9285139441490173,\n",
       " 1.0568898916244507,\n",
       " 1.0778268575668335,\n",
       " 0.9952864646911621,\n",
       " 0.9102572798728943,\n",
       " 0.8930729627609253,\n",
       " 0.9903464317321777,\n",
       " 1.1436123847961426,\n",
       " 0.9530482888221741,\n",
       " 1.2994871139526367,\n",
       " 0.8972599506378174,\n",
       " 1.370079517364502,\n",
       " 1.2118515968322754,\n",
       " 0.9675020575523376,\n",
       " 1.132702112197876,\n",
       " 1.3388556241989136,\n",
       " 1.2470669746398926,\n",
       " 1.0639445781707764,\n",
       " 0.9573519825935364,\n",
       " 1.2819435596466064,\n",
       " 1.1447774171829224,\n",
       " 1.154955506324768,\n",
       " 1.0987828969955444,\n",
       " 1.1640198230743408,\n",
       " 1.0934780836105347,\n",
       " 1.1048816442489624,\n",
       " 1.4924144744873047,\n",
       " 1.0488765239715576,\n",
       " 0.8908302783966064,\n",
       " 1.0754425525665283,\n",
       " 1.3934192657470703,\n",
       " 1.330311894416809,\n",
       " 1.0718284845352173,\n",
       " 0.9180017709732056,\n",
       " 1.1124728918075562,\n",
       " 1.123382329940796,\n",
       " 1.1382222175598145,\n",
       " 0.8587284088134766,\n",
       " 0.9249959588050842,\n",
       " 1.1067993640899658,\n",
       " 0.9407182335853577,\n",
       " 0.8560603857040405,\n",
       " 1.122470498085022,\n",
       " 1.0136761665344238,\n",
       " 1.5839207172393799,\n",
       " 1.4719018936157227,\n",
       " 0.9338653683662415,\n",
       " 1.033690094947815,\n",
       " 1.1771531105041504,\n",
       " 1.3041259050369263,\n",
       " 1.2235405445098877,\n",
       " 0.9421789646148682,\n",
       " 0.936203122138977,\n",
       " 1.4110963344573975,\n",
       " 1.2465437650680542,\n",
       " 1.016399621963501,\n",
       " 1.2154974937438965,\n",
       " 0.9989072680473328,\n",
       " 0.9197250604629517,\n",
       " 0.9819468855857849,\n",
       " 1.2723153829574585,\n",
       " 1.0357087850570679,\n",
       " 0.9265152215957642,\n",
       " 1.2166298627853394,\n",
       " 0.9891237020492554,\n",
       " 1.1106849908828735,\n",
       " 0.9173542261123657,\n",
       " 0.8326355218887329,\n",
       " 0.8237102627754211,\n",
       " 1.1401604413986206,\n",
       " 1.046973466873169,\n",
       " 0.9696858525276184,\n",
       " 1.0431278944015503,\n",
       " 1.117207407951355,\n",
       " 1.0209987163543701,\n",
       " 0.8644772171974182,\n",
       " 0.9416748285293579,\n",
       " 1.180254578590393,\n",
       " 1.1234989166259766,\n",
       " 1.0860836505889893,\n",
       " 0.9959008097648621,\n",
       " 1.1551398038864136,\n",
       " 1.2387919425964355,\n",
       " 1.1418060064315796,\n",
       " 0.9456995129585266,\n",
       " 1.108422040939331,\n",
       " 1.0441614389419556,\n",
       " 0.9531320333480835,\n",
       " 1.027335286140442,\n",
       " 0.9372491240501404,\n",
       " 1.0183302164077759,\n",
       " 0.9182988405227661,\n",
       " 1.033653736114502,\n",
       " 0.9399881362915039,\n",
       " 0.9974144101142883,\n",
       " 1.2439188957214355,\n",
       " 0.9237185716629028,\n",
       " 0.8985174298286438,\n",
       " 0.8649125695228577,\n",
       " 0.862729012966156,\n",
       " 1.227952241897583,\n",
       " 0.7787472605705261,\n",
       " 1.3829234838485718,\n",
       " 0.810077965259552,\n",
       " 0.9925662875175476,\n",
       " 0.9718829393386841,\n",
       " 0.993604838848114,\n",
       " 0.9850978851318359,\n",
       " 0.9957538843154907,\n",
       " 1.0914050340652466,\n",
       " 0.9499766826629639,\n",
       " 1.1255546808242798,\n",
       " 0.9210031032562256,\n",
       " 0.9236116409301758,\n",
       " 1.0339840650558472,\n",
       " 0.9099855422973633,\n",
       " 1.1102910041809082,\n",
       " 1.255029559135437,\n",
       " 1.0442413091659546,\n",
       " 0.9301504492759705,\n",
       " 1.1385189294815063,\n",
       " 0.9686872363090515,\n",
       " 1.3643624782562256,\n",
       " 1.1010353565216064,\n",
       " 1.1788736581802368,\n",
       " 0.901429295539856,\n",
       " 1.0393059253692627,\n",
       " 0.7934610247612,\n",
       " 1.582472801208496,\n",
       " 1.2943965196609497,\n",
       " 1.0943834781646729,\n",
       " 0.9910857081413269,\n",
       " 1.017146110534668,\n",
       " 1.7410027980804443,\n",
       " 1.3806419372558594,\n",
       " 1.1177599430084229,\n",
       " 0.8863059282302856,\n",
       " 1.0799894332885742,\n",
       " 1.1478575468063354,\n",
       " 1.1591675281524658,\n",
       " 1.1581023931503296,\n",
       " 1.1430803537368774,\n",
       " 1.4981335401535034,\n",
       " 1.5189905166625977,\n",
       " 1.1915816068649292,\n",
       " 1.0310351848602295,\n",
       " 0.8452987670898438,\n",
       " 1.3879886865615845,\n",
       " 1.717538595199585,\n",
       " 1.4195003509521484,\n",
       " 1.1501171588897705,\n",
       " 1.0018428564071655,\n",
       " 1.0712192058563232,\n",
       " 1.001206874847412,\n",
       " 1.3010597229003906,\n",
       " 1.041363000869751,\n",
       " 1.14381742477417,\n",
       " 0.9309864044189453,\n",
       " 1.0771334171295166,\n",
       " 1.4718470573425293,\n",
       " 1.057958722114563,\n",
       " 0.9888994693756104,\n",
       " 1.0713390111923218,\n",
       " 0.9874957203865051,\n",
       " 1.2841013669967651,\n",
       " 1.13904869556427,\n",
       " 1.2776274681091309,\n",
       " 0.9823123216629028,\n",
       " 1.2082583904266357,\n",
       " 1.3818587064743042,\n",
       " 1.059327483177185,\n",
       " 1.2111283540725708,\n",
       " 1.2963950634002686,\n",
       " 1.3795160055160522,\n",
       " 1.1500093936920166,\n",
       " 1.2470725774765015,\n",
       " 1.2627365589141846,\n",
       " 0.9304707050323486,\n",
       " 1.2505877017974854,\n",
       " 1.1262563467025757,\n",
       " 1.2547205686569214,\n",
       " 1.0030436515808105,\n",
       " 1.023329257965088,\n",
       " 1.3026455640792847,\n",
       " 0.9406342506408691,\n",
       " 0.9554416537284851,\n",
       " 0.9376148581504822,\n",
       " 0.9132603406906128,\n",
       " 1.0807653665542603,\n",
       " 0.8299692273139954,\n",
       " 1.0691498517990112,\n",
       " 0.985754132270813,\n",
       " 0.9714398980140686,\n",
       " 0.9417250752449036,\n",
       " 1.0136791467666626,\n",
       " 0.8580271601676941,\n",
       " 0.9448343515396118,\n",
       " 0.8911882042884827,\n",
       " 1.0549217462539673,\n",
       " 1.0745238065719604,\n",
       " 0.9239441752433777,\n",
       " 0.9213532209396362,\n",
       " 0.9588657021522522,\n",
       " 1.0412261486053467,\n",
       " 1.0400680303573608,\n",
       " 0.823732852935791,\n",
       " 0.9769894480705261,\n",
       " 1.1063724756240845,\n",
       " 0.9951539635658264,\n",
       " 1.0329217910766602,\n",
       " 0.8852821588516235,\n",
       " 1.035163164138794,\n",
       " 1.0995144844055176,\n",
       " 1.158818006515503,\n",
       " 1.0312505960464478,\n",
       " 0.9786851406097412,\n",
       " 0.8274416923522949,\n",
       " 1.672556757926941,\n",
       " 1.0022059679031372,\n",
       " 0.8984359502792358,\n",
       " 0.9497600197792053,\n",
       " 1.031690001487732,\n",
       " 0.9999368190765381,\n",
       " 0.9846667647361755,\n",
       " 0.9704641699790955,\n",
       " 0.8478069305419922,\n",
       " 1.0468703508377075,\n",
       " 0.8781670331954956,\n",
       " 1.1935089826583862,\n",
       " 1.0873819589614868,\n",
       " 1.1790333986282349,\n",
       " 0.9781668186187744,\n",
       " 0.9714254140853882,\n",
       " 0.954391598701477,\n",
       " 1.6014976501464844,\n",
       " 1.2262359857559204,\n",
       " 1.0085009336471558,\n",
       " 0.8969745635986328,\n",
       " 0.9793088436126709,\n",
       " 1.1394736766815186,\n",
       " 1.1168702840805054,\n",
       " 1.195051670074463,\n",
       " 1.1121872663497925,\n",
       " 1.4207580089569092,\n",
       " 1.0023305416107178,\n",
       " 0.9714997410774231,\n",
       " 0.9659797549247742,\n",
       " 1.0164881944656372,\n",
       " 0.9743636250495911,\n",
       " 0.9475656747817993,\n",
       " 1.1249637603759766,\n",
       " 0.8581782579421997,\n",
       " 0.941933810710907,\n",
       " 0.9812900424003601,\n",
       " 1.054793357849121,\n",
       " 0.9011958241462708,\n",
       " 0.9629188776016235,\n",
       " 0.9874364137649536,\n",
       " 1.075607180595398,\n",
       " 0.8846511840820312,\n",
       " 1.044305443763733,\n",
       " 0.8620334267616272,\n",
       " 0.8785039186477661,\n",
       " 0.9058250188827515,\n",
       " 0.8963407278060913,\n",
       " 1.0139670372009277,\n",
       " 0.83867347240448,\n",
       " 1.0203438997268677,\n",
       " 0.9188518524169922,\n",
       " 0.9064860939979553,\n",
       " 0.7711974382400513,\n",
       " 0.9956839680671692,\n",
       " 0.9289225935935974,\n",
       " 0.988595187664032,\n",
       " 0.8883167505264282,\n",
       " 0.9451714754104614,\n",
       " 1.114957571029663,\n",
       " 0.9147837162017822,\n",
       " 1.1200319528579712,\n",
       " 0.8928118944168091,\n",
       " 1.0094887018203735,\n",
       " 1.0065597295761108,\n",
       " 0.94232177734375,\n",
       " 0.9748768210411072,\n",
       " 1.2031054496765137,\n",
       " 0.7929283380508423,\n",
       " 0.8824023008346558,\n",
       " 0.8830049633979797,\n",
       " 1.1616348028182983,\n",
       " 0.9358869194984436,\n",
       " 0.8506105542182922,\n",
       " 0.8912046551704407,\n",
       " 1.0184581279754639,\n",
       " 0.980850100517273,\n",
       " 1.1325814723968506,\n",
       " 0.9662842154502869,\n",
       " 1.0326385498046875,\n",
       " 0.8799827098846436,\n",
       " 0.9581046104431152,\n",
       " 1.2325011491775513,\n",
       " 1.1179320812225342,\n",
       " 1.0843764543533325,\n",
       " 0.9391737580299377,\n",
       " 0.9184876084327698,\n",
       " 1.0092153549194336,\n",
       " 1.0455741882324219,\n",
       " 0.9480104446411133,\n",
       " 1.0070315599441528,\n",
       " 0.9557371139526367,\n",
       " 0.9640195965766907,\n",
       " 0.9098017811775208,\n",
       " 0.916451096534729,\n",
       " 1.0712394714355469,\n",
       " 1.1058019399642944,\n",
       " 1.0140119791030884,\n",
       " 0.9890515208244324,\n",
       " 0.9947139620780945,\n",
       " 0.9182013273239136,\n",
       " 0.8826435804367065,\n",
       " 1.089766263961792,\n",
       " 1.017907738685608,\n",
       " 0.9333420991897583,\n",
       " 0.9033111929893494,\n",
       " 0.8434668183326721,\n",
       " 1.2658756971359253,\n",
       " 0.8856313228607178,\n",
       " 1.0925215482711792,\n",
       " 0.8707261681556702,\n",
       " 1.0405112504959106,\n",
       " 0.9657115936279297,\n",
       " 1.0121636390686035,\n",
       " 1.008124828338623,\n",
       " 1.1407477855682373,\n",
       " 0.8675598502159119,\n",
       " 0.9541641473770142,\n",
       " 0.966233491897583,\n",
       " 1.0396679639816284,\n",
       " 0.8697504997253418,\n",
       " 0.8316933512687683,\n",
       " 0.9851705431938171,\n",
       " 1.0157281160354614,\n",
       " 0.9519731998443604,\n",
       " 1.0664128065109253,\n",
       " 0.9641668200492859,\n",
       " 0.9503504037857056,\n",
       " 0.9508571624755859,\n",
       " 0.9549239277839661,\n",
       " 1.038146734237671,\n",
       " 0.9838117361068726,\n",
       " 0.8853787183761597,\n",
       " 1.0065264701843262,\n",
       " 1.0238193273544312,\n",
       " ...]"
      ]
     },
     "execution_count": 15,
     "metadata": {},
     "output_type": "execute_result"
    }
   ],
   "source": [
    "trainer = GNNTrainer(model)\n",
    "trainer.train(train_loader)"
   ]
  },
  {
   "cell_type": "code",
   "execution_count": 16,
   "id": "d113b2d2-b22a-46ca-a82a-9dfc10e256d9",
   "metadata": {},
   "outputs": [
    {
     "name": "stderr",
     "output_type": "stream",
     "text": [
      "                                                                                \r"
     ]
    },
    {
     "data": {
      "image/png": "[encoded data removed]",
      "text/plain": [
       "<Figure size 1000x800 with 2 Axes>"
      ]
     },
     "metadata": {},
     "output_type": "display_data"
    },
    {
     "data": {
      "text/plain": [
       "0.6"
      ]
     },
     "execution_count": 16,
     "metadata": {},
     "output_type": "execute_result"
    }
   ],
   "source": [
    "# evaulate\n",
    "trainer.evaluate(val_loader)"
   ]
  },
  {
   "cell_type": "code",
   "execution_count": null,
   "id": "aa71afa9-440b-4e35-8e4c-3ba5f77320bb",
   "metadata": {},
   "outputs": [],
   "source": []
  }
 ],
 "metadata": {
  "kernelspec": {
   "display_name": "c142",
   "language": "python",
   "name": "c142"
  },
  "language_info": {
   "codemirror_mode": {
    "name": "ipython",
    "version": 3
   },
   "file_extension": ".py",
   "mimetype": "text/x-python",
   "name": "python",
   "nbconvert_exporter": "python",
   "pygments_lexer": "ipython3",
   "version": "3.8.12"
  }
 },
 "nbformat": 4,
 "nbformat_minor": 5
}
