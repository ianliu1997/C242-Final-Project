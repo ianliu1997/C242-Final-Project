{
 "cells": [
  {
   "cell_type": "markdown",
   "id": "8a7d1e80-cfdd-40da-bc46-ec2b44db0c7f",
   "metadata": {},
   "source": [
    "## Load HIV dataset"
   ]
  },
  {
   "cell_type": "code",
   "execution_count": 2,
   "id": "d5369fcc-7cef-4e51-bd2c-5f8a3e350e02",
   "metadata": {},
   "outputs": [],
   "source": [
    "import pandas as pd\n",
    "import seaborn as sns\n",
    "import numpy as np\n",
    "import re\n",
    "import torch\n",
    "import torch.nn as nn\n",
    "import matplotlib.pyplot as plt"
   ]
  },
  {
   "cell_type": "code",
   "execution_count": 3,
   "id": "2e749e01-8963-455e-8f86-154a0ad10153",
   "metadata": {},
   "outputs": [
    {
     "data": {
      "text/html": [
       "<div>\n",
       "<style scoped>\n",
       "    .dataframe tbody tr th:only-of-type {\n",
       "        vertical-align: middle;\n",
       "    }\n",
       "\n",
       "    .dataframe tbody tr th {\n",
       "        vertical-align: top;\n",
       "    }\n",
       "\n",
       "    .dataframe thead th {\n",
       "        text-align: right;\n",
       "    }\n",
       "</style>\n",
       "<table border=\"1\" class=\"dataframe\">\n",
       "  <thead>\n",
       "    <tr style=\"text-align: right;\">\n",
       "      <th></th>\n",
       "      <th>smiles</th>\n",
       "      <th>activity</th>\n",
       "      <th>HIV_active</th>\n",
       "    </tr>\n",
       "  </thead>\n",
       "  <tbody>\n",
       "    <tr>\n",
       "      <th>0</th>\n",
       "      <td>CCC1=[O+][Cu-3]2([O+]=C(CC)C1)[O+]=C(CC)CC(CC)...</td>\n",
       "      <td>CI</td>\n",
       "      <td>0</td>\n",
       "    </tr>\n",
       "    <tr>\n",
       "      <th>1</th>\n",
       "      <td>C(=Cc1ccccc1)C1=[O+][Cu-3]2([O+]=C(C=Cc3ccccc3...</td>\n",
       "      <td>CI</td>\n",
       "      <td>0</td>\n",
       "    </tr>\n",
       "    <tr>\n",
       "      <th>2</th>\n",
       "      <td>CC(=O)N1c2ccccc2Sc2c1ccc1ccccc21</td>\n",
       "      <td>CI</td>\n",
       "      <td>0</td>\n",
       "    </tr>\n",
       "    <tr>\n",
       "      <th>3</th>\n",
       "      <td>Nc1ccc(C=Cc2ccc(N)cc2S(=O)(=O)O)c(S(=O)(=O)O)c1</td>\n",
       "      <td>CI</td>\n",
       "      <td>0</td>\n",
       "    </tr>\n",
       "    <tr>\n",
       "      <th>4</th>\n",
       "      <td>O=S(=O)(O)CCS(=O)(=O)O</td>\n",
       "      <td>CI</td>\n",
       "      <td>0</td>\n",
       "    </tr>\n",
       "  </tbody>\n",
       "</table>\n",
       "</div>"
      ],
      "text/plain": [
       "                                              smiles activity  HIV_active\n",
       "0  CCC1=[O+][Cu-3]2([O+]=C(CC)C1)[O+]=C(CC)CC(CC)...       CI           0\n",
       "1  C(=Cc1ccccc1)C1=[O+][Cu-3]2([O+]=C(C=Cc3ccccc3...       CI           0\n",
       "2                   CC(=O)N1c2ccccc2Sc2c1ccc1ccccc21       CI           0\n",
       "3    Nc1ccc(C=Cc2ccc(N)cc2S(=O)(=O)O)c(S(=O)(=O)O)c1       CI           0\n",
       "4                             O=S(=O)(O)CCS(=O)(=O)O       CI           0"
      ]
     },
     "execution_count": 3,
     "metadata": {},
     "output_type": "execute_result"
    }
   ],
   "source": [
    "df = pd.read_csv(\"HIV.csv\")\n",
    "df.head()"
   ]
  },
  {
   "cell_type": "code",
   "execution_count": 4,
   "id": "9cfc6c87-00f9-4e90-8503-8552506bc5c6",
   "metadata": {},
   "outputs": [
    {
     "name": "stdout",
     "output_type": "stream",
     "text": [
      "CCC1=[O+][Cu-3]2([O+]=C(CC)C1)[O+]=C(CC)CC(CC)=[O+]2\n",
      "1\n"
     ]
    }
   ],
   "source": [
    "string = df.loc[0,'smiles']\n",
    "print(df.loc[0,'smiles'])\n",
    "print(string[3])"
   ]
  },
  {
   "cell_type": "code",
   "execution_count": 5,
   "id": "bf1518a8-a257-475d-9b4d-5759bfa5b5e5",
   "metadata": {},
   "outputs": [
    {
     "data": {
      "text/plain": [
       "activity\n",
       "CI    39684\n",
       "CM     1039\n",
       "CA      404\n",
       "Name: count, dtype: int64"
      ]
     },
     "execution_count": 5,
     "metadata": {},
     "output_type": "execute_result"
    }
   ],
   "source": [
    "df.value_counts(\"activity\")"
   ]
  },
  {
   "cell_type": "code",
   "execution_count": 6,
   "id": "476c8ecc-b806-4989-a409-017a3826e11b",
   "metadata": {},
   "outputs": [
    {
     "data": {
      "text/plain": [
       "HIV_active\n",
       "0    39684\n",
       "1     1443\n",
       "Name: count, dtype: int64"
      ]
     },
     "execution_count": 6,
     "metadata": {},
     "output_type": "execute_result"
    }
   ],
   "source": [
    "df.value_counts(\"HIV_active\")"
   ]
  },
  {
   "cell_type": "markdown",
   "id": "47148457-3ed7-404e-8968-f3cdc2716d74",
   "metadata": {},
   "source": [
    "## Transform into SELFIES representation"
   ]
  },
  {
   "cell_type": "code",
   "execution_count": 7,
   "id": "a5850e02-8e28-48ba-9eba-f10edcd1d4e3",
   "metadata": {},
   "outputs": [],
   "source": [
    "import selfies as sf"
   ]
  },
  {
   "cell_type": "code",
   "execution_count": 8,
   "id": "6f69bc41-fad9-473b-89ad-4f3d97ad378c",
   "metadata": {},
   "outputs": [],
   "source": [
    "# transform\n",
    "df_sf = df.copy()\n",
    "len_sf=[]\n",
    "for ind in range(len(df_sf['smiles'])):\n",
    "    try:\n",
    "       df_sf.loc[ind, 'smiles'] = sf.encoder(df_sf.loc[ind, 'smiles'])\n",
    "    except:\n",
    "        pass #sf.encoder error!\n",
    "\n",
    "    len_sf.append(sf.len_selfies(df_sf.loc[ind, 'smiles']))"
   ]
  },
  {
   "cell_type": "code",
   "execution_count": 9,
   "id": "bfad957c-054e-46fd-9393-6af10dead144",
   "metadata": {},
   "outputs": [
    {
     "data": {
      "text/html": [
       "<div>\n",
       "<style scoped>\n",
       "    .dataframe tbody tr th:only-of-type {\n",
       "        vertical-align: middle;\n",
       "    }\n",
       "\n",
       "    .dataframe tbody tr th {\n",
       "        vertical-align: top;\n",
       "    }\n",
       "\n",
       "    .dataframe thead th {\n",
       "        text-align: right;\n",
       "    }\n",
       "</style>\n",
       "<table border=\"1\" class=\"dataframe\">\n",
       "  <thead>\n",
       "    <tr style=\"text-align: right;\">\n",
       "      <th></th>\n",
       "      <th>selfies</th>\n",
       "      <th>activity</th>\n",
       "      <th>HIV_active</th>\n",
       "    </tr>\n",
       "  </thead>\n",
       "  <tbody>\n",
       "    <tr>\n",
       "      <th>0</th>\n",
       "      <td>[C][C][C][=O+1][Cu-3][Branch1][#Branch2][O+1][...</td>\n",
       "      <td>CI</td>\n",
       "      <td>0</td>\n",
       "    </tr>\n",
       "    <tr>\n",
       "      <th>1</th>\n",
       "      <td>[C][=Branch1][#Branch2][=C][C][=C][C][=C][C][=...</td>\n",
       "      <td>CI</td>\n",
       "      <td>0</td>\n",
       "    </tr>\n",
       "    <tr>\n",
       "      <th>2</th>\n",
       "      <td>[C][C][=Branch1][C][=O][N][C][=C][C][=C][C][=C...</td>\n",
       "      <td>CI</td>\n",
       "      <td>0</td>\n",
       "    </tr>\n",
       "    <tr>\n",
       "      <th>3</th>\n",
       "      <td>[N][C][=C][C][=C][Branch2][Ring1][=Branch1][C]...</td>\n",
       "      <td>CI</td>\n",
       "      <td>0</td>\n",
       "    </tr>\n",
       "    <tr>\n",
       "      <th>4</th>\n",
       "      <td>[O][=S][=Branch1][C][=O][Branch1][C][O][C][C][...</td>\n",
       "      <td>CI</td>\n",
       "      <td>0</td>\n",
       "    </tr>\n",
       "  </tbody>\n",
       "</table>\n",
       "</div>"
      ],
      "text/plain": [
       "                                             selfies activity  HIV_active\n",
       "0  [C][C][C][=O+1][Cu-3][Branch1][#Branch2][O+1][...       CI           0\n",
       "1  [C][=Branch1][#Branch2][=C][C][=C][C][=C][C][=...       CI           0\n",
       "2  [C][C][=Branch1][C][=O][N][C][=C][C][=C][C][=C...       CI           0\n",
       "3  [N][C][=C][C][=C][Branch2][Ring1][=Branch1][C]...       CI           0\n",
       "4  [O][=S][=Branch1][C][=O][Branch1][C][O][C][C][...       CI           0"
      ]
     },
     "execution_count": 9,
     "metadata": {},
     "output_type": "execute_result"
    }
   ],
   "source": [
    "df_sf.rename({'smiles':'selfies'}, axis='columns', inplace=True)\n",
    "df_sf.head()"
   ]
  },
  {
   "cell_type": "code",
   "execution_count": 10,
   "id": "a0a4f76f-a92e-4c7c-b7d0-6d1139f05e3b",
   "metadata": {},
   "outputs": [
    {
     "name": "stdout",
     "output_type": "stream",
     "text": [
      "[C][C][C][=O+1][Cu-3][Branch1][#Branch2][O+1][=C][Branch1][Ring1][C][C][C][Ring1][Branch2][O+1][=C][Branch1][Ring1][C][C][C][C][Branch1][Ring1][C][C][=O+1][Ring1][#C]\n"
     ]
    }
   ],
   "source": [
    "string_sf = df_sf.loc[0,'selfies']\n",
    "print(df_sf.loc[0,'selfies'])"
   ]
  },
  {
   "cell_type": "code",
   "execution_count": 11,
   "id": "3f2dacf0-6af4-416d-a8cc-691774292b2e",
   "metadata": {},
   "outputs": [
    {
     "name": "stdout",
     "output_type": "stream",
     "text": [
      "41.75984146667639\n",
      "21.70874260604909\n"
     ]
    }
   ],
   "source": [
    "# Compute mean and standard deviation\n",
    "print(np.mean(len_sf))\n",
    "print(np.std(len_sf))"
   ]
  },
  {
   "cell_type": "code",
   "execution_count": 12,
   "id": "6f35b678-0055-4d8f-bbda-b83134eee82e",
   "metadata": {},
   "outputs": [
    {
     "data": {
      "image/png": "[encoded data removed]",
      "text/plain": [
       "<Figure size 1200x600 with 1 Axes>"
      ]
     },
     "metadata": {},
     "output_type": "display_data"
    }
   ],
   "source": [
    "# Create a histogram\n",
    "plt.figure(figsize=(12, 6))\n",
    "plt.hist(len_sf, bins=range(min(len_sf), max(len_sf) + 1), alpha=0.75, edgecolor='black')\n",
    "plt.title('Histogram of SELFIES String Lengths')\n",
    "plt.xlabel('Length of SELFIES String')\n",
    "plt.ylabel('Count')\n",
    "plt.grid(axis='y', alpha=0.75)\n",
    "plt.show()"
   ]
  },
  {
   "cell_type": "markdown",
   "id": "431d66fd-b7e7-4781-8f43-ed755768269e",
   "metadata": {},
   "source": [
    "## Padding, tokenization, and embedding"
   ]
  },
  {
   "cell_type": "code",
   "execution_count": 13,
   "id": "94b83267-6e24-4d2a-a72d-b7b680685ba0",
   "metadata": {},
   "outputs": [],
   "source": [
    "def split_selfies(string_sf):\n",
    "    # This regex matches anything inside brackets\n",
    "    selfies_elements = re.findall(r'\\[.*?]', string_sf)\n",
    "    return selfies_elements\n",
    "\n",
    "'''\n",
    "# Example usage:\n",
    "string_sf = df_sf.loc[0, 'selfies']\n",
    "selfies_list = split_selfies(string_sf)\n",
    "print(selfies_list)\n",
    "'''\n",
    "\n",
    "def pad_start_end_token(dataset):\n",
    "    \"\"\"\n",
    "    Pad a list of SMILES with \"SOS\" and \"EOS\" token\n",
    "    \n",
    "    Parameters\n",
    "    ----------\n",
    "    smiles: list of str\n",
    "        A list containing SMILES strings to pad\n",
    "    \n",
    "    Returns\n",
    "    ------\n",
    "    padded: list of list of str\n",
    "        A list containing padded SMILES strings. Example: [['SOS', 'C', 'EOS'], ...]\n",
    "    \"\"\"\n",
    "    padded = []\n",
    "    for ind in range(len(dataset['selfies'])):\n",
    "        padded.append([\"[SOS]\"] + split_selfies(df_sf.loc[ind, 'selfies']) + [\"[EOS]\"])\n",
    "    return padded"
   ]
  },
  {
   "cell_type": "code",
   "execution_count": 14,
   "id": "96d2d2ea-3285-419d-8512-4ea020c2b019",
   "metadata": {},
   "outputs": [
    {
     "data": {
      "text/plain": [
       "{'[#Branch1]': 0,\n",
       " '[#Branch2]': 1,\n",
       " '[#C-1]': 2,\n",
       " '[#C]': 3,\n",
       " '[#N+1]': 4,\n",
       " '[#N]': 5,\n",
       " '[#O+1]': 6,\n",
       " '[=As]': 7,\n",
       " '[=B-1]': 8,\n",
       " '[=Branch1]': 9,\n",
       " '[=Branch2]': 10,\n",
       " '[=Branch3]': 11,\n",
       " '[=C-1]': 12,\n",
       " '[=C]': 13,\n",
       " '[=Fe]': 14,\n",
       " '[=N+1]': 15,\n",
       " '[=N-1]': 16,\n",
       " '[=NH1+1]': 17,\n",
       " '[=NH2+1]': 18,\n",
       " '[=N]': 19,\n",
       " '[=O+1]': 20,\n",
       " '[=OH1+1]': 21,\n",
       " '[=O]': 22,\n",
       " '[=PH1]': 23,\n",
       " '[=P]': 24,\n",
       " '[=Pd-3]': 25,\n",
       " '[=Re+1]': 26,\n",
       " '[=Ring1]': 27,\n",
       " '[=Ring2]': 28,\n",
       " '[=S+1]': 29,\n",
       " '[=S]': 30,\n",
       " '[=Sb]': 31,\n",
       " '[=Se]': 32,\n",
       " '[=W]': 33,\n",
       " '[Ac]': 34,\n",
       " '[Ag-1]': 35,\n",
       " '[Ag]': 36,\n",
       " '[AlH3-1]': 37,\n",
       " '[AlH3-3]': 38,\n",
       " '[Al]': 39,\n",
       " '[As+1]': 40,\n",
       " '[AsH1]': 41,\n",
       " '[As]': 42,\n",
       " '[Au-1]': 43,\n",
       " '[Au-3]': 44,\n",
       " '[Au]': 45,\n",
       " '[B+1]': 46,\n",
       " '[B+2]': 47,\n",
       " '[B-1]': 48,\n",
       " '[B-2]': 49,\n",
       " '[BH2-1]': 50,\n",
       " '[BH3-1]': 51,\n",
       " '[B]': 52,\n",
       " '[Bi+1]': 53,\n",
       " '[Bi]': 54,\n",
       " '[Br-1]': 55,\n",
       " '[BrH1+1]': 56,\n",
       " '[BrH2+1]': 57,\n",
       " '[Br]': 58,\n",
       " '[Branch1]': 59,\n",
       " '[Branch2]': 60,\n",
       " '[Branch3]': 61,\n",
       " '[C+1]': 62,\n",
       " '[C+]': 63,\n",
       " '[C-1]': 64,\n",
       " '[C-]': 65,\n",
       " '[CH+]': 66,\n",
       " '[CH-]': 67,\n",
       " '[CH1-1]': 68,\n",
       " '[CH2-1]': 69,\n",
       " '[C]': 70,\n",
       " '[Ca-2]': 71,\n",
       " '[Ca-4]': 72,\n",
       " '[CaH2]': 73,\n",
       " '[Cl+3]': 74,\n",
       " '[Cl-1]': 75,\n",
       " '[ClH1+1]': 76,\n",
       " '[ClH2+1]': 77,\n",
       " '[Cl]': 78,\n",
       " '[Co+2]': 79,\n",
       " '[Co-2]': 80,\n",
       " '[Co-3]': 81,\n",
       " '[Co-4]': 82,\n",
       " '[Co]': 83,\n",
       " '[Cr]': 84,\n",
       " '[Cs+1]': 85,\n",
       " '[Cu+2]': 86,\n",
       " '[Cu-1]': 87,\n",
       " '[Cu-2]': 88,\n",
       " '[Cu-3]': 89,\n",
       " '[Cu-4]': 90,\n",
       " '[Cu-5]': 91,\n",
       " '[Cu]': 92,\n",
       " '[EOS]': 93,\n",
       " '[FH1+1]': 94,\n",
       " '[F]': 95,\n",
       " '[Fe+1]': 96,\n",
       " '[Fe+2]': 97,\n",
       " '[Fe+3]': 98,\n",
       " '[Fe-1]': 99,\n",
       " '[Fe-2]': 100,\n",
       " '[Fe-3]': 101,\n",
       " '[Fe-4]': 102,\n",
       " '[Fe]': 103,\n",
       " '[Ga-1]': 104,\n",
       " '[Ga-3]': 105,\n",
       " '[GaH3]': 106,\n",
       " '[Ga]': 107,\n",
       " '[Gd+3]': 108,\n",
       " '[GeH2+1]': 109,\n",
       " '[Ge]': 110,\n",
       " '[H+1]': 111,\n",
       " '[H-1]': 112,\n",
       " '[H]': 113,\n",
       " '[Hg-1]': 114,\n",
       " '[Hg-2]': 115,\n",
       " '[Hg]': 116,\n",
       " '[Ho]': 117,\n",
       " '[I+1]': 118,\n",
       " '[I-1]': 119,\n",
       " '[I-]': 120,\n",
       " '[IH2+1]': 121,\n",
       " '[IH2]': 122,\n",
       " '[I]': 123,\n",
       " '[Ir+1]': 124,\n",
       " '[Ir+3]': 125,\n",
       " '[Ir-3]': 126,\n",
       " '[Ir-4]': 127,\n",
       " '[K+1]': 128,\n",
       " '[KH1]': 129,\n",
       " '[LiH1]': 130,\n",
       " '[Li]': 131,\n",
       " '[MgH1]': 132,\n",
       " '[MgH2]': 133,\n",
       " '[Mg]': 134,\n",
       " '[Mn+1]': 135,\n",
       " '[Mn+2]': 136,\n",
       " '[Mn+3]': 137,\n",
       " '[Mn]': 138,\n",
       " '[Mo+1]': 139,\n",
       " '[Mo+2]': 140,\n",
       " '[Mo+]': 141,\n",
       " '[Mo-1]': 142,\n",
       " '[Mo-3]': 143,\n",
       " '[Mo]': 144,\n",
       " '[N+1]': 145,\n",
       " '[N+]': 146,\n",
       " '[N-1]': 147,\n",
       " '[N-]': 148,\n",
       " '[NH+]': 149,\n",
       " '[NH1+1]': 150,\n",
       " '[NH1-1]': 151,\n",
       " '[NH1]': 152,\n",
       " '[NH2+1]': 153,\n",
       " '[N]': 154,\n",
       " '[Na+1]': 155,\n",
       " '[NaH1]': 156,\n",
       " '[Na]': 157,\n",
       " '[Ni-2]': 158,\n",
       " '[Ni-3]': 159,\n",
       " '[Ni-4]': 160,\n",
       " '[Ni]': 161,\n",
       " '[O+1]': 162,\n",
       " '[O+]': 163,\n",
       " '[O-1]': 164,\n",
       " '[O-]': 165,\n",
       " '[OH+]': 166,\n",
       " '[OH1+1]': 167,\n",
       " '[OH2+1]': 168,\n",
       " '[O]': 169,\n",
       " '[P+1]': 170,\n",
       " '[P+]': 171,\n",
       " '[P-1]': 172,\n",
       " '[P-]': 173,\n",
       " '[PH-]': 174,\n",
       " '[PH1]': 175,\n",
       " '[PH]': 176,\n",
       " '[P]': 177,\n",
       " '[Pb]': 178,\n",
       " '[Pd+2]': 179,\n",
       " '[Pd-2]': 180,\n",
       " '[Pd-3]': 181,\n",
       " '[Pd-4]': 182,\n",
       " '[Pt+2]': 183,\n",
       " '[Pt-2]': 184,\n",
       " '[Pt-3]': 185,\n",
       " '[Pt-4]': 186,\n",
       " '[Pt]': 187,\n",
       " '[Re+1]': 188,\n",
       " '[Rh+2]': 189,\n",
       " '[Rh-4]': 190,\n",
       " '[Ring1]': 191,\n",
       " '[Ring2]': 192,\n",
       " '[Ru+1]': 193,\n",
       " '[Ru+2]': 194,\n",
       " '[Ru-2]': 195,\n",
       " '[Ru-4]': 196,\n",
       " '[Ru]': 197,\n",
       " '[S+1]': 198,\n",
       " '[S+]': 199,\n",
       " '[S-1]': 200,\n",
       " '[S-2]': 201,\n",
       " '[SH+]': 202,\n",
       " '[SH1+1]': 203,\n",
       " '[SH1]': 204,\n",
       " '[SOS]': 205,\n",
       " '[S]': 206,\n",
       " '[Sb+1]': 207,\n",
       " '[Sb]': 208,\n",
       " '[Se]': 209,\n",
       " '[SiH1-1]': 210,\n",
       " '[SiH1]': 211,\n",
       " '[Si]': 212,\n",
       " '[Sn]': 213,\n",
       " '[Tb]': 214,\n",
       " '[Te]': 215,\n",
       " '[Ti-2]': 216,\n",
       " '[Ti]': 217,\n",
       " '[Tl-1]': 218,\n",
       " '[Tl-3]': 219,\n",
       " '[U+2]': 220,\n",
       " '[U-5]': 221,\n",
       " '[U]': 222,\n",
       " '[V+]': 223,\n",
       " '[V-1]': 224,\n",
       " '[W+2]': 225,\n",
       " '[W]': 226,\n",
       " '[Zn-2]': 227,\n",
       " '[Zn-3]': 228,\n",
       " '[Zn-4]': 229,\n",
       " '[Zn]': 230,\n",
       " '[Zr]': 231}"
      ]
     },
     "execution_count": 14,
     "metadata": {},
     "output_type": "execute_result"
    }
   ],
   "source": [
    "padded_sf = pad_start_end_token(df_sf)\n",
    "vocab = {element: idx for idx, element in enumerate(np.unique(np.concatenate(padded_sf)))}\n",
    "vocab"
   ]
  },
  {
   "cell_type": "code",
   "execution_count": 15,
   "id": "ace65e4b-cfb7-4e83-8402-518238c8ff2a",
   "metadata": {},
   "outputs": [],
   "source": [
    "def tokenize_selfies(selfies_list, vocab):\n",
    "    \"\"\"Convert a list of SELFIES elements to a list of indices based on the vocabulary (One-hot encoding).\"\"\"\n",
    "    return [vocab[element] for element in selfies_list if element in vocab]\n",
    "\n",
    "\n",
    "\n",
    "class SelfiesEmbedding(nn.Module):\n",
    "    def __init__(self, vocab_size, embedding_dim):\n",
    "        super(SelfiesEmbedding, self).__init__()\n",
    "        self.embedding = nn.Embedding(num_embeddings=vocab_size, embedding_dim=embedding_dim)\n",
    "\n",
    "    def forward(self, x):\n",
    "        return self.embedding(x)"
   ]
  },
  {
   "cell_type": "code",
   "execution_count": 16,
   "id": "03aa5c5d-5de2-4850-b5a8-cb33a4e4363a",
   "metadata": {},
   "outputs": [],
   "source": [
    "tokenized_selfies = [tokenize_selfies(selfies, vocab) for selfies in padded_sf]\n",
    "\n",
    "# Instantiate the embedding layer\n",
    "vocab_size = len(vocab)  # Size of your vocabulary\n",
    "embedding_dim = 64  # The size of each embedding vector, which you can choose\n",
    "selfies_embedding_layer = SelfiesEmbedding(vocab_size, embedding_dim)\n",
    "\n",
    "# Convert a list of tokenized selfies to a tensor and pass it through the embedding layer\n",
    "# Pad the sequences to the same length to create a tensor\n",
    "from torch.nn.utils.rnn import pad_sequence\n",
    "padded_tokenized_selfies = pad_sequence([torch.tensor(ts) for ts in tokenized_selfies],\n",
    "                                        batch_first=True,\n",
    "                                        padding_value=0)  # assuming 0 is the padding index\n",
    "\n",
    "# Get embeddings for the batch of tokenized SELFIES\n",
    "embedded_selfies = selfies_embedding_layer(padded_tokenized_selfies)\n"
   ]
  },
  {
   "cell_type": "code",
   "execution_count": 27,
   "id": "c8635e8c-63c6-43db-b69b-4830dc00baff",
   "metadata": {},
   "outputs": [
    {
     "name": "stdout",
     "output_type": "stream",
     "text": [
      "41127\n",
      "torch.Size([41127, 399, 64])\n"
     ]
    }
   ],
   "source": [
    "print(len(tokenized_selfies))\n",
    "print(embedded_selfies.shape)"
   ]
  },
  {
   "cell_type": "markdown",
   "id": "ccb3f9de-e04a-4c43-87e5-e69e1b9c4d80",
   "metadata": {},
   "source": [
    "[41127, 399, 128] indicates: <br>\n",
    "41127: the amount of the dataset <br>\n",
    "399: the largest length of selfies string; after the pad_sequence function, all strings should have the same length which is 399 <br>\n",
    "128: the dimension after the embedding <br>"
   ]
  },
  {
   "cell_type": "markdown",
   "id": "faaa5360-6f66-4caf-a9b6-ea825f292f78",
   "metadata": {},
   "source": [
    "## Transform Selfies to Graph"
   ]
  },
  {
   "cell_type": "code",
   "execution_count": 18,
   "id": "12863822-bde3-4eef-b1c6-b99ce0660cf9",
   "metadata": {},
   "outputs": [
    {
     "name": "stdout",
     "output_type": "stream",
     "text": [
      "Data(x=[399, 64], edge_index=[2, 64])\n"
     ]
    }
   ],
   "source": [
    "import torch\n",
    "from torch_geometric.data import Data\n",
    "\n",
    "def create_graph_data_object(tokenized_selfies, embedded_selfies):\n",
    "    \"\"\"\n",
    "    Creates a graph data object for each molecule.\n",
    "    \n",
    "    Parameters:\n",
    "    - tokenized_selfies: List of lists, where each sublist is a sequence of token indices for a molecule.\n",
    "    - embedded_selfies: Tensor containing embedded vectors for each token in the tokenized_selfies.\n",
    "    \n",
    "    Returns:\n",
    "    - List of Data objects, one for each molecule.\n",
    "    \"\"\"\n",
    "    graph_data_list = []\n",
    "    \n",
    "    for i, token_list in enumerate(tokenized_selfies):\n",
    "        # Get node features from embeddings\n",
    "        node_features = embedded_selfies[i]\n",
    "        \n",
    "        # Create edges\n",
    "        # Connects each node to the next, creating a path graph\n",
    "        edge_index = []\n",
    "        for j in range(len(token_list) - 1):\n",
    "            edge_index.append([j, j + 1])\n",
    "            edge_index.append([j + 1, j])  # Adding reverse edge for undirected graph\n",
    "            \n",
    "        edge_index = torch.tensor(edge_index, dtype=torch.long).t().contiguous()\n",
    "        \n",
    "        # Create a graph data object\n",
    "        data = Data(x=node_features, edge_index=edge_index)\n",
    "        graph_data_list.append(data)\n",
    "    \n",
    "    return graph_data_list\n",
    "\n",
    "# Assume embedded_selfies is a padded tensor where each row corresponds to embeddings of a molecule\n",
    "graph_data_list = create_graph_data_object(tokenized_selfies, embedded_selfies)\n",
    "\n",
    "# Print the first graph object\n",
    "print(graph_data_list[0])\n"
   ]
  },
  {
   "cell_type": "code",
   "execution_count": 22,
   "id": "e7e0a9f8-7c7d-48f8-a1bf-42f9f2200eb2",
   "metadata": {},
   "outputs": [
    {
     "data": {
      "image/png": "[encoded data removed]",
      "text/plain": [
       "<Figure size 800x800 with 1 Axes>"
      ]
     },
     "metadata": {},
     "output_type": "display_data"
    }
   ],
   "source": [
    "import networkx as nx\n",
    "\n",
    "def plot_graph(data):\n",
    "    \"\"\"\n",
    "    Plot a graph from a PyTorch Geometric Data object.\n",
    "    \n",
    "    Parameters:\n",
    "    - data: PyTorch Geometric Data object containing edge_index and x (node features).\n",
    "    \"\"\"\n",
    "    # Create a networkx graph\n",
    "    G = nx.Graph()\n",
    "\n",
    "    # Add edges\n",
    "    edge_index = data.edge_index.numpy()\n",
    "    num_edges = edge_index.shape[1]\n",
    "    for i in range(0, num_edges, 2):  # step by 2 to avoid adding edges twice\n",
    "        G.add_edge(edge_index[0][i], edge_index[1][i])\n",
    "\n",
    "    # Draw the graph\n",
    "    plt.figure(figsize=(8, 8))\n",
    "    nx.draw(G, with_labels=True, node_color='skyblue', node_size=700, edge_color='#FF5733', font_size=15, font_weight='bold')\n",
    "    plt.show()\n",
    "\n",
    "# Example usage: Plot the first graph object\n",
    "if len(graph_data_list) > 0:\n",
    "    plot_graph(graph_data_list[0])\n"
   ]
  },
  {
   "cell_type": "markdown",
   "id": "7b6cf5ba-1317-4dfb-867b-4ccafecd0b94",
   "metadata": {},
   "source": [
    "## GNN"
   ]
  },
  {
   "cell_type": "code",
   "execution_count": 32,
   "id": "f26293ba-e57f-49e3-a12c-707434feef89",
   "metadata": {},
   "outputs": [
    {
     "name": "stdout",
     "output_type": "stream",
     "text": [
      "activity\n",
      "CI    1000\n",
      "CM     700\n",
      "CA     300\n",
      "Name: count, dtype: int64\n"
     ]
    }
   ],
   "source": [
    "# 首先根據活性分類進行過濾和抽樣\n",
    "sampled_df = pd.DataFrame()  # 初始化一個空的DataFrame用於儲存抽樣結果\n",
    "\n",
    "# 進行隨機抽樣\n",
    "ci_samples = df_sf[df_sf['activity'] == 'CI'].sample(n=1000, random_state=42)  # 從CI類中隨機選取1000個樣本\n",
    "ca_samples = df_sf[df_sf['activity'] == 'CA'].sample(n=300, random_state=42)   # 從CA類中隨機選取300個樣本\n",
    "cm_samples = df_sf[df_sf['activity'] == 'CM'].sample(n=700, random_state=42)   # 從CM類中隨機選取700個樣本\n",
    "\n",
    "# 合併這些抽樣結果到一個新的DataFrame中\n",
    "sampled_df = pd.concat([ci_samples, ca_samples, cm_samples], ignore_index=True)\n",
    "\n",
    "# 檢查抽樣結果\n",
    "print(sampled_df['activity'].value_counts())"
   ]
  },
  {
   "cell_type": "code",
   "execution_count": 33,
   "id": "ab17a5b8-0c8a-4afc-bb01-056ef8ca613b",
   "metadata": {},
   "outputs": [
    {
     "name": "stdout",
     "output_type": "stream",
     "text": [
      "Total graphs in the sampled dataset: 2000\n"
     ]
    }
   ],
   "source": [
    "# 過濾出已經創建的圖數據對象，使其只包含抽樣的樣本\n",
    "filtered_graph_data_list = [graph_data_list[i] for i in sampled_df.index]\n",
    "\n",
    "# 現在 filtered_graph_data_list 包含了隨機抽取的樣本的圖結構\n",
    "print(f\"Total graphs in the sampled dataset: {len(filtered_graph_data_list)}\")\n"
   ]
  },
  {
   "cell_type": "code",
   "execution_count": null,
   "id": "2972f2a6-aa70-4e55-911d-ef58b6b8113b",
   "metadata": {},
   "outputs": [],
   "source": []
  }
 ],
 "metadata": {
  "kernelspec": {
   "display_name": "c142",
   "language": "python",
   "name": "c142"
  },
  "language_info": {
   "codemirror_mode": {
    "name": "ipython",
    "version": 3
   },
   "file_extension": ".py",
   "mimetype": "text/x-python",
   "name": "python",
   "nbconvert_exporter": "python",
   "pygments_lexer": "ipython3",
   "version": "3.8.12"
  }
 },
 "nbformat": 4,
 "nbformat_minor": 5
}
